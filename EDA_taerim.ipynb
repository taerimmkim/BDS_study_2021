{
 "cells": [
  {
   "cell_type": "code",
   "execution_count": 1,
   "metadata": {},
   "outputs": [],
   "source": [
    "import numpy as np\n",
    "import pandas as pd\n",
    "import glob\n",
    "import matplotlib.pyplot as plt\n",
    "import seaborn as sns"
   ]
  },
  {
   "cell_type": "code",
   "execution_count": 2,
   "metadata": {},
   "outputs": [],
   "source": [
    "from datetime import timedelta, datetime\n",
    "from itertools import chain\n",
    "import json\n",
    "import os\n",
    "import re"
   ]
  },
  {
   "cell_type": "code",
   "execution_count": 3,
   "metadata": {},
   "outputs": [],
   "source": [
    "meta = pd.read_json(\"data/metadata.json\", lines=True)\n",
    "magazine = pd.read_json(\"data/magazine.json\", lines=True)\n",
    "user = pd.read_json(\"data/users.json\", lines=True)"
   ]
  },
  {
   "cell_type": "code",
   "execution_count": 4,
   "metadata": {},
   "outputs": [],
   "source": [
    "pd.set_option('display.max_columns', None)\n",
    "pd.set_option('display.max_rows', None)\n",
    "pd.set_option('display.max_colwidth', None)"
   ]
  },
  {
   "cell_type": "markdown",
   "metadata": {},
   "source": [
    "## Metadata "
   ]
  },
  {
   "cell_type": "code",
   "execution_count": 5,
   "metadata": {},
   "outputs": [
    {
     "data": {
      "text/plain": [
       "(643104, 9)"
      ]
     },
     "execution_count": 5,
     "metadata": {},
     "output_type": "execute_result"
    }
   ],
   "source": [
    "meta.shape"
   ]
  },
  {
   "cell_type": "code",
   "execution_count": 6,
   "metadata": {},
   "outputs": [
    {
     "data": {
      "text/html": [
       "<div>\n",
       "<style scoped>\n",
       "    .dataframe tbody tr th:only-of-type {\n",
       "        vertical-align: middle;\n",
       "    }\n",
       "\n",
       "    .dataframe tbody tr th {\n",
       "        vertical-align: top;\n",
       "    }\n",
       "\n",
       "    .dataframe thead th {\n",
       "        text-align: right;\n",
       "    }\n",
       "</style>\n",
       "<table border=\"1\" class=\"dataframe\">\n",
       "  <thead>\n",
       "    <tr style=\"text-align: right;\">\n",
       "      <th></th>\n",
       "      <th>magazine_id</th>\n",
       "      <th>user_id</th>\n",
       "      <th>title</th>\n",
       "      <th>keyword_list</th>\n",
       "      <th>display_url</th>\n",
       "      <th>sub_title</th>\n",
       "      <th>reg_ts</th>\n",
       "      <th>article_id</th>\n",
       "      <th>id</th>\n",
       "    </tr>\n",
       "  </thead>\n",
       "  <tbody>\n",
       "    <tr>\n",
       "      <th>0</th>\n",
       "      <td>8982</td>\n",
       "      <td>@bookdb</td>\n",
       "      <td>사진으로 옮기기에도 아까운, 리치필드 국립공원</td>\n",
       "      <td>[여행, 호주, 국립공원]</td>\n",
       "      <td>https://brunch.co.kr/@bookdb/782</td>\n",
       "      <td>세상 어디에도 없는 호주 Top 10</td>\n",
       "      <td>1474944427000</td>\n",
       "      <td>782</td>\n",
       "      <td>@bookdb_782</td>\n",
       "    </tr>\n",
       "    <tr>\n",
       "      <th>1</th>\n",
       "      <td>12081</td>\n",
       "      <td>@kohwang56</td>\n",
       "      <td>[시] 서러운 봄</td>\n",
       "      <td>[목련꽃, 아지랑이, 동행]</td>\n",
       "      <td>https://brunch.co.kr/@kohwang56/81</td>\n",
       "      <td></td>\n",
       "      <td>1463092749000</td>\n",
       "      <td>81</td>\n",
       "      <td>@kohwang56_81</td>\n",
       "    </tr>\n",
       "    <tr>\n",
       "      <th>2</th>\n",
       "      <td>0</td>\n",
       "      <td>@hannahajink</td>\n",
       "      <td>무엇을 위해</td>\n",
       "      <td>[]</td>\n",
       "      <td>https://brunch.co.kr/@hannahajink/4</td>\n",
       "      <td>무엇 때문에</td>\n",
       "      <td>1447997287000</td>\n",
       "      <td>4</td>\n",
       "      <td>@hannahajink_4</td>\n",
       "    </tr>\n",
       "    <tr>\n",
       "      <th>3</th>\n",
       "      <td>16315</td>\n",
       "      <td>@bryceandjuli</td>\n",
       "      <td>싫다</td>\n",
       "      <td>[감정, 마음, 위로]</td>\n",
       "      <td>https://brunch.co.kr/@bryceandjuli/88</td>\n",
       "      <td></td>\n",
       "      <td>1491055161000</td>\n",
       "      <td>88</td>\n",
       "      <td>@bryceandjuli_88</td>\n",
       "    </tr>\n",
       "    <tr>\n",
       "      <th>4</th>\n",
       "      <td>29363</td>\n",
       "      <td>@mijeongpark</td>\n",
       "      <td>Dubliner#7</td>\n",
       "      <td>[유럽여행, 더블린, 아일랜드]</td>\n",
       "      <td>https://brunch.co.kr/@mijeongpark/34</td>\n",
       "      <td>#7. 내 친구의 집은 어디인가</td>\n",
       "      <td>1523292942000</td>\n",
       "      <td>34</td>\n",
       "      <td>@mijeongpark_34</td>\n",
       "    </tr>\n",
       "  </tbody>\n",
       "</table>\n",
       "</div>"
      ],
      "text/plain": [
       "   magazine_id        user_id                      title       keyword_list  \\\n",
       "0         8982        @bookdb  사진으로 옮기기에도 아까운, 리치필드 국립공원     [여행, 호주, 국립공원]   \n",
       "1        12081     @kohwang56                  [시] 서러운 봄    [목련꽃, 아지랑이, 동행]   \n",
       "2            0   @hannahajink                     무엇을 위해                 []   \n",
       "3        16315  @bryceandjuli                         싫다       [감정, 마음, 위로]   \n",
       "4        29363   @mijeongpark                 Dubliner#7  [유럽여행, 더블린, 아일랜드]   \n",
       "\n",
       "                             display_url             sub_title         reg_ts  \\\n",
       "0       https://brunch.co.kr/@bookdb/782  세상 어디에도 없는 호주 Top 10  1474944427000   \n",
       "1     https://brunch.co.kr/@kohwang56/81                        1463092749000   \n",
       "2    https://brunch.co.kr/@hannahajink/4                무엇 때문에  1447997287000   \n",
       "3  https://brunch.co.kr/@bryceandjuli/88                        1491055161000   \n",
       "4   https://brunch.co.kr/@mijeongpark/34     #7. 내 친구의 집은 어디인가  1523292942000   \n",
       "\n",
       "   article_id                id  \n",
       "0         782       @bookdb_782  \n",
       "1          81     @kohwang56_81  \n",
       "2           4    @hannahajink_4  \n",
       "3          88  @bryceandjuli_88  \n",
       "4          34   @mijeongpark_34  "
      ]
     },
     "execution_count": 6,
     "metadata": {},
     "output_type": "execute_result"
    }
   ],
   "source": [
    "meta.head()"
   ]
  },
  {
   "cell_type": "code",
   "execution_count": null,
   "metadata": {},
   "outputs": [],
   "source": []
  },
  {
   "cell_type": "code",
   "execution_count": 7,
   "metadata": {},
   "outputs": [
    {
     "data": {
      "text/plain": [
       "28028"
      ]
     },
     "execution_count": 7,
     "metadata": {},
     "output_type": "execute_result"
    }
   ],
   "source": [
    "len(meta['magazine_id'].unique())"
   ]
  },
  {
   "cell_type": "code",
   "execution_count": 8,
   "metadata": {},
   "outputs": [
    {
     "data": {
      "text/plain": [
       "19065"
      ]
     },
     "execution_count": 8,
     "metadata": {},
     "output_type": "execute_result"
    }
   ],
   "source": [
    "len(meta['user_id'].unique())"
   ]
  },
  {
   "cell_type": "code",
   "execution_count": 9,
   "metadata": {
    "scrolled": true
   },
   "outputs": [
    {
     "data": {
      "text/plain": [
       "4217"
      ]
     },
     "execution_count": 9,
     "metadata": {},
     "output_type": "execute_result"
    }
   ],
   "source": [
    "len(meta['article_id'].unique())"
   ]
  },
  {
   "cell_type": "code",
   "execution_count": 10,
   "metadata": {},
   "outputs": [
    {
     "data": {
      "text/html": [
       "<div>\n",
       "<style scoped>\n",
       "    .dataframe tbody tr th:only-of-type {\n",
       "        vertical-align: middle;\n",
       "    }\n",
       "\n",
       "    .dataframe tbody tr th {\n",
       "        vertical-align: top;\n",
       "    }\n",
       "\n",
       "    .dataframe thead th {\n",
       "        text-align: right;\n",
       "    }\n",
       "</style>\n",
       "<table border=\"1\" class=\"dataframe\">\n",
       "  <thead>\n",
       "    <tr style=\"text-align: right;\">\n",
       "      <th></th>\n",
       "      <th>magazine_id</th>\n",
       "      <th>user_id</th>\n",
       "      <th>title</th>\n",
       "      <th>keyword_list</th>\n",
       "      <th>display_url</th>\n",
       "      <th>sub_title</th>\n",
       "      <th>reg_ts</th>\n",
       "      <th>article_id</th>\n",
       "      <th>id</th>\n",
       "    </tr>\n",
       "  </thead>\n",
       "  <tbody>\n",
       "    <tr>\n",
       "      <th>283495</th>\n",
       "      <td>8982</td>\n",
       "      <td>@bookdb</td>\n",
       "      <td>세계 최강 기업의 뼈를 깎는 자기 혁신</td>\n",
       "      <td>[도요타자동차, 도요타, 경영]</td>\n",
       "      <td>https://brunch.co.kr/@bookdb/1008</td>\n",
       "      <td>왜 다시 도요타인가</td>\n",
       "      <td>1480405541000</td>\n",
       "      <td>1008</td>\n",
       "      <td>@bookdb_1008</td>\n",
       "    </tr>\n",
       "    <tr>\n",
       "      <th>337959</th>\n",
       "      <td>8982</td>\n",
       "      <td>@bookdb</td>\n",
       "      <td>[환해장성] 죽지 않기 위한 제주인의 몸부림</td>\n",
       "      <td>[제주바다, 제주올레, 제주도]</td>\n",
       "      <td>https://brunch.co.kr/@bookdb/1014</td>\n",
       "      <td></td>\n",
       "      <td>1480556053000</td>\n",
       "      <td>1014</td>\n",
       "      <td>@bookdb_1014</td>\n",
       "    </tr>\n",
       "    <tr>\n",
       "      <th>569683</th>\n",
       "      <td>8982</td>\n",
       "      <td>@bookdb</td>\n",
       "      <td>아버지는 다들 어디로 떠났을까-&lt;버려진 아들의 심리학&gt;</td>\n",
       "      <td>[니체, 아버지, 심리학]</td>\n",
       "      <td>https://brunch.co.kr/@bookdb/1020</td>\n",
       "      <td></td>\n",
       "      <td>1480658615000</td>\n",
       "      <td>1020</td>\n",
       "      <td>@bookdb_1020</td>\n",
       "    </tr>\n",
       "    <tr>\n",
       "      <th>390947</th>\n",
       "      <td>8982</td>\n",
       "      <td>@bookdb</td>\n",
       "      <td>인사도 연습해야 는다</td>\n",
       "      <td>[인사, 연습, 습관]</td>\n",
       "      <td>https://brunch.co.kr/@bookdb/1030</td>\n",
       "      <td>말만 하는 부모, 상처 받는 아이</td>\n",
       "      <td>1480997028000</td>\n",
       "      <td>1030</td>\n",
       "      <td>@bookdb_1030</td>\n",
       "    </tr>\n",
       "    <tr>\n",
       "      <th>277752</th>\n",
       "      <td>8982</td>\n",
       "      <td>@bookdb</td>\n",
       "      <td>[올레] 열리면서도 닫힌 공간 건축의 백미</td>\n",
       "      <td>[제주올레, 제주도, 도시개발]</td>\n",
       "      <td>https://brunch.co.kr/@bookdb/1037</td>\n",
       "      <td>제주는 그런 곳이 아니야</td>\n",
       "      <td>1481163453000</td>\n",
       "      <td>1037</td>\n",
       "      <td>@bookdb_1037</td>\n",
       "    </tr>\n",
       "  </tbody>\n",
       "</table>\n",
       "</div>"
      ],
      "text/plain": [
       "        magazine_id  user_id                           title  \\\n",
       "283495         8982  @bookdb           세계 최강 기업의 뼈를 깎는 자기 혁신   \n",
       "337959         8982  @bookdb        [환해장성] 죽지 않기 위한 제주인의 몸부림   \n",
       "569683         8982  @bookdb  아버지는 다들 어디로 떠났을까-<버려진 아들의 심리학>   \n",
       "390947         8982  @bookdb                     인사도 연습해야 는다   \n",
       "277752         8982  @bookdb         [올레] 열리면서도 닫힌 공간 건축의 백미   \n",
       "\n",
       "             keyword_list                        display_url  \\\n",
       "283495  [도요타자동차, 도요타, 경영]  https://brunch.co.kr/@bookdb/1008   \n",
       "337959  [제주바다, 제주올레, 제주도]  https://brunch.co.kr/@bookdb/1014   \n",
       "569683     [니체, 아버지, 심리학]  https://brunch.co.kr/@bookdb/1020   \n",
       "390947       [인사, 연습, 습관]  https://brunch.co.kr/@bookdb/1030   \n",
       "277752  [제주올레, 제주도, 도시개발]  https://brunch.co.kr/@bookdb/1037   \n",
       "\n",
       "                 sub_title         reg_ts  article_id            id  \n",
       "283495          왜 다시 도요타인가  1480405541000        1008  @bookdb_1008  \n",
       "337959                      1480556053000        1014  @bookdb_1014  \n",
       "569683                      1480658615000        1020  @bookdb_1020  \n",
       "390947  말만 하는 부모, 상처 받는 아이  1480997028000        1030  @bookdb_1030  \n",
       "277752       제주는 그런 곳이 아니야  1481163453000        1037  @bookdb_1037  "
      ]
     },
     "execution_count": 10,
     "metadata": {},
     "output_type": "execute_result"
    }
   ],
   "source": [
    "meta.loc[meta['magazine_id'] == 8982].sort_values(\"id\").head()"
   ]
  },
  {
   "cell_type": "code",
   "execution_count": null,
   "metadata": {},
   "outputs": [],
   "source": []
  },
  {
   "cell_type": "code",
   "execution_count": 11,
   "metadata": {},
   "outputs": [
    {
     "data": {
      "text/html": [
       "<div>\n",
       "<style scoped>\n",
       "    .dataframe tbody tr th:only-of-type {\n",
       "        vertical-align: middle;\n",
       "    }\n",
       "\n",
       "    .dataframe tbody tr th {\n",
       "        vertical-align: top;\n",
       "    }\n",
       "\n",
       "    .dataframe thead th {\n",
       "        text-align: right;\n",
       "    }\n",
       "</style>\n",
       "<table border=\"1\" class=\"dataframe\">\n",
       "  <thead>\n",
       "    <tr style=\"text-align: right;\">\n",
       "      <th></th>\n",
       "      <th>magazine_id</th>\n",
       "      <th>user_id</th>\n",
       "    </tr>\n",
       "  </thead>\n",
       "  <tbody>\n",
       "    <tr>\n",
       "      <th>0</th>\n",
       "      <td>8982</td>\n",
       "      <td>@bookdb</td>\n",
       "    </tr>\n",
       "    <tr>\n",
       "      <th>1</th>\n",
       "      <td>12081</td>\n",
       "      <td>@kohwang56</td>\n",
       "    </tr>\n",
       "    <tr>\n",
       "      <th>2</th>\n",
       "      <td>0</td>\n",
       "      <td>@hannahajink</td>\n",
       "    </tr>\n",
       "    <tr>\n",
       "      <th>3</th>\n",
       "      <td>16315</td>\n",
       "      <td>@bryceandjuli</td>\n",
       "    </tr>\n",
       "    <tr>\n",
       "      <th>4</th>\n",
       "      <td>29363</td>\n",
       "      <td>@mijeongpark</td>\n",
       "    </tr>\n",
       "  </tbody>\n",
       "</table>\n",
       "</div>"
      ],
      "text/plain": [
       "   magazine_id        user_id\n",
       "0         8982        @bookdb\n",
       "1        12081     @kohwang56\n",
       "2            0   @hannahajink\n",
       "3        16315  @bryceandjuli\n",
       "4        29363   @mijeongpark"
      ]
     },
     "execution_count": 11,
     "metadata": {},
     "output_type": "execute_result"
    }
   ],
   "source": [
    "meta[['magazine_id', 'user_id']].drop_duplicates().head()"
   ]
  },
  {
   "cell_type": "markdown",
   "metadata": {},
   "source": [
    "## Magazine"
   ]
  },
  {
   "cell_type": "code",
   "execution_count": 12,
   "metadata": {},
   "outputs": [
    {
     "data": {
      "text/plain": [
       "(27967, 2)"
      ]
     },
     "execution_count": 12,
     "metadata": {},
     "output_type": "execute_result"
    }
   ],
   "source": [
    "magazine.shape"
   ]
  },
  {
   "cell_type": "code",
   "execution_count": 13,
   "metadata": {},
   "outputs": [
    {
     "data": {
      "text/html": [
       "<div>\n",
       "<style scoped>\n",
       "    .dataframe tbody tr th:only-of-type {\n",
       "        vertical-align: middle;\n",
       "    }\n",
       "\n",
       "    .dataframe tbody tr th {\n",
       "        vertical-align: top;\n",
       "    }\n",
       "\n",
       "    .dataframe thead th {\n",
       "        text-align: right;\n",
       "    }\n",
       "</style>\n",
       "<table border=\"1\" class=\"dataframe\">\n",
       "  <thead>\n",
       "    <tr style=\"text-align: right;\">\n",
       "      <th></th>\n",
       "      <th>magazine_tag_list</th>\n",
       "      <th>id</th>\n",
       "    </tr>\n",
       "  </thead>\n",
       "  <tbody>\n",
       "    <tr>\n",
       "      <th>0</th>\n",
       "      <td>[브런치북, 육아일기, 대화법, 들려주고픈이야기]</td>\n",
       "      <td>38842</td>\n",
       "    </tr>\n",
       "    <tr>\n",
       "      <th>1</th>\n",
       "      <td>[tea, food]</td>\n",
       "      <td>11540</td>\n",
       "    </tr>\n",
       "    <tr>\n",
       "      <th>2</th>\n",
       "      <td>[food]</td>\n",
       "      <td>11541</td>\n",
       "    </tr>\n",
       "    <tr>\n",
       "      <th>3</th>\n",
       "      <td>[브런치북, 일상, 시, 사람]</td>\n",
       "      <td>11546</td>\n",
       "    </tr>\n",
       "    <tr>\n",
       "      <th>4</th>\n",
       "      <td>[감성에세이, 노래, 음악에세이]</td>\n",
       "      <td>11544</td>\n",
       "    </tr>\n",
       "  </tbody>\n",
       "</table>\n",
       "</div>"
      ],
      "text/plain": [
       "             magazine_tag_list     id\n",
       "0  [브런치북, 육아일기, 대화법, 들려주고픈이야기]  38842\n",
       "1                  [tea, food]  11540\n",
       "2                       [food]  11541\n",
       "3            [브런치북, 일상, 시, 사람]  11546\n",
       "4           [감성에세이, 노래, 음악에세이]  11544"
      ]
     },
     "execution_count": 13,
     "metadata": {},
     "output_type": "execute_result"
    }
   ],
   "source": [
    "magazine.head()"
   ]
  },
  {
   "cell_type": "code",
   "execution_count": 14,
   "metadata": {
    "scrolled": true
   },
   "outputs": [
    {
     "data": {
      "text/html": [
       "<div>\n",
       "<style scoped>\n",
       "    .dataframe tbody tr th:only-of-type {\n",
       "        vertical-align: middle;\n",
       "    }\n",
       "\n",
       "    .dataframe tbody tr th {\n",
       "        vertical-align: top;\n",
       "    }\n",
       "\n",
       "    .dataframe thead th {\n",
       "        text-align: right;\n",
       "    }\n",
       "</style>\n",
       "<table border=\"1\" class=\"dataframe\">\n",
       "  <thead>\n",
       "    <tr style=\"text-align: right;\">\n",
       "      <th></th>\n",
       "      <th>magazine_tag_list</th>\n",
       "      <th>id</th>\n",
       "    </tr>\n",
       "  </thead>\n",
       "  <tbody>\n",
       "    <tr>\n",
       "      <th>16284</th>\n",
       "      <td>[책, 독서, 독서에세이]</td>\n",
       "      <td>8982</td>\n",
       "    </tr>\n",
       "  </tbody>\n",
       "</table>\n",
       "</div>"
      ],
      "text/plain": [
       "      magazine_tag_list    id\n",
       "16284    [책, 독서, 독서에세이]  8982"
      ]
     },
     "execution_count": 14,
     "metadata": {},
     "output_type": "execute_result"
    }
   ],
   "source": [
    "magazine.loc[magazine['id'] == 8982].head()"
   ]
  },
  {
   "cell_type": "code",
   "execution_count": null,
   "metadata": {},
   "outputs": [],
   "source": []
  },
  {
   "cell_type": "markdown",
   "metadata": {},
   "source": [
    "## User"
   ]
  },
  {
   "cell_type": "code",
   "execution_count": 15,
   "metadata": {},
   "outputs": [
    {
     "data": {
      "text/plain": [
       "(310758, 3)"
      ]
     },
     "execution_count": 15,
     "metadata": {},
     "output_type": "execute_result"
    }
   ],
   "source": [
    "user.shape"
   ]
  },
  {
   "cell_type": "code",
   "execution_count": 16,
   "metadata": {},
   "outputs": [
    {
     "data": {
      "text/html": [
       "<div>\n",
       "<style scoped>\n",
       "    .dataframe tbody tr th:only-of-type {\n",
       "        vertical-align: middle;\n",
       "    }\n",
       "\n",
       "    .dataframe tbody tr th {\n",
       "        vertical-align: top;\n",
       "    }\n",
       "\n",
       "    .dataframe thead th {\n",
       "        text-align: right;\n",
       "    }\n",
       "</style>\n",
       "<table border=\"1\" class=\"dataframe\">\n",
       "  <thead>\n",
       "    <tr style=\"text-align: right;\">\n",
       "      <th></th>\n",
       "      <th>keyword_list</th>\n",
       "      <th>following_list</th>\n",
       "      <th>id</th>\n",
       "    </tr>\n",
       "  </thead>\n",
       "  <tbody>\n",
       "    <tr>\n",
       "      <th>0</th>\n",
       "      <td>[]</td>\n",
       "      <td>[@perytail, @brunch]</td>\n",
       "      <td>#901985d8bc4c481805c4a4f911814c4a</td>\n",
       "    </tr>\n",
       "    <tr>\n",
       "      <th>1</th>\n",
       "      <td>[]</td>\n",
       "      <td>[@holidaymemories, @wadiz, @sciforus, @dailydubu, @modernmother, @kokpain0323, @simplelife-1p, @junglechair, @englishspeaking, @dysonkim, @heyhaeun, @hotelscombined, @chloepark-11, @socialphysio, @dnqlcjstk123, @triple, @imagehwang, @barneconomy, @joohyoang, @turista, @leeeeesh, @travelpost, @soons, @volo, @lunasflo, @yurileehki9, @fibroidiary, @yjk9793, @betterplace, @dabansa, @bigcrown, @yoonjikwon, @wppmy, @yurigin, @syeonytable, @tennistory, @arimu, @zzanggusis, @theedit, @sumclean, @hsleey0yb, @houseggumiki, @ysstyle, @slist, @hotelscomkr, @kooocompany, @bisanggom, @fly-fish, @srsynn, @allstay, @honeytip, @sangwonsuh, @expediakr, @enerdoheezer, @skyscanner, @synam87, @wishbeen, @yulyul, @hyezine, @sustainlife, @banksalad, @vonovono77, @sangsang, @heywinkup, @missconcierge, @fromairplane, @astronomerboy, @creativejuwon, @seokkim21, @lovefashion, @the8work, @angk34, @lonelyplanet, @symriro, @brunch]</td>\n",
       "      <td>#1fd89e9dcfa64b45020d9eaca54e0eed</td>\n",
       "    </tr>\n",
       "  </tbody>\n",
       "</table>\n",
       "</div>"
      ],
      "text/plain": [
       "  keyword_list  \\\n",
       "0           []   \n",
       "1           []   \n",
       "\n",
       "                                                                                                                                                                                                                                                                                                                                                                                                                                                                                                                                                                                                                                                                                                                                                                                                                                                                                                                                        following_list  \\\n",
       "0                                                                                                                                                                                                                                                                                                                                                                                                                                                                                                                                                                                                                                                                                                                                                                                                                                                                                                                                 [@perytail, @brunch]   \n",
       "1  [@holidaymemories, @wadiz, @sciforus, @dailydubu, @modernmother, @kokpain0323, @simplelife-1p, @junglechair, @englishspeaking, @dysonkim, @heyhaeun, @hotelscombined, @chloepark-11, @socialphysio, @dnqlcjstk123, @triple, @imagehwang, @barneconomy, @joohyoang, @turista, @leeeeesh, @travelpost, @soons, @volo, @lunasflo, @yurileehki9, @fibroidiary, @yjk9793, @betterplace, @dabansa, @bigcrown, @yoonjikwon, @wppmy, @yurigin, @syeonytable, @tennistory, @arimu, @zzanggusis, @theedit, @sumclean, @hsleey0yb, @houseggumiki, @ysstyle, @slist, @hotelscomkr, @kooocompany, @bisanggom, @fly-fish, @srsynn, @allstay, @honeytip, @sangwonsuh, @expediakr, @enerdoheezer, @skyscanner, @synam87, @wishbeen, @yulyul, @hyezine, @sustainlife, @banksalad, @vonovono77, @sangsang, @heywinkup, @missconcierge, @fromairplane, @astronomerboy, @creativejuwon, @seokkim21, @lovefashion, @the8work, @angk34, @lonelyplanet, @symriro, @brunch]   \n",
       "\n",
       "                                  id  \n",
       "0  #901985d8bc4c481805c4a4f911814c4a  \n",
       "1  #1fd89e9dcfa64b45020d9eaca54e0eed  "
      ]
     },
     "execution_count": 16,
     "metadata": {},
     "output_type": "execute_result"
    }
   ],
   "source": [
    "user.head(2)"
   ]
  },
  {
   "cell_type": "code",
   "execution_count": null,
   "metadata": {},
   "outputs": [],
   "source": []
  },
  {
   "cell_type": "code",
   "execution_count": null,
   "metadata": {},
   "outputs": [],
   "source": []
  },
  {
   "cell_type": "markdown",
   "metadata": {},
   "source": [
    "## Read files"
   ]
  },
  {
   "cell_type": "code",
   "execution_count": 17,
   "metadata": {},
   "outputs": [],
   "source": [
    "read_file_lst = glob.glob(\"data/read/*\")"
   ]
  },
  {
   "cell_type": "code",
   "execution_count": 18,
   "metadata": {},
   "outputs": [],
   "source": [
    "exclude_file_lst = ['read.tar']"
   ]
  },
  {
   "cell_type": "code",
   "execution_count": 19,
   "metadata": {},
   "outputs": [],
   "source": [
    "read_df_lst = []\n",
    "for f in read_file_lst:\n",
    "    file_name = os.path.basename(f)\n",
    "    if file_name in exclude_file_lst:\n",
    "        print(file_name)\n",
    "    else:\n",
    "        df_temp = pd.read_csv(f, header=None, names=['raw'])\n",
    "        df_temp['dt'] = file_name[:8]\n",
    "        df_temp['hr'] = file_name[8:10]\n",
    "        df_temp['user_id'] = df_temp['raw'].str.split(' ').str[0]\n",
    "        df_temp['article_id'] = df_temp['raw'].str.split(' ').str[1:].str.join(' ').str.strip()\n",
    "        read_df_lst.append(df_temp)"
   ]
  },
  {
   "cell_type": "code",
   "execution_count": 21,
   "metadata": {},
   "outputs": [],
   "source": [
    "read = pd.concat(read_df_lst)"
   ]
  },
  {
   "cell_type": "code",
   "execution_count": 22,
   "metadata": {},
   "outputs": [
    {
     "data": {
      "text/html": [
       "<div>\n",
       "<style scoped>\n",
       "    .dataframe tbody tr th:only-of-type {\n",
       "        vertical-align: middle;\n",
       "    }\n",
       "\n",
       "    .dataframe tbody tr th {\n",
       "        vertical-align: top;\n",
       "    }\n",
       "\n",
       "    .dataframe thead th {\n",
       "        text-align: right;\n",
       "    }\n",
       "</style>\n",
       "<table border=\"1\" class=\"dataframe\">\n",
       "  <thead>\n",
       "    <tr style=\"text-align: right;\">\n",
       "      <th></th>\n",
       "      <th>raw</th>\n",
       "      <th>dt</th>\n",
       "      <th>hr</th>\n",
       "      <th>user_id</th>\n",
       "      <th>article_id</th>\n",
       "    </tr>\n",
       "  </thead>\n",
       "  <tbody>\n",
       "    <tr>\n",
       "      <th>0</th>\n",
       "      <td>#a055d0c3520e1c002531001928217887 @charlessay_30 @wal8am_27 @uglyduckmin_40 @anti-essay_133 @roysday_125</td>\n",
       "      <td>20181121</td>\n",
       "      <td>14</td>\n",
       "      <td>#a055d0c3520e1c002531001928217887</td>\n",
       "      <td>@charlessay_30 @wal8am_27 @uglyduckmin_40 @anti-essay_133 @roysday_125</td>\n",
       "    </tr>\n",
       "    <tr>\n",
       "      <th>1</th>\n",
       "      <td>#a9cba8bf098c149170315d4cd8d3082e @jinbread_88 @jinbread_87 @jinbread_89</td>\n",
       "      <td>20181121</td>\n",
       "      <td>14</td>\n",
       "      <td>#a9cba8bf098c149170315d4cd8d3082e</td>\n",
       "      <td>@jinbread_88 @jinbread_87 @jinbread_89</td>\n",
       "    </tr>\n",
       "    <tr>\n",
       "      <th>2</th>\n",
       "      <td>#207c8cb590a843e247b9fe7fdd0e5281 @sangheeshyn_66</td>\n",
       "      <td>20181121</td>\n",
       "      <td>14</td>\n",
       "      <td>#207c8cb590a843e247b9fe7fdd0e5281</td>\n",
       "      <td>@sangheeshyn_66</td>\n",
       "    </tr>\n",
       "    <tr>\n",
       "      <th>3</th>\n",
       "      <td>#d76887a5b30adbf793f742c6f67b57bd @tenbody_1506 @tenbody_1506</td>\n",
       "      <td>20181121</td>\n",
       "      <td>14</td>\n",
       "      <td>#d76887a5b30adbf793f742c6f67b57bd</td>\n",
       "      <td>@tenbody_1506 @tenbody_1506</td>\n",
       "    </tr>\n",
       "    <tr>\n",
       "      <th>4</th>\n",
       "      <td>#b260d83247a4d9e3b22143c950f7f471 @maumdal_257 @maumdal_257</td>\n",
       "      <td>20181121</td>\n",
       "      <td>14</td>\n",
       "      <td>#b260d83247a4d9e3b22143c950f7f471</td>\n",
       "      <td>@maumdal_257 @maumdal_257</td>\n",
       "    </tr>\n",
       "  </tbody>\n",
       "</table>\n",
       "</div>"
      ],
      "text/plain": [
       "                                                                                                         raw  \\\n",
       "0  #a055d0c3520e1c002531001928217887 @charlessay_30 @wal8am_27 @uglyduckmin_40 @anti-essay_133 @roysday_125    \n",
       "1                                  #a9cba8bf098c149170315d4cd8d3082e @jinbread_88 @jinbread_87 @jinbread_89    \n",
       "2                                                         #207c8cb590a843e247b9fe7fdd0e5281 @sangheeshyn_66    \n",
       "3                                             #d76887a5b30adbf793f742c6f67b57bd @tenbody_1506 @tenbody_1506    \n",
       "4                                               #b260d83247a4d9e3b22143c950f7f471 @maumdal_257 @maumdal_257    \n",
       "\n",
       "         dt  hr                            user_id  \\\n",
       "0  20181121  14  #a055d0c3520e1c002531001928217887   \n",
       "1  20181121  14  #a9cba8bf098c149170315d4cd8d3082e   \n",
       "2  20181121  14  #207c8cb590a843e247b9fe7fdd0e5281   \n",
       "3  20181121  14  #d76887a5b30adbf793f742c6f67b57bd   \n",
       "4  20181121  14  #b260d83247a4d9e3b22143c950f7f471   \n",
       "\n",
       "                                                               article_id  \n",
       "0  @charlessay_30 @wal8am_27 @uglyduckmin_40 @anti-essay_133 @roysday_125  \n",
       "1                                  @jinbread_88 @jinbread_87 @jinbread_89  \n",
       "2                                                         @sangheeshyn_66  \n",
       "3                                             @tenbody_1506 @tenbody_1506  \n",
       "4                                               @maumdal_257 @maumdal_257  "
      ]
     },
     "execution_count": 22,
     "metadata": {},
     "output_type": "execute_result"
    }
   ],
   "source": [
    "read.head()"
   ]
  },
  {
   "cell_type": "code",
   "execution_count": 23,
   "metadata": {},
   "outputs": [
    {
     "data": {
      "text/plain": [
       "(3507097, 5)"
      ]
     },
     "execution_count": 23,
     "metadata": {},
     "output_type": "execute_result"
    }
   ],
   "source": [
    "read.shape"
   ]
  },
  {
   "cell_type": "code",
   "execution_count": null,
   "metadata": {},
   "outputs": [],
   "source": []
  },
  {
   "cell_type": "code",
   "execution_count": 24,
   "metadata": {},
   "outputs": [],
   "source": [
    "def chainer(s):\n",
    "    return list(chain.from_iterable(s.str.split(' ')))"
   ]
  },
  {
   "cell_type": "code",
   "execution_count": 25,
   "metadata": {},
   "outputs": [],
   "source": [
    "read_cnt_by_user = read['article_id'].str.split(' ').map(len)"
   ]
  },
  {
   "cell_type": "code",
   "execution_count": 26,
   "metadata": {},
   "outputs": [
    {
     "data": {
      "text/plain": [
       "0    5\n",
       "1    3\n",
       "Name: article_id, dtype: int64"
      ]
     },
     "execution_count": 26,
     "metadata": {},
     "output_type": "execute_result"
    }
   ],
   "source": [
    "read_cnt_by_user.head(2)"
   ]
  },
  {
   "cell_type": "code",
   "execution_count": 29,
   "metadata": {},
   "outputs": [
    {
     "data": {
      "text/plain": [
       "0    [@charlessay_30, @wal8am_27, @uglyduckmin_40, @anti-essay_133, @roysday_125]\n",
       "1                                      [@jinbread_88, @jinbread_87, @jinbread_89]\n",
       "Name: article_id, dtype: object"
      ]
     },
     "execution_count": 29,
     "metadata": {},
     "output_type": "execute_result"
    }
   ],
   "source": [
    "read['article_id'].str.split(' ').head(2)"
   ]
  },
  {
   "cell_type": "code",
   "execution_count": 30,
   "metadata": {},
   "outputs": [],
   "source": [
    "read_raw = pd.DataFrame({'dt': np.repeat(read['dt'], read_cnt_by_user),\n",
    "                         'hr': np.repeat(read['hr'], read_cnt_by_user),\n",
    "                         'user_id': np.repeat(read['user_id'], read_cnt_by_user),\n",
    "                         'article_id': chainer(read['article_id'])})"
   ]
  },
  {
   "cell_type": "code",
   "execution_count": 31,
   "metadata": {},
   "outputs": [
    {
     "data": {
      "text/plain": [
       "(22110706, 4)"
      ]
     },
     "execution_count": 31,
     "metadata": {},
     "output_type": "execute_result"
    }
   ],
   "source": [
    "read_raw.shape"
   ]
  },
  {
   "cell_type": "code",
   "execution_count": 32,
   "metadata": {},
   "outputs": [
    {
     "data": {
      "text/html": [
       "<div>\n",
       "<style scoped>\n",
       "    .dataframe tbody tr th:only-of-type {\n",
       "        vertical-align: middle;\n",
       "    }\n",
       "\n",
       "    .dataframe tbody tr th {\n",
       "        vertical-align: top;\n",
       "    }\n",
       "\n",
       "    .dataframe thead th {\n",
       "        text-align: right;\n",
       "    }\n",
       "</style>\n",
       "<table border=\"1\" class=\"dataframe\">\n",
       "  <thead>\n",
       "    <tr style=\"text-align: right;\">\n",
       "      <th></th>\n",
       "      <th>dt</th>\n",
       "      <th>hr</th>\n",
       "      <th>user_id</th>\n",
       "      <th>article_id</th>\n",
       "    </tr>\n",
       "  </thead>\n",
       "  <tbody>\n",
       "    <tr>\n",
       "      <th>0</th>\n",
       "      <td>20181121</td>\n",
       "      <td>14</td>\n",
       "      <td>#a055d0c3520e1c002531001928217887</td>\n",
       "      <td>@charlessay_30</td>\n",
       "    </tr>\n",
       "    <tr>\n",
       "      <th>0</th>\n",
       "      <td>20181121</td>\n",
       "      <td>14</td>\n",
       "      <td>#a055d0c3520e1c002531001928217887</td>\n",
       "      <td>@wal8am_27</td>\n",
       "    </tr>\n",
       "    <tr>\n",
       "      <th>0</th>\n",
       "      <td>20181121</td>\n",
       "      <td>14</td>\n",
       "      <td>#a055d0c3520e1c002531001928217887</td>\n",
       "      <td>@uglyduckmin_40</td>\n",
       "    </tr>\n",
       "    <tr>\n",
       "      <th>0</th>\n",
       "      <td>20181121</td>\n",
       "      <td>14</td>\n",
       "      <td>#a055d0c3520e1c002531001928217887</td>\n",
       "      <td>@anti-essay_133</td>\n",
       "    </tr>\n",
       "    <tr>\n",
       "      <th>0</th>\n",
       "      <td>20181121</td>\n",
       "      <td>14</td>\n",
       "      <td>#a055d0c3520e1c002531001928217887</td>\n",
       "      <td>@roysday_125</td>\n",
       "    </tr>\n",
       "  </tbody>\n",
       "</table>\n",
       "</div>"
      ],
      "text/plain": [
       "         dt  hr                            user_id       article_id\n",
       "0  20181121  14  #a055d0c3520e1c002531001928217887   @charlessay_30\n",
       "0  20181121  14  #a055d0c3520e1c002531001928217887       @wal8am_27\n",
       "0  20181121  14  #a055d0c3520e1c002531001928217887  @uglyduckmin_40\n",
       "0  20181121  14  #a055d0c3520e1c002531001928217887  @anti-essay_133\n",
       "0  20181121  14  #a055d0c3520e1c002531001928217887     @roysday_125"
      ]
     },
     "execution_count": 32,
     "metadata": {},
     "output_type": "execute_result"
    }
   ],
   "source": [
    "read_raw.head()"
   ]
  },
  {
   "cell_type": "code",
   "execution_count": null,
   "metadata": {},
   "outputs": [],
   "source": []
  },
  {
   "cell_type": "markdown",
   "metadata": {},
   "source": [
    "# EDA"
   ]
  },
  {
   "cell_type": "markdown",
   "metadata": {},
   "source": [
    "## metadata 전처리"
   ]
  },
  {
   "cell_type": "code",
   "execution_count": 60,
   "metadata": {},
   "outputs": [],
   "source": [
    "atc = meta.copy()"
   ]
  },
  {
   "cell_type": "code",
   "execution_count": 61,
   "metadata": {},
   "outputs": [],
   "source": [
    "atc['reg_datetime'] = atc['reg_ts'].apply(lambda x: datetime.fromtimestamp(x/1000.0))\n",
    "# atc.loc[atc['reg_datetime'] == atc['reg_datetime'].min(), 'reg_datetime'] = datetime(2090, 12, 31)"
   ]
  },
  {
   "cell_type": "code",
   "execution_count": 62,
   "metadata": {},
   "outputs": [
    {
     "data": {
      "text/plain": [
       "[numpy.datetime64('1970-01-01T09:00:00.000000000'),\n",
       " numpy.datetime64('2015-05-06T14:45:08.000000000'),\n",
       " numpy.datetime64('2015-05-07T12:04:22.000000000'),\n",
       " numpy.datetime64('2015-05-07T21:59:48.000000000'),\n",
       " numpy.datetime64('2015-05-07T22:04:54.000000000'),\n",
       " numpy.datetime64('2015-05-07T22:18:21.000000000'),\n",
       " numpy.datetime64('2015-05-08T16:10:32.000000000'),\n",
       " numpy.datetime64('2015-05-08T19:36:40.000000000'),\n",
       " numpy.datetime64('2015-05-08T19:37:08.000000000'),\n",
       " numpy.datetime64('2015-05-08T19:37:20.000000000'),\n",
       " numpy.datetime64('2015-05-08T19:37:34.000000000'),\n",
       " numpy.datetime64('2015-05-08T19:41:16.000000000'),\n",
       " numpy.datetime64('2015-05-08T19:42:09.000000000'),\n",
       " numpy.datetime64('2015-05-10T15:17:41.000000000'),\n",
       " numpy.datetime64('2015-05-11T09:05:03.000000000'),\n",
       " numpy.datetime64('2015-05-11T10:49:23.000000000'),\n",
       " numpy.datetime64('2015-05-11T17:26:21.000000000'),\n",
       " numpy.datetime64('2015-05-11T19:01:00.000000000'),\n",
       " numpy.datetime64('2015-05-11T19:29:05.000000000'),\n",
       " numpy.datetime64('2015-05-11T20:41:31.000000000'),\n",
       " numpy.datetime64('2015-05-11T22:43:27.000000000'),\n",
       " numpy.datetime64('2015-05-12T09:52:20.000000000'),\n",
       " numpy.datetime64('2015-05-12T10:10:34.000000000'),\n",
       " numpy.datetime64('2015-05-12T10:24:24.000000000'),\n",
       " numpy.datetime64('2015-05-12T10:24:38.000000000'),\n",
       " numpy.datetime64('2015-05-12T10:26:49.000000000'),\n",
       " numpy.datetime64('2015-05-12T10:32:14.000000000'),\n",
       " numpy.datetime64('2015-05-12T10:47:02.000000000'),\n",
       " numpy.datetime64('2015-05-12T15:09:14.000000000'),\n",
       " numpy.datetime64('2015-05-12T15:58:18.000000000'),\n",
       " numpy.datetime64('2015-05-12T18:36:31.000000000'),\n",
       " numpy.datetime64('2015-05-12T18:42:09.000000000'),\n",
       " numpy.datetime64('2015-05-12T21:52:36.000000000'),\n",
       " numpy.datetime64('2015-05-12T23:54:27.000000000'),\n",
       " numpy.datetime64('2015-05-13T09:27:24.000000000'),\n",
       " numpy.datetime64('2015-05-13T09:45:23.000000000'),\n",
       " numpy.datetime64('2015-05-13T10:28:04.000000000'),\n",
       " numpy.datetime64('2015-05-13T13:50:44.000000000'),\n",
       " numpy.datetime64('2015-05-13T15:20:35.000000000'),\n",
       " numpy.datetime64('2015-05-13T18:01:41.000000000'),\n",
       " numpy.datetime64('2015-05-13T23:55:25.000000000'),\n",
       " numpy.datetime64('2015-05-14T09:29:21.000000000'),\n",
       " numpy.datetime64('2015-05-14T11:10:35.000000000'),\n",
       " numpy.datetime64('2015-05-14T14:34:07.000000000'),\n",
       " numpy.datetime64('2015-05-14T15:11:53.000000000'),\n",
       " numpy.datetime64('2015-05-14T15:54:15.000000000'),\n",
       " numpy.datetime64('2015-05-14T16:55:49.000000000'),\n",
       " numpy.datetime64('2015-05-14T18:12:08.000000000'),\n",
       " numpy.datetime64('2015-05-14T19:29:56.000000000'),\n",
       " numpy.datetime64('2015-05-15T10:15:20.000000000'),\n",
       " numpy.datetime64('2015-05-15T11:08:32.000000000'),\n",
       " numpy.datetime64('2015-05-15T11:26:02.000000000'),\n",
       " numpy.datetime64('2015-05-15T14:01:40.000000000'),\n",
       " numpy.datetime64('2015-05-15T15:19:06.000000000'),\n",
       " numpy.datetime64('2015-05-15T15:19:14.000000000'),\n",
       " numpy.datetime64('2015-05-15T15:24:17.000000000'),\n",
       " numpy.datetime64('2015-05-15T15:55:55.000000000'),\n",
       " numpy.datetime64('2015-05-15T16:33:45.000000000'),\n",
       " numpy.datetime64('2015-05-15T16:41:07.000000000'),\n",
       " numpy.datetime64('2015-05-15T17:42:50.000000000'),\n",
       " numpy.datetime64('2015-05-15T17:47:54.000000000'),\n",
       " numpy.datetime64('2015-05-15T18:56:07.000000000'),\n",
       " numpy.datetime64('2015-05-15T19:40:21.000000000'),\n",
       " numpy.datetime64('2015-05-16T12:10:51.000000000'),\n",
       " numpy.datetime64('2015-05-16T14:49:15.000000000'),\n",
       " numpy.datetime64('2015-05-16T16:21:34.000000000'),\n",
       " numpy.datetime64('2015-05-16T17:05:53.000000000'),\n",
       " numpy.datetime64('2015-05-16T18:25:27.000000000'),\n",
       " numpy.datetime64('2015-05-17T15:21:05.000000000'),\n",
       " numpy.datetime64('2015-05-17T21:16:43.000000000'),\n",
       " numpy.datetime64('2015-05-18T12:57:30.000000000'),\n",
       " numpy.datetime64('2015-05-18T13:33:05.000000000'),\n",
       " numpy.datetime64('2015-05-18T13:34:40.000000000'),\n",
       " numpy.datetime64('2015-05-18T13:34:56.000000000'),\n",
       " numpy.datetime64('2015-05-18T13:35:44.000000000'),\n",
       " numpy.datetime64('2015-05-18T15:08:33.000000000'),\n",
       " numpy.datetime64('2015-05-18T15:26:53.000000000'),\n",
       " numpy.datetime64('2015-05-18T16:09:25.000000000'),\n",
       " numpy.datetime64('2015-05-18T16:14:10.000000000'),\n",
       " numpy.datetime64('2015-05-18T16:36:59.000000000'),\n",
       " numpy.datetime64('2015-05-18T16:44:01.000000000'),\n",
       " numpy.datetime64('2015-05-18T16:57:37.000000000'),\n",
       " numpy.datetime64('2015-05-18T16:59:03.000000000'),\n",
       " numpy.datetime64('2015-05-18T17:01:05.000000000'),\n",
       " numpy.datetime64('2015-05-18T17:01:57.000000000'),\n",
       " numpy.datetime64('2015-05-18T17:15:14.000000000'),\n",
       " numpy.datetime64('2015-05-18T17:49:32.000000000'),\n",
       " numpy.datetime64('2015-05-18T19:03:37.000000000'),\n",
       " numpy.datetime64('2015-05-18T19:14:27.000000000'),\n",
       " numpy.datetime64('2015-05-18T19:23:18.000000000'),\n",
       " numpy.datetime64('2015-05-18T19:23:52.000000000'),\n",
       " numpy.datetime64('2015-05-18T19:30:08.000000000'),\n",
       " numpy.datetime64('2015-05-18T19:58:25.000000000'),\n",
       " numpy.datetime64('2015-05-18T21:13:00.000000000'),\n",
       " numpy.datetime64('2015-05-18T21:44:20.000000000'),\n",
       " numpy.datetime64('2015-05-18T21:45:23.000000000'),\n",
       " numpy.datetime64('2015-05-18T22:04:54.000000000'),\n",
       " numpy.datetime64('2015-05-18T22:06:03.000000000'),\n",
       " numpy.datetime64('2015-05-18T22:10:04.000000000'),\n",
       " numpy.datetime64('2015-05-18T22:27:58.000000000'),\n",
       " numpy.datetime64('2015-05-18T22:44:03.000000000'),\n",
       " numpy.datetime64('2015-05-18T22:49:51.000000000'),\n",
       " numpy.datetime64('2015-05-18T23:14:31.000000000'),\n",
       " numpy.datetime64('2015-05-18T23:19:57.000000000'),\n",
       " numpy.datetime64('2015-05-18T23:58:40.000000000'),\n",
       " numpy.datetime64('2015-05-19T00:12:22.000000000'),\n",
       " numpy.datetime64('2015-05-19T00:25:19.000000000'),\n",
       " numpy.datetime64('2015-05-19T00:49:18.000000000'),\n",
       " numpy.datetime64('2015-05-19T01:09:32.000000000'),\n",
       " numpy.datetime64('2015-05-19T01:28:53.000000000'),\n",
       " numpy.datetime64('2015-05-19T07:33:28.000000000'),\n",
       " numpy.datetime64('2015-05-19T07:43:01.000000000'),\n",
       " numpy.datetime64('2015-05-19T07:58:32.000000000'),\n",
       " numpy.datetime64('2015-05-19T09:51:48.000000000'),\n",
       " numpy.datetime64('2015-05-19T10:26:36.000000000'),\n",
       " numpy.datetime64('2015-05-19T10:49:45.000000000'),\n",
       " numpy.datetime64('2015-05-19T10:54:55.000000000'),\n",
       " numpy.datetime64('2015-05-19T11:44:24.000000000'),\n",
       " numpy.datetime64('2015-05-19T13:10:35.000000000'),\n",
       " numpy.datetime64('2015-05-19T13:35:15.000000000'),\n",
       " numpy.datetime64('2015-05-19T13:49:30.000000000'),\n",
       " numpy.datetime64('2015-05-19T13:56:09.000000000'),\n",
       " numpy.datetime64('2015-05-19T15:31:32.000000000'),\n",
       " numpy.datetime64('2015-05-19T16:17:07.000000000'),\n",
       " numpy.datetime64('2015-05-19T16:41:23.000000000'),\n",
       " numpy.datetime64('2015-05-19T17:13:22.000000000'),\n",
       " numpy.datetime64('2015-05-19T18:50:08.000000000'),\n",
       " numpy.datetime64('2015-05-19T19:05:53.000000000'),\n",
       " numpy.datetime64('2015-05-19T19:23:00.000000000'),\n",
       " numpy.datetime64('2015-05-19T20:37:49.000000000'),\n",
       " numpy.datetime64('2015-05-19T21:06:51.000000000'),\n",
       " numpy.datetime64('2015-05-19T22:13:36.000000000'),\n",
       " numpy.datetime64('2015-05-19T22:16:09.000000000'),\n",
       " numpy.datetime64('2015-05-19T22:22:03.000000000'),\n",
       " numpy.datetime64('2015-05-19T23:14:32.000000000'),\n",
       " numpy.datetime64('2015-05-19T23:43:52.000000000'),\n",
       " numpy.datetime64('2015-05-20T00:09:01.000000000'),\n",
       " numpy.datetime64('2015-05-20T00:26:37.000000000'),\n",
       " numpy.datetime64('2015-05-20T01:04:10.000000000'),\n",
       " numpy.datetime64('2015-05-20T01:13:37.000000000'),\n",
       " numpy.datetime64('2015-05-20T01:35:57.000000000'),\n",
       " numpy.datetime64('2015-05-20T05:11:38.000000000'),\n",
       " numpy.datetime64('2015-05-20T05:28:13.000000000'),\n",
       " numpy.datetime64('2015-05-20T09:30:34.000000000'),\n",
       " numpy.datetime64('2015-05-20T10:18:49.000000000'),\n",
       " numpy.datetime64('2015-05-20T10:55:14.000000000'),\n",
       " numpy.datetime64('2015-05-20T10:59:04.000000000'),\n",
       " numpy.datetime64('2015-05-20T11:01:48.000000000'),\n",
       " numpy.datetime64('2015-05-20T11:19:55.000000000'),\n",
       " numpy.datetime64('2015-05-20T11:23:51.000000000'),\n",
       " numpy.datetime64('2015-05-20T11:41:12.000000000'),\n",
       " numpy.datetime64('2015-05-20T11:48:17.000000000'),\n",
       " numpy.datetime64('2015-05-20T14:27:24.000000000'),\n",
       " numpy.datetime64('2015-05-20T16:51:02.000000000'),\n",
       " numpy.datetime64('2015-05-20T17:23:05.000000000'),\n",
       " numpy.datetime64('2015-05-20T18:17:55.000000000'),\n",
       " numpy.datetime64('2015-05-20T18:27:56.000000000'),\n",
       " numpy.datetime64('2015-05-20T21:06:57.000000000'),\n",
       " numpy.datetime64('2015-05-20T21:17:07.000000000'),\n",
       " numpy.datetime64('2015-05-20T21:45:53.000000000'),\n",
       " numpy.datetime64('2015-05-20T21:55:36.000000000'),\n",
       " numpy.datetime64('2015-05-20T23:25:20.000000000'),\n",
       " numpy.datetime64('2015-05-21T00:03:34.000000000'),\n",
       " numpy.datetime64('2015-05-21T00:20:37.000000000'),\n",
       " numpy.datetime64('2015-05-21T00:30:54.000000000'),\n",
       " numpy.datetime64('2015-05-21T00:41:00.000000000'),\n",
       " numpy.datetime64('2015-05-21T01:12:54.000000000'),\n",
       " numpy.datetime64('2015-05-21T01:56:25.000000000'),\n",
       " numpy.datetime64('2015-05-21T02:02:16.000000000'),\n",
       " numpy.datetime64('2015-05-21T02:07:51.000000000'),\n",
       " numpy.datetime64('2015-05-21T02:09:26.000000000'),\n",
       " numpy.datetime64('2015-05-21T02:13:13.000000000'),\n",
       " numpy.datetime64('2015-05-21T02:17:09.000000000'),\n",
       " numpy.datetime64('2015-05-21T02:18:27.000000000'),\n",
       " numpy.datetime64('2015-05-21T02:21:18.000000000'),\n",
       " numpy.datetime64('2015-05-21T02:23:12.000000000'),\n",
       " numpy.datetime64('2015-05-21T02:42:43.000000000'),\n",
       " numpy.datetime64('2015-05-21T03:36:34.000000000'),\n",
       " numpy.datetime64('2015-05-21T08:24:24.000000000'),\n",
       " numpy.datetime64('2015-05-21T08:29:22.000000000'),\n",
       " numpy.datetime64('2015-05-21T09:53:13.000000000'),\n",
       " numpy.datetime64('2015-05-21T10:51:36.000000000'),\n",
       " numpy.datetime64('2015-05-21T11:18:38.000000000'),\n",
       " numpy.datetime64('2015-05-21T11:56:24.000000000'),\n",
       " numpy.datetime64('2015-05-21T13:05:31.000000000'),\n",
       " numpy.datetime64('2015-05-21T13:31:12.000000000'),\n",
       " numpy.datetime64('2015-05-21T15:02:49.000000000'),\n",
       " numpy.datetime64('2015-05-21T15:04:44.000000000'),\n",
       " numpy.datetime64('2015-05-21T15:10:46.000000000'),\n",
       " numpy.datetime64('2015-05-21T15:32:33.000000000'),\n",
       " numpy.datetime64('2015-05-21T16:26:42.000000000'),\n",
       " numpy.datetime64('2015-05-21T17:14:02.000000000'),\n",
       " numpy.datetime64('2015-05-21T17:50:08.000000000'),\n",
       " numpy.datetime64('2015-05-21T18:00:43.000000000'),\n",
       " numpy.datetime64('2015-05-21T18:24:09.000000000'),\n",
       " numpy.datetime64('2015-05-21T20:14:23.000000000'),\n",
       " numpy.datetime64('2015-05-21T20:26:19.000000000'),\n",
       " numpy.datetime64('2015-05-21T21:36:56.000000000'),\n",
       " numpy.datetime64('2015-05-21T23:09:08.000000000'),\n",
       " numpy.datetime64('2015-05-21T23:28:12.000000000'),\n",
       " numpy.datetime64('2015-05-22T00:27:00.000000000'),\n",
       " numpy.datetime64('2015-05-22T00:27:14.000000000'),\n",
       " numpy.datetime64('2015-05-22T00:27:25.000000000'),\n",
       " numpy.datetime64('2015-05-22T00:30:04.000000000'),\n",
       " numpy.datetime64('2015-05-22T01:16:36.000000000'),\n",
       " numpy.datetime64('2015-05-22T01:44:29.000000000'),\n",
       " numpy.datetime64('2015-05-22T03:21:54.000000000'),\n",
       " numpy.datetime64('2015-05-22T07:46:30.000000000'),\n",
       " numpy.datetime64('2015-05-22T09:17:23.000000000'),\n",
       " numpy.datetime64('2015-05-22T09:40:42.000000000'),\n",
       " numpy.datetime64('2015-05-22T09:50:57.000000000'),\n",
       " numpy.datetime64('2015-05-22T10:33:27.000000000'),\n",
       " numpy.datetime64('2015-05-22T11:32:55.000000000'),\n",
       " numpy.datetime64('2015-05-22T13:10:31.000000000'),\n",
       " numpy.datetime64('2015-05-22T15:12:36.000000000'),\n",
       " numpy.datetime64('2015-05-22T16:36:18.000000000'),\n",
       " numpy.datetime64('2015-05-22T17:50:56.000000000'),\n",
       " numpy.datetime64('2015-05-22T18:30:00.000000000'),\n",
       " numpy.datetime64('2015-05-22T19:28:02.000000000'),\n",
       " numpy.datetime64('2015-05-22T20:04:02.000000000'),\n",
       " numpy.datetime64('2015-05-22T22:11:12.000000000'),\n",
       " numpy.datetime64('2015-05-22T23:27:27.000000000'),\n",
       " numpy.datetime64('2015-05-22T23:52:46.000000000'),\n",
       " numpy.datetime64('2015-05-23T01:15:35.000000000'),\n",
       " numpy.datetime64('2015-05-23T01:26:08.000000000'),\n",
       " numpy.datetime64('2015-05-23T01:30:48.000000000'),\n",
       " numpy.datetime64('2015-05-23T01:42:56.000000000'),\n",
       " numpy.datetime64('2015-05-23T01:54:43.000000000'),\n",
       " numpy.datetime64('2015-05-23T02:01:02.000000000'),\n",
       " numpy.datetime64('2015-05-23T02:20:25.000000000'),\n",
       " numpy.datetime64('2015-05-23T02:20:27.000000000'),\n",
       " numpy.datetime64('2015-05-23T02:30:32.000000000'),\n",
       " numpy.datetime64('2015-05-23T03:28:02.000000000'),\n",
       " numpy.datetime64('2015-05-23T03:28:45.000000000'),\n",
       " numpy.datetime64('2015-05-23T11:51:43.000000000'),\n",
       " numpy.datetime64('2015-05-23T11:51:46.000000000'),\n",
       " numpy.datetime64('2015-05-23T14:51:27.000000000'),\n",
       " numpy.datetime64('2015-05-23T15:57:40.000000000'),\n",
       " numpy.datetime64('2015-05-23T16:08:06.000000000'),\n",
       " numpy.datetime64('2015-05-23T16:33:45.000000000'),\n",
       " numpy.datetime64('2015-05-23T16:37:40.000000000'),\n",
       " numpy.datetime64('2015-05-23T18:56:21.000000000'),\n",
       " numpy.datetime64('2015-05-24T00:16:10.000000000'),\n",
       " numpy.datetime64('2015-05-24T01:34:50.000000000'),\n",
       " numpy.datetime64('2015-05-24T01:45:11.000000000'),\n",
       " numpy.datetime64('2015-05-24T03:57:07.000000000'),\n",
       " numpy.datetime64('2015-05-24T06:47:11.000000000'),\n",
       " numpy.datetime64('2015-05-24T10:10:12.000000000'),\n",
       " numpy.datetime64('2015-05-24T11:42:10.000000000'),\n",
       " numpy.datetime64('2015-05-24T22:06:19.000000000'),\n",
       " numpy.datetime64('2015-05-24T22:16:39.000000000'),\n",
       " numpy.datetime64('2015-05-25T00:52:38.000000000'),\n",
       " numpy.datetime64('2015-05-25T00:59:43.000000000'),\n",
       " numpy.datetime64('2015-05-25T01:12:11.000000000'),\n",
       " numpy.datetime64('2015-05-25T01:24:02.000000000'),\n",
       " numpy.datetime64('2015-05-25T01:41:52.000000000'),\n",
       " numpy.datetime64('2015-05-25T01:57:26.000000000'),\n",
       " numpy.datetime64('2015-05-25T02:10:41.000000000'),\n",
       " numpy.datetime64('2015-05-25T07:09:14.000000000'),\n",
       " numpy.datetime64('2015-05-25T07:59:13.000000000'),\n",
       " numpy.datetime64('2015-05-25T11:00:37.000000000'),\n",
       " numpy.datetime64('2015-05-25T11:03:16.000000000'),\n",
       " numpy.datetime64('2015-05-25T14:20:11.000000000'),\n",
       " numpy.datetime64('2015-05-25T16:10:50.000000000'),\n",
       " numpy.datetime64('2015-05-25T16:46:13.000000000'),\n",
       " numpy.datetime64('2015-05-25T18:02:37.000000000'),\n",
       " numpy.datetime64('2015-05-25T18:18:08.000000000'),\n",
       " numpy.datetime64('2015-05-25T19:01:46.000000000'),\n",
       " numpy.datetime64('2015-05-25T20:09:38.000000000'),\n",
       " numpy.datetime64('2015-05-25T22:04:56.000000000'),\n",
       " numpy.datetime64('2015-05-25T22:31:15.000000000'),\n",
       " numpy.datetime64('2015-05-25T22:31:32.000000000'),\n",
       " numpy.datetime64('2015-05-26T00:06:32.000000000'),\n",
       " numpy.datetime64('2015-05-26T02:37:28.000000000'),\n",
       " numpy.datetime64('2015-05-26T07:22:20.000000000'),\n",
       " numpy.datetime64('2015-05-26T09:44:47.000000000'),\n",
       " numpy.datetime64('2015-05-26T09:54:21.000000000'),\n",
       " numpy.datetime64('2015-05-26T10:45:25.000000000'),\n",
       " numpy.datetime64('2015-05-26T11:43:01.000000000'),\n",
       " numpy.datetime64('2015-05-26T11:56:47.000000000'),\n",
       " numpy.datetime64('2015-05-26T12:21:30.000000000'),\n",
       " numpy.datetime64('2015-05-26T13:58:26.000000000'),\n",
       " numpy.datetime64('2015-05-26T14:00:06.000000000'),\n",
       " numpy.datetime64('2015-05-26T15:13:28.000000000'),\n",
       " numpy.datetime64('2015-05-26T15:49:29.000000000'),\n",
       " numpy.datetime64('2015-05-26T15:53:24.000000000'),\n",
       " numpy.datetime64('2015-05-26T16:56:59.000000000'),\n",
       " numpy.datetime64('2015-05-26T17:39:25.000000000'),\n",
       " numpy.datetime64('2015-05-26T19:06:14.000000000'),\n",
       " numpy.datetime64('2015-05-26T20:03:07.000000000'),\n",
       " numpy.datetime64('2015-05-26T22:34:54.000000000'),\n",
       " numpy.datetime64('2015-05-27T01:04:31.000000000'),\n",
       " numpy.datetime64('2015-05-27T06:41:00.000000000'),\n",
       " numpy.datetime64('2015-05-27T07:17:55.000000000'),\n",
       " numpy.datetime64('2015-05-27T07:33:52.000000000'),\n",
       " numpy.datetime64('2015-05-27T10:50:03.000000000'),\n",
       " numpy.datetime64('2015-05-27T11:39:56.000000000'),\n",
       " numpy.datetime64('2015-05-27T11:46:47.000000000'),\n",
       " numpy.datetime64('2015-05-27T13:37:35.000000000'),\n",
       " numpy.datetime64('2015-05-27T14:48:02.000000000'),\n",
       " numpy.datetime64('2015-05-27T14:55:27.000000000'),\n",
       " numpy.datetime64('2015-05-27T15:33:34.000000000'),\n",
       " numpy.datetime64('2015-05-27T15:47:48.000000000'),\n",
       " numpy.datetime64('2015-05-27T16:08:15.000000000'),\n",
       " numpy.datetime64('2015-05-27T16:15:38.000000000'),\n",
       " numpy.datetime64('2015-05-27T16:41:42.000000000'),\n",
       " numpy.datetime64('2015-05-27T17:13:29.000000000'),\n",
       " numpy.datetime64('2015-05-27T21:45:48.000000000'),\n",
       " numpy.datetime64('2015-05-27T21:49:19.000000000'),\n",
       " numpy.datetime64('2015-05-27T23:10:18.000000000'),\n",
       " numpy.datetime64('2015-05-28T00:08:13.000000000'),\n",
       " numpy.datetime64('2015-05-28T00:08:44.000000000'),\n",
       " numpy.datetime64('2015-05-28T00:09:13.000000000'),\n",
       " numpy.datetime64('2015-05-28T00:12:21.000000000'),\n",
       " numpy.datetime64('2015-05-28T01:12:38.000000000'),\n",
       " numpy.datetime64('2015-05-28T01:25:52.000000000'),\n",
       " numpy.datetime64('2015-05-28T01:28:12.000000000'),\n",
       " numpy.datetime64('2015-05-28T01:38:02.000000000'),\n",
       " numpy.datetime64('2015-05-28T07:08:49.000000000'),\n",
       " numpy.datetime64('2015-05-28T07:24:04.000000000'),\n",
       " numpy.datetime64('2015-05-28T07:49:04.000000000'),\n",
       " numpy.datetime64('2015-05-28T07:49:31.000000000'),\n",
       " numpy.datetime64('2015-05-28T07:50:15.000000000'),\n",
       " numpy.datetime64('2015-05-28T07:53:47.000000000'),\n",
       " numpy.datetime64('2015-05-28T11:23:32.000000000'),\n",
       " numpy.datetime64('2015-05-28T11:36:48.000000000'),\n",
       " numpy.datetime64('2015-05-28T11:51:29.000000000'),\n",
       " numpy.datetime64('2015-05-28T12:21:18.000000000'),\n",
       " numpy.datetime64('2015-05-28T13:12:27.000000000'),\n",
       " numpy.datetime64('2015-05-28T14:54:42.000000000'),\n",
       " numpy.datetime64('2015-05-28T16:24:48.000000000'),\n",
       " numpy.datetime64('2015-05-28T17:26:30.000000000'),\n",
       " numpy.datetime64('2015-05-28T17:40:19.000000000'),\n",
       " numpy.datetime64('2015-05-28T18:59:13.000000000'),\n",
       " numpy.datetime64('2015-05-28T21:13:10.000000000'),\n",
       " numpy.datetime64('2015-05-28T21:55:10.000000000'),\n",
       " numpy.datetime64('2015-05-28T22:45:40.000000000'),\n",
       " numpy.datetime64('2015-05-28T23:27:14.000000000'),\n",
       " numpy.datetime64('2015-05-29T00:29:38.000000000'),\n",
       " numpy.datetime64('2015-05-29T00:35:16.000000000'),\n",
       " numpy.datetime64('2015-05-29T02:05:29.000000000'),\n",
       " numpy.datetime64('2015-05-29T04:01:54.000000000'),\n",
       " numpy.datetime64('2015-05-29T04:44:43.000000000'),\n",
       " numpy.datetime64('2015-05-29T08:10:48.000000000'),\n",
       " numpy.datetime64('2015-05-29T11:31:53.000000000'),\n",
       " numpy.datetime64('2015-05-29T15:27:31.000000000'),\n",
       " numpy.datetime64('2015-05-29T16:16:14.000000000'),\n",
       " numpy.datetime64('2015-05-29T17:48:04.000000000'),\n",
       " numpy.datetime64('2015-05-29T19:36:44.000000000'),\n",
       " numpy.datetime64('2015-05-29T23:11:16.000000000'),\n",
       " numpy.datetime64('2015-05-30T00:16:43.000000000'),\n",
       " numpy.datetime64('2015-05-30T01:18:44.000000000'),\n",
       " numpy.datetime64('2015-05-30T14:43:49.000000000'),\n",
       " numpy.datetime64('2015-05-30T15:36:09.000000000'),\n",
       " numpy.datetime64('2015-05-30T17:13:16.000000000'),\n",
       " numpy.datetime64('2015-05-30T21:47:27.000000000'),\n",
       " numpy.datetime64('2015-05-30T22:21:10.000000000'),\n",
       " numpy.datetime64('2015-05-31T08:44:25.000000000'),\n",
       " numpy.datetime64('2015-05-31T08:48:03.000000000'),\n",
       " numpy.datetime64('2015-05-31T11:20:32.000000000'),\n",
       " numpy.datetime64('2015-05-31T16:04:44.000000000'),\n",
       " numpy.datetime64('2015-05-31T21:13:06.000000000'),\n",
       " numpy.datetime64('2015-05-31T22:43:06.000000000'),\n",
       " numpy.datetime64('2015-05-31T23:21:28.000000000'),\n",
       " numpy.datetime64('2015-06-01T00:45:03.000000000'),\n",
       " numpy.datetime64('2015-06-01T02:02:49.000000000'),\n",
       " numpy.datetime64('2015-06-01T07:27:22.000000000'),\n",
       " numpy.datetime64('2015-06-01T09:19:15.000000000'),\n",
       " numpy.datetime64('2015-06-01T09:51:12.000000000'),\n",
       " numpy.datetime64('2015-06-01T10:09:48.000000000'),\n",
       " numpy.datetime64('2015-06-01T10:37:38.000000000'),\n",
       " numpy.datetime64('2015-06-01T11:00:11.000000000'),\n",
       " numpy.datetime64('2015-06-01T11:02:02.000000000'),\n",
       " numpy.datetime64('2015-06-01T16:49:20.000000000'),\n",
       " numpy.datetime64('2015-06-02T00:06:58.000000000'),\n",
       " numpy.datetime64('2015-06-02T00:09:55.000000000'),\n",
       " numpy.datetime64('2015-06-02T07:01:32.000000000'),\n",
       " numpy.datetime64('2015-06-02T10:18:48.000000000'),\n",
       " numpy.datetime64('2015-06-02T12:07:12.000000000'),\n",
       " numpy.datetime64('2015-06-02T12:41:24.000000000'),\n",
       " numpy.datetime64('2015-06-02T13:02:03.000000000'),\n",
       " numpy.datetime64('2015-06-02T13:33:35.000000000'),\n",
       " numpy.datetime64('2015-06-02T16:09:05.000000000'),\n",
       " numpy.datetime64('2015-06-02T16:24:15.000000000'),\n",
       " numpy.datetime64('2015-06-02T19:31:54.000000000'),\n",
       " numpy.datetime64('2015-06-02T23:13:37.000000000'),\n",
       " numpy.datetime64('2015-06-03T00:25:52.000000000'),\n",
       " numpy.datetime64('2015-06-03T01:32:58.000000000'),\n",
       " numpy.datetime64('2015-06-03T01:44:00.000000000'),\n",
       " numpy.datetime64('2015-06-03T05:36:48.000000000'),\n",
       " numpy.datetime64('2015-06-03T10:21:13.000000000'),\n",
       " numpy.datetime64('2015-06-03T12:01:00.000000000'),\n",
       " numpy.datetime64('2015-06-03T17:05:22.000000000'),\n",
       " numpy.datetime64('2015-06-03T17:24:03.000000000'),\n",
       " numpy.datetime64('2015-06-03T21:01:35.000000000'),\n",
       " numpy.datetime64('2015-06-03T22:20:33.000000000'),\n",
       " numpy.datetime64('2015-06-03T22:35:04.000000000'),\n",
       " numpy.datetime64('2015-06-03T23:30:29.000000000'),\n",
       " numpy.datetime64('2015-06-03T23:31:54.000000000'),\n",
       " numpy.datetime64('2015-06-04T00:38:08.000000000'),\n",
       " numpy.datetime64('2015-06-04T00:47:13.000000000'),\n",
       " numpy.datetime64('2015-06-04T00:57:12.000000000'),\n",
       " numpy.datetime64('2015-06-04T02:37:14.000000000'),\n",
       " numpy.datetime64('2015-06-04T09:46:35.000000000'),\n",
       " numpy.datetime64('2015-06-04T09:48:31.000000000'),\n",
       " numpy.datetime64('2015-06-04T12:37:04.000000000'),\n",
       " numpy.datetime64('2015-06-04T13:15:31.000000000'),\n",
       " numpy.datetime64('2015-06-04T13:45:52.000000000'),\n",
       " numpy.datetime64('2015-06-04T14:28:13.000000000'),\n",
       " numpy.datetime64('2015-06-04T15:58:56.000000000'),\n",
       " numpy.datetime64('2015-06-04T17:46:40.000000000'),\n",
       " numpy.datetime64('2015-06-04T20:33:10.000000000'),\n",
       " numpy.datetime64('2015-06-04T23:48:51.000000000'),\n",
       " numpy.datetime64('2015-06-04T23:51:38.000000000'),\n",
       " numpy.datetime64('2015-06-05T00:12:38.000000000'),\n",
       " numpy.datetime64('2015-06-05T00:15:59.000000000'),\n",
       " numpy.datetime64('2015-06-05T00:37:02.000000000'),\n",
       " numpy.datetime64('2015-06-05T00:47:16.000000000'),\n",
       " numpy.datetime64('2015-06-05T01:30:05.000000000'),\n",
       " numpy.datetime64('2015-06-05T08:42:29.000000000'),\n",
       " numpy.datetime64('2015-06-05T15:18:19.000000000'),\n",
       " numpy.datetime64('2015-06-05T19:24:15.000000000'),\n",
       " numpy.datetime64('2015-06-05T20:11:00.000000000'),\n",
       " numpy.datetime64('2015-06-05T21:57:08.000000000'),\n",
       " numpy.datetime64('2015-06-05T22:33:50.000000000'),\n",
       " numpy.datetime64('2015-06-05T22:48:17.000000000'),\n",
       " numpy.datetime64('2015-06-05T22:58:03.000000000'),\n",
       " numpy.datetime64('2015-06-05T23:10:43.000000000'),\n",
       " numpy.datetime64('2015-06-05T23:20:55.000000000'),\n",
       " numpy.datetime64('2015-06-05T23:27:50.000000000'),\n",
       " numpy.datetime64('2015-06-05T23:35:07.000000000'),\n",
       " numpy.datetime64('2015-06-05T23:44:23.000000000'),\n",
       " numpy.datetime64('2015-06-06T09:44:27.000000000'),\n",
       " numpy.datetime64('2015-06-06T12:13:38.000000000'),\n",
       " numpy.datetime64('2015-06-07T00:13:49.000000000'),\n",
       " numpy.datetime64('2015-06-07T01:31:43.000000000'),\n",
       " numpy.datetime64('2015-06-07T13:43:34.000000000'),\n",
       " numpy.datetime64('2015-06-07T14:09:42.000000000'),\n",
       " numpy.datetime64('2015-06-07T14:17:50.000000000'),\n",
       " numpy.datetime64('2015-06-07T14:24:27.000000000'),\n",
       " numpy.datetime64('2015-06-07T14:30:48.000000000'),\n",
       " numpy.datetime64('2015-06-07T14:38:10.000000000'),\n",
       " numpy.datetime64('2015-06-07T15:03:25.000000000'),\n",
       " numpy.datetime64('2015-06-07T15:09:01.000000000'),\n",
       " numpy.datetime64('2015-06-07T19:36:12.000000000'),\n",
       " numpy.datetime64('2015-06-07T21:33:48.000000000'),\n",
       " numpy.datetime64('2015-06-07T21:57:37.000000000'),\n",
       " numpy.datetime64('2015-06-07T22:04:48.000000000'),\n",
       " numpy.datetime64('2015-06-07T22:13:43.000000000'),\n",
       " numpy.datetime64('2015-06-08T01:19:34.000000000'),\n",
       " numpy.datetime64('2015-06-08T03:25:55.000000000'),\n",
       " numpy.datetime64('2015-06-08T08:17:30.000000000'),\n",
       " numpy.datetime64('2015-06-08T09:29:44.000000000'),\n",
       " numpy.datetime64('2015-06-08T11:13:56.000000000'),\n",
       " numpy.datetime64('2015-06-08T11:21:15.000000000'),\n",
       " numpy.datetime64('2015-06-08T11:28:34.000000000'),\n",
       " numpy.datetime64('2015-06-08T14:32:04.000000000'),\n",
       " numpy.datetime64('2015-06-08T17:12:09.000000000'),\n",
       " numpy.datetime64('2015-06-08T18:33:42.000000000'),\n",
       " numpy.datetime64('2015-06-08T19:41:21.000000000'),\n",
       " numpy.datetime64('2015-06-08T20:27:03.000000000'),\n",
       " numpy.datetime64('2015-06-08T21:45:58.000000000'),\n",
       " numpy.datetime64('2015-06-08T22:00:44.000000000'),\n",
       " numpy.datetime64('2015-06-08T22:03:05.000000000'),\n",
       " numpy.datetime64('2015-06-08T22:24:42.000000000'),\n",
       " numpy.datetime64('2015-06-08T22:26:21.000000000'),\n",
       " numpy.datetime64('2015-06-08T22:36:07.000000000'),\n",
       " numpy.datetime64('2015-06-08T22:42:45.000000000'),\n",
       " numpy.datetime64('2015-06-08T22:50:47.000000000'),\n",
       " numpy.datetime64('2015-06-08T22:54:42.000000000'),\n",
       " numpy.datetime64('2015-06-08T23:00:20.000000000'),\n",
       " numpy.datetime64('2015-06-08T23:06:15.000000000'),\n",
       " numpy.datetime64('2015-06-08T23:48:24.000000000'),\n",
       " numpy.datetime64('2015-06-09T04:02:55.000000000'),\n",
       " numpy.datetime64('2015-06-09T09:59:59.000000000'),\n",
       " numpy.datetime64('2015-06-09T10:10:29.000000000'),\n",
       " numpy.datetime64('2015-06-09T12:44:33.000000000'),\n",
       " numpy.datetime64('2015-06-09T13:31:00.000000000'),\n",
       " numpy.datetime64('2015-06-09T15:03:59.000000000'),\n",
       " numpy.datetime64('2015-06-09T16:18:25.000000000'),\n",
       " numpy.datetime64('2015-06-09T16:24:29.000000000'),\n",
       " numpy.datetime64('2015-06-09T16:26:45.000000000'),\n",
       " numpy.datetime64('2015-06-09T17:26:37.000000000'),\n",
       " numpy.datetime64('2015-06-09T18:54:55.000000000'),\n",
       " numpy.datetime64('2015-06-09T19:54:36.000000000'),\n",
       " numpy.datetime64('2015-06-09T20:54:01.000000000'),\n",
       " numpy.datetime64('2015-06-09T22:08:31.000000000'),\n",
       " numpy.datetime64('2015-06-09T23:04:23.000000000'),\n",
       " numpy.datetime64('2015-06-10T10:16:22.000000000'),\n",
       " numpy.datetime64('2015-06-10T12:25:46.000000000'),\n",
       " numpy.datetime64('2015-06-10T13:17:33.000000000'),\n",
       " numpy.datetime64('2015-06-10T13:35:47.000000000'),\n",
       " numpy.datetime64('2015-06-10T17:20:35.000000000'),\n",
       " numpy.datetime64('2015-06-10T23:30:30.000000000'),\n",
       " numpy.datetime64('2015-06-10T23:34:51.000000000'),\n",
       " numpy.datetime64('2015-06-10T23:46:45.000000000'),\n",
       " numpy.datetime64('2015-06-11T03:01:18.000000000'),\n",
       " numpy.datetime64('2015-06-11T08:39:46.000000000'),\n",
       " numpy.datetime64('2015-06-11T09:04:18.000000000'),\n",
       " numpy.datetime64('2015-06-11T09:04:49.000000000'),\n",
       " numpy.datetime64('2015-06-11T09:14:06.000000000'),\n",
       " numpy.datetime64('2015-06-11T10:04:29.000000000'),\n",
       " numpy.datetime64('2015-06-11T12:30:13.000000000'),\n",
       " numpy.datetime64('2015-06-11T13:25:59.000000000'),\n",
       " numpy.datetime64('2015-06-11T13:42:46.000000000'),\n",
       " numpy.datetime64('2015-06-11T14:56:49.000000000'),\n",
       " numpy.datetime64('2015-06-11T16:11:28.000000000'),\n",
       " numpy.datetime64('2015-06-11T16:54:16.000000000'),\n",
       " numpy.datetime64('2015-06-11T17:24:42.000000000'),\n",
       " numpy.datetime64('2015-06-11T17:29:04.000000000'),\n",
       " numpy.datetime64('2015-06-11T17:39:32.000000000'),\n",
       " numpy.datetime64('2015-06-11T17:44:12.000000000'),\n",
       " numpy.datetime64('2015-06-11T19:17:22.000000000'),\n",
       " numpy.datetime64('2015-06-11T20:41:18.000000000'),\n",
       " numpy.datetime64('2015-06-11T22:47:36.000000000'),\n",
       " numpy.datetime64('2015-06-12T01:01:16.000000000'),\n",
       " numpy.datetime64('2015-06-12T01:28:32.000000000'),\n",
       " numpy.datetime64('2015-06-12T01:38:40.000000000'),\n",
       " numpy.datetime64('2015-06-12T02:41:34.000000000'),\n",
       " numpy.datetime64('2015-06-12T03:04:35.000000000'),\n",
       " numpy.datetime64('2015-06-12T08:42:55.000000000'),\n",
       " numpy.datetime64('2015-06-12T11:02:44.000000000'),\n",
       " numpy.datetime64('2015-06-12T11:15:00.000000000'),\n",
       " numpy.datetime64('2015-06-12T13:15:10.000000000'),\n",
       " numpy.datetime64('2015-06-12T16:10:47.000000000'),\n",
       " numpy.datetime64('2015-06-12T16:49:01.000000000'),\n",
       " numpy.datetime64('2015-06-12T17:27:12.000000000'),\n",
       " numpy.datetime64('2015-06-12T18:02:14.000000000'),\n",
       " numpy.datetime64('2015-06-12T19:50:47.000000000'),\n",
       " numpy.datetime64('2015-06-12T20:30:18.000000000'),\n",
       " numpy.datetime64('2015-06-12T21:35:44.000000000'),\n",
       " numpy.datetime64('2015-06-12T21:42:04.000000000'),\n",
       " numpy.datetime64('2015-06-12T22:58:04.000000000'),\n",
       " numpy.datetime64('2015-06-13T00:13:19.000000000'),\n",
       " numpy.datetime64('2015-06-13T00:17:06.000000000'),\n",
       " numpy.datetime64('2015-06-13T00:26:10.000000000'),\n",
       " numpy.datetime64('2015-06-13T00:30:57.000000000'),\n",
       " numpy.datetime64('2015-06-13T00:33:21.000000000'),\n",
       " numpy.datetime64('2015-06-13T14:21:14.000000000'),\n",
       " numpy.datetime64('2015-06-13T16:26:11.000000000'),\n",
       " numpy.datetime64('2015-06-13T18:36:24.000000000'),\n",
       " numpy.datetime64('2015-06-13T18:48:49.000000000'),\n",
       " numpy.datetime64('2015-06-13T18:52:52.000000000'),\n",
       " numpy.datetime64('2015-06-13T18:56:47.000000000'),\n",
       " numpy.datetime64('2015-06-13T19:01:13.000000000'),\n",
       " numpy.datetime64('2015-06-13T19:08:41.000000000'),\n",
       " numpy.datetime64('2015-06-13T19:11:58.000000000'),\n",
       " numpy.datetime64('2015-06-13T19:14:42.000000000'),\n",
       " numpy.datetime64('2015-06-13T19:20:58.000000000'),\n",
       " numpy.datetime64('2015-06-13T22:14:42.000000000'),\n",
       " numpy.datetime64('2015-06-13T22:39:42.000000000'),\n",
       " numpy.datetime64('2015-06-14T00:00:08.000000000'),\n",
       " numpy.datetime64('2015-06-14T00:34:33.000000000'),\n",
       " numpy.datetime64('2015-06-14T01:02:59.000000000'),\n",
       " numpy.datetime64('2015-06-14T13:00:08.000000000'),\n",
       " numpy.datetime64('2015-06-14T14:38:26.000000000'),\n",
       " numpy.datetime64('2015-06-14T15:55:49.000000000'),\n",
       " numpy.datetime64('2015-06-14T16:00:46.000000000'),\n",
       " numpy.datetime64('2015-06-14T16:04:05.000000000'),\n",
       " numpy.datetime64('2015-06-14T16:12:42.000000000'),\n",
       " numpy.datetime64('2015-06-14T16:17:08.000000000'),\n",
       " numpy.datetime64('2015-06-14T16:21:08.000000000'),\n",
       " numpy.datetime64('2015-06-14T16:25:11.000000000'),\n",
       " numpy.datetime64('2015-06-14T16:38:26.000000000'),\n",
       " numpy.datetime64('2015-06-14T17:28:55.000000000'),\n",
       " numpy.datetime64('2015-06-14T18:13:54.000000000'),\n",
       " numpy.datetime64('2015-06-14T22:13:36.000000000'),\n",
       " numpy.datetime64('2015-06-14T22:34:31.000000000'),\n",
       " numpy.datetime64('2015-06-15T02:30:47.000000000'),\n",
       " numpy.datetime64('2015-06-15T09:08:37.000000000'),\n",
       " numpy.datetime64('2015-06-15T09:17:47.000000000'),\n",
       " numpy.datetime64('2015-06-15T09:32:02.000000000'),\n",
       " numpy.datetime64('2015-06-15T10:28:50.000000000'),\n",
       " numpy.datetime64('2015-06-15T13:01:38.000000000'),\n",
       " numpy.datetime64('2015-06-15T15:27:43.000000000'),\n",
       " numpy.datetime64('2015-06-15T18:02:57.000000000'),\n",
       " numpy.datetime64('2015-06-15T20:48:54.000000000'),\n",
       " numpy.datetime64('2015-06-15T23:18:22.000000000'),\n",
       " numpy.datetime64('2015-06-16T01:31:05.000000000'),\n",
       " numpy.datetime64('2015-06-16T02:37:56.000000000'),\n",
       " numpy.datetime64('2015-06-16T09:44:48.000000000'),\n",
       " numpy.datetime64('2015-06-16T14:17:25.000000000'),\n",
       " numpy.datetime64('2015-06-16T15:24:00.000000000'),\n",
       " numpy.datetime64('2015-06-16T17:12:01.000000000'),\n",
       " numpy.datetime64('2015-06-16T18:06:39.000000000'),\n",
       " numpy.datetime64('2015-06-16T22:21:18.000000000'),\n",
       " numpy.datetime64('2015-06-16T23:58:40.000000000'),\n",
       " numpy.datetime64('2015-06-17T00:45:41.000000000'),\n",
       " numpy.datetime64('2015-06-17T10:00:44.000000000'),\n",
       " numpy.datetime64('2015-06-17T10:34:14.000000000'),\n",
       " numpy.datetime64('2015-06-17T10:41:59.000000000'),\n",
       " numpy.datetime64('2015-06-17T11:08:14.000000000'),\n",
       " numpy.datetime64('2015-06-17T13:21:12.000000000'),\n",
       " numpy.datetime64('2015-06-17T15:52:15.000000000'),\n",
       " numpy.datetime64('2015-06-17T15:56:47.000000000'),\n",
       " numpy.datetime64('2015-06-17T18:24:25.000000000'),\n",
       " numpy.datetime64('2015-06-17T23:29:30.000000000'),\n",
       " numpy.datetime64('2015-06-18T01:03:48.000000000'),\n",
       " numpy.datetime64('2015-06-18T01:58:11.000000000'),\n",
       " numpy.datetime64('2015-06-18T02:43:32.000000000'),\n",
       " numpy.datetime64('2015-06-18T02:46:04.000000000'),\n",
       " numpy.datetime64('2015-06-18T03:25:56.000000000'),\n",
       " numpy.datetime64('2015-06-18T05:06:15.000000000'),\n",
       " numpy.datetime64('2015-06-18T15:16:38.000000000'),\n",
       " numpy.datetime64('2015-06-18T15:49:32.000000000'),\n",
       " numpy.datetime64('2015-06-18T15:50:13.000000000'),\n",
       " numpy.datetime64('2015-06-18T16:13:39.000000000'),\n",
       " numpy.datetime64('2015-06-18T17:03:52.000000000'),\n",
       " numpy.datetime64('2015-06-18T18:49:59.000000000'),\n",
       " numpy.datetime64('2015-06-18T20:00:04.000000000'),\n",
       " numpy.datetime64('2015-06-18T22:25:29.000000000'),\n",
       " numpy.datetime64('2015-06-18T23:15:27.000000000'),\n",
       " numpy.datetime64('2015-06-19T10:53:22.000000000'),\n",
       " numpy.datetime64('2015-06-19T11:01:05.000000000'),\n",
       " numpy.datetime64('2015-06-19T11:59:17.000000000'),\n",
       " numpy.datetime64('2015-06-19T12:41:31.000000000'),\n",
       " numpy.datetime64('2015-06-19T14:11:57.000000000'),\n",
       " numpy.datetime64('2015-06-19T15:09:10.000000000'),\n",
       " numpy.datetime64('2015-06-19T17:20:05.000000000'),\n",
       " numpy.datetime64('2015-06-19T17:57:27.000000000'),\n",
       " numpy.datetime64('2015-06-19T18:16:28.000000000'),\n",
       " numpy.datetime64('2015-06-19T21:43:35.000000000'),\n",
       " numpy.datetime64('2015-06-19T22:10:45.000000000'),\n",
       " numpy.datetime64('2015-06-19T22:16:33.000000000'),\n",
       " numpy.datetime64('2015-06-19T22:22:16.000000000'),\n",
       " numpy.datetime64('2015-06-19T22:52:04.000000000'),\n",
       " numpy.datetime64('2015-06-19T23:57:11.000000000'),\n",
       " numpy.datetime64('2015-06-20T00:46:59.000000000'),\n",
       " numpy.datetime64('2015-06-20T00:53:35.000000000'),\n",
       " numpy.datetime64('2015-06-20T01:53:55.000000000'),\n",
       " numpy.datetime64('2015-06-20T09:50:55.000000000'),\n",
       " numpy.datetime64('2015-06-20T13:23:38.000000000'),\n",
       " numpy.datetime64('2015-06-20T13:57:07.000000000'),\n",
       " numpy.datetime64('2015-06-20T16:55:30.000000000'),\n",
       " numpy.datetime64('2015-06-20T19:18:00.000000000'),\n",
       " numpy.datetime64('2015-06-20T23:27:48.000000000'),\n",
       " numpy.datetime64('2015-06-20T23:32:28.000000000'),\n",
       " numpy.datetime64('2015-06-20T23:35:18.000000000'),\n",
       " numpy.datetime64('2015-06-21T00:29:39.000000000'),\n",
       " numpy.datetime64('2015-06-21T00:38:53.000000000'),\n",
       " numpy.datetime64('2015-06-21T00:44:06.000000000'),\n",
       " numpy.datetime64('2015-06-21T00:46:03.000000000'),\n",
       " numpy.datetime64('2015-06-21T00:49:13.000000000'),\n",
       " numpy.datetime64('2015-06-21T00:54:20.000000000'),\n",
       " numpy.datetime64('2015-06-21T01:16:06.000000000'),\n",
       " numpy.datetime64('2015-06-21T03:20:49.000000000'),\n",
       " numpy.datetime64('2015-06-21T11:14:13.000000000'),\n",
       " numpy.datetime64('2015-06-21T12:12:39.000000000'),\n",
       " numpy.datetime64('2015-06-21T13:01:25.000000000'),\n",
       " numpy.datetime64('2015-06-21T14:50:13.000000000'),\n",
       " numpy.datetime64('2015-06-21T15:10:33.000000000'),\n",
       " numpy.datetime64('2015-06-21T15:44:14.000000000'),\n",
       " numpy.datetime64('2015-06-21T16:26:35.000000000'),\n",
       " numpy.datetime64('2015-06-21T16:40:16.000000000'),\n",
       " numpy.datetime64('2015-06-21T16:49:33.000000000'),\n",
       " numpy.datetime64('2015-06-21T16:56:34.000000000'),\n",
       " numpy.datetime64('2015-06-21T17:12:13.000000000'),\n",
       " numpy.datetime64('2015-06-21T17:23:53.000000000'),\n",
       " numpy.datetime64('2015-06-21T18:16:11.000000000'),\n",
       " numpy.datetime64('2015-06-21T18:17:43.000000000'),\n",
       " numpy.datetime64('2015-06-21T18:26:38.000000000'),\n",
       " numpy.datetime64('2015-06-21T18:38:48.000000000'),\n",
       " numpy.datetime64('2015-06-21T18:40:03.000000000'),\n",
       " numpy.datetime64('2015-06-21T19:19:54.000000000'),\n",
       " numpy.datetime64('2015-06-21T19:53:55.000000000'),\n",
       " numpy.datetime64('2015-06-21T20:17:17.000000000'),\n",
       " numpy.datetime64('2015-06-21T20:34:40.000000000'),\n",
       " numpy.datetime64('2015-06-21T22:56:08.000000000'),\n",
       " numpy.datetime64('2015-06-21T22:56:30.000000000'),\n",
       " numpy.datetime64('2015-06-22T01:37:15.000000000'),\n",
       " numpy.datetime64('2015-06-22T03:41:59.000000000'),\n",
       " numpy.datetime64('2015-06-22T08:35:02.000000000'),\n",
       " numpy.datetime64('2015-06-22T09:16:18.000000000'),\n",
       " numpy.datetime64('2015-06-22T09:40:47.000000000'),\n",
       " numpy.datetime64('2015-06-22T09:51:24.000000000'),\n",
       " numpy.datetime64('2015-06-22T10:05:38.000000000'),\n",
       " numpy.datetime64('2015-06-22T10:21:42.000000000'),\n",
       " numpy.datetime64('2015-06-22T10:25:19.000000000'),\n",
       " numpy.datetime64('2015-06-22T10:34:30.000000000'),\n",
       " numpy.datetime64('2015-06-22T10:39:15.000000000'),\n",
       " numpy.datetime64('2015-06-22T10:41:05.000000000'),\n",
       " numpy.datetime64('2015-06-22T10:44:50.000000000'),\n",
       " numpy.datetime64('2015-06-22T10:49:50.000000000'),\n",
       " numpy.datetime64('2015-06-22T10:58:58.000000000'),\n",
       " numpy.datetime64('2015-06-22T11:01:59.000000000'),\n",
       " numpy.datetime64('2015-06-22T11:14:33.000000000'),\n",
       " numpy.datetime64('2015-06-22T11:15:34.000000000'),\n",
       " numpy.datetime64('2015-06-22T11:16:12.000000000'),\n",
       " numpy.datetime64('2015-06-22T11:16:40.000000000'),\n",
       " numpy.datetime64('2015-06-22T11:17:31.000000000'),\n",
       " numpy.datetime64('2015-06-22T11:21:43.000000000'),\n",
       " numpy.datetime64('2015-06-22T11:22:07.000000000'),\n",
       " numpy.datetime64('2015-06-22T11:23:27.000000000'),\n",
       " numpy.datetime64('2015-06-22T11:26:57.000000000'),\n",
       " numpy.datetime64('2015-06-22T11:28:47.000000000'),\n",
       " numpy.datetime64('2015-06-22T11:29:15.000000000'),\n",
       " numpy.datetime64('2015-06-22T11:31:12.000000000'),\n",
       " numpy.datetime64('2015-06-22T11:34:33.000000000'),\n",
       " numpy.datetime64('2015-06-22T11:36:18.000000000'),\n",
       " numpy.datetime64('2015-06-22T11:38:05.000000000'),\n",
       " numpy.datetime64('2015-06-22T11:40:05.000000000'),\n",
       " numpy.datetime64('2015-06-22T11:41:12.000000000'),\n",
       " numpy.datetime64('2015-06-22T11:41:20.000000000'),\n",
       " numpy.datetime64('2015-06-22T11:43:15.000000000'),\n",
       " numpy.datetime64('2015-06-22T11:44:04.000000000'),\n",
       " numpy.datetime64('2015-06-22T11:48:32.000000000'),\n",
       " numpy.datetime64('2015-06-22T11:49:32.000000000'),\n",
       " numpy.datetime64('2015-06-22T11:51:57.000000000'),\n",
       " numpy.datetime64('2015-06-22T11:53:01.000000000'),\n",
       " numpy.datetime64('2015-06-22T12:00:19.000000000'),\n",
       " numpy.datetime64('2015-06-22T12:02:28.000000000'),\n",
       " numpy.datetime64('2015-06-22T12:11:18.000000000'),\n",
       " numpy.datetime64('2015-06-22T12:12:34.000000000'),\n",
       " numpy.datetime64('2015-06-22T12:14:22.000000000'),\n",
       " numpy.datetime64('2015-06-22T12:15:59.000000000'),\n",
       " numpy.datetime64('2015-06-22T12:19:40.000000000'),\n",
       " numpy.datetime64('2015-06-22T12:22:38.000000000'),\n",
       " numpy.datetime64('2015-06-22T12:23:56.000000000'),\n",
       " numpy.datetime64('2015-06-22T12:24:01.000000000'),\n",
       " numpy.datetime64('2015-06-22T12:24:11.000000000'),\n",
       " numpy.datetime64('2015-06-22T12:33:05.000000000'),\n",
       " numpy.datetime64('2015-06-22T12:41:00.000000000'),\n",
       " numpy.datetime64('2015-06-22T12:41:12.000000000'),\n",
       " numpy.datetime64('2015-06-22T12:42:42.000000000'),\n",
       " numpy.datetime64('2015-06-22T12:43:32.000000000'),\n",
       " numpy.datetime64('2015-06-22T12:43:34.000000000'),\n",
       " numpy.datetime64('2015-06-22T12:45:51.000000000'),\n",
       " numpy.datetime64('2015-06-22T12:47:59.000000000'),\n",
       " numpy.datetime64('2015-06-22T12:49:18.000000000'),\n",
       " numpy.datetime64('2015-06-22T12:51:13.000000000'),\n",
       " numpy.datetime64('2015-06-22T12:55:54.000000000'),\n",
       " numpy.datetime64('2015-06-22T12:59:19.000000000'),\n",
       " numpy.datetime64('2015-06-22T13:01:57.000000000'),\n",
       " numpy.datetime64('2015-06-22T13:02:23.000000000'),\n",
       " numpy.datetime64('2015-06-22T13:08:01.000000000'),\n",
       " numpy.datetime64('2015-06-22T13:09:28.000000000'),\n",
       " numpy.datetime64('2015-06-22T13:10:37.000000000'),\n",
       " numpy.datetime64('2015-06-22T13:13:28.000000000'),\n",
       " numpy.datetime64('2015-06-22T13:21:14.000000000'),\n",
       " numpy.datetime64('2015-06-22T13:23:44.000000000'),\n",
       " numpy.datetime64('2015-06-22T13:23:51.000000000'),\n",
       " numpy.datetime64('2015-06-22T13:27:02.000000000'),\n",
       " numpy.datetime64('2015-06-22T13:32:37.000000000'),\n",
       " numpy.datetime64('2015-06-22T13:36:15.000000000'),\n",
       " numpy.datetime64('2015-06-22T13:40:11.000000000'),\n",
       " numpy.datetime64('2015-06-22T13:43:38.000000000'),\n",
       " numpy.datetime64('2015-06-22T13:44:55.000000000'),\n",
       " numpy.datetime64('2015-06-22T13:46:22.000000000'),\n",
       " numpy.datetime64('2015-06-22T13:47:33.000000000'),\n",
       " numpy.datetime64('2015-06-22T13:48:30.000000000'),\n",
       " numpy.datetime64('2015-06-22T13:49:22.000000000'),\n",
       " numpy.datetime64('2015-06-22T13:49:59.000000000'),\n",
       " numpy.datetime64('2015-06-22T13:50:35.000000000'),\n",
       " numpy.datetime64('2015-06-22T13:51:53.000000000'),\n",
       " numpy.datetime64('2015-06-22T13:54:02.000000000'),\n",
       " numpy.datetime64('2015-06-22T14:03:10.000000000'),\n",
       " numpy.datetime64('2015-06-22T14:04:38.000000000'),\n",
       " numpy.datetime64('2015-06-22T14:14:16.000000000'),\n",
       " numpy.datetime64('2015-06-22T14:27:47.000000000'),\n",
       " numpy.datetime64('2015-06-22T14:34:29.000000000'),\n",
       " numpy.datetime64('2015-06-22T14:37:07.000000000'),\n",
       " numpy.datetime64('2015-06-22T14:39:54.000000000'),\n",
       " numpy.datetime64('2015-06-22T14:41:05.000000000'),\n",
       " numpy.datetime64('2015-06-22T14:47:46.000000000'),\n",
       " numpy.datetime64('2015-06-22T14:51:42.000000000'),\n",
       " numpy.datetime64('2015-06-22T15:00:59.000000000'),\n",
       " numpy.datetime64('2015-06-22T15:08:16.000000000'),\n",
       " numpy.datetime64('2015-06-22T15:10:24.000000000'),\n",
       " numpy.datetime64('2015-06-22T15:23:43.000000000'),\n",
       " numpy.datetime64('2015-06-22T15:26:31.000000000'),\n",
       " numpy.datetime64('2015-06-22T15:35:05.000000000'),\n",
       " numpy.datetime64('2015-06-22T15:35:49.000000000'),\n",
       " numpy.datetime64('2015-06-22T15:35:54.000000000'),\n",
       " numpy.datetime64('2015-06-22T15:41:49.000000000'),\n",
       " numpy.datetime64('2015-06-22T15:50:12.000000000'),\n",
       " numpy.datetime64('2015-06-22T15:50:34.000000000'),\n",
       " numpy.datetime64('2015-06-22T15:58:02.000000000'),\n",
       " numpy.datetime64('2015-06-22T15:58:17.000000000'),\n",
       " numpy.datetime64('2015-06-22T16:12:01.000000000'),\n",
       " numpy.datetime64('2015-06-22T16:14:08.000000000'),\n",
       " numpy.datetime64('2015-06-22T16:32:35.000000000'),\n",
       " numpy.datetime64('2015-06-22T16:32:44.000000000'),\n",
       " numpy.datetime64('2015-06-22T16:40:56.000000000'),\n",
       " numpy.datetime64('2015-06-22T17:27:43.000000000'),\n",
       " numpy.datetime64('2015-06-22T17:28:02.000000000'),\n",
       " numpy.datetime64('2015-06-22T18:00:18.000000000'),\n",
       " numpy.datetime64('2015-06-22T18:02:37.000000000'),\n",
       " numpy.datetime64('2015-06-22T18:04:01.000000000'),\n",
       " numpy.datetime64('2015-06-22T18:30:09.000000000'),\n",
       " numpy.datetime64('2015-06-22T18:39:03.000000000'),\n",
       " numpy.datetime64('2015-06-22T18:50:23.000000000'),\n",
       " numpy.datetime64('2015-06-22T18:58:10.000000000'),\n",
       " numpy.datetime64('2015-06-22T19:10:28.000000000'),\n",
       " numpy.datetime64('2015-06-22T19:14:26.000000000'),\n",
       " numpy.datetime64('2015-06-22T19:31:48.000000000'),\n",
       " numpy.datetime64('2015-06-22T19:52:15.000000000'),\n",
       " numpy.datetime64('2015-06-22T20:07:10.000000000'),\n",
       " numpy.datetime64('2015-06-22T21:15:19.000000000'),\n",
       " numpy.datetime64('2015-06-22T21:18:37.000000000'),\n",
       " numpy.datetime64('2015-06-22T21:18:40.000000000'),\n",
       " numpy.datetime64('2015-06-22T21:37:43.000000000'),\n",
       " numpy.datetime64('2015-06-22T21:48:22.000000000'),\n",
       " numpy.datetime64('2015-06-22T21:52:16.000000000'),\n",
       " numpy.datetime64('2015-06-22T21:54:15.000000000'),\n",
       " numpy.datetime64('2015-06-22T21:55:23.000000000'),\n",
       " numpy.datetime64('2015-06-22T21:57:26.000000000'),\n",
       " numpy.datetime64('2015-06-22T21:58:09.000000000'),\n",
       " numpy.datetime64('2015-06-22T22:13:39.000000000'),\n",
       " numpy.datetime64('2015-06-22T22:22:58.000000000'),\n",
       " numpy.datetime64('2015-06-22T22:29:46.000000000'),\n",
       " numpy.datetime64('2015-06-22T22:41:50.000000000'),\n",
       " numpy.datetime64('2015-06-22T23:08:56.000000000'),\n",
       " numpy.datetime64('2015-06-22T23:09:56.000000000'),\n",
       " numpy.datetime64('2015-06-22T23:13:25.000000000'),\n",
       " numpy.datetime64('2015-06-22T23:16:28.000000000'),\n",
       " numpy.datetime64('2015-06-22T23:17:21.000000000'),\n",
       " numpy.datetime64('2015-06-22T23:18:37.000000000'),\n",
       " numpy.datetime64('2015-06-22T23:22:48.000000000'),\n",
       " numpy.datetime64('2015-06-22T23:23:55.000000000'),\n",
       " numpy.datetime64('2015-06-22T23:25:33.000000000'),\n",
       " numpy.datetime64('2015-06-22T23:32:05.000000000'),\n",
       " numpy.datetime64('2015-06-22T23:42:04.000000000'),\n",
       " numpy.datetime64('2015-06-22T23:55:56.000000000'),\n",
       " numpy.datetime64('2015-06-23T00:08:02.000000000'),\n",
       " numpy.datetime64('2015-06-23T00:10:56.000000000'),\n",
       " numpy.datetime64('2015-06-23T00:13:09.000000000'),\n",
       " numpy.datetime64('2015-06-23T00:14:08.000000000'),\n",
       " numpy.datetime64('2015-06-23T00:24:08.000000000'),\n",
       " numpy.datetime64('2015-06-23T00:26:10.000000000'),\n",
       " numpy.datetime64('2015-06-23T00:31:38.000000000'),\n",
       " numpy.datetime64('2015-06-23T00:36:43.000000000'),\n",
       " numpy.datetime64('2015-06-23T00:43:07.000000000'),\n",
       " numpy.datetime64('2015-06-23T00:43:34.000000000'),\n",
       " numpy.datetime64('2015-06-23T00:43:44.000000000'),\n",
       " numpy.datetime64('2015-06-23T00:49:31.000000000'),\n",
       " numpy.datetime64('2015-06-23T00:51:32.000000000'),\n",
       " numpy.datetime64('2015-06-23T00:52:58.000000000'),\n",
       " numpy.datetime64('2015-06-23T00:55:18.000000000'),\n",
       " numpy.datetime64('2015-06-23T00:55:56.000000000'),\n",
       " numpy.datetime64('2015-06-23T00:58:09.000000000'),\n",
       " numpy.datetime64('2015-06-23T00:59:08.000000000'),\n",
       " numpy.datetime64('2015-06-23T01:03:55.000000000'),\n",
       " numpy.datetime64('2015-06-23T01:04:02.000000000'),\n",
       " numpy.datetime64('2015-06-23T01:05:33.000000000'),\n",
       " numpy.datetime64('2015-06-23T01:08:41.000000000'),\n",
       " numpy.datetime64('2015-06-23T01:21:10.000000000'),\n",
       " numpy.datetime64('2015-06-23T01:21:56.000000000'),\n",
       " numpy.datetime64('2015-06-23T01:35:42.000000000'),\n",
       " numpy.datetime64('2015-06-23T02:04:34.000000000'),\n",
       " numpy.datetime64('2015-06-23T02:12:26.000000000'),\n",
       " numpy.datetime64('2015-06-23T02:31:52.000000000'),\n",
       " numpy.datetime64('2015-06-23T06:31:14.000000000'),\n",
       " numpy.datetime64('2015-06-23T06:46:40.000000000'),\n",
       " numpy.datetime64('2015-06-23T06:50:46.000000000'),\n",
       " numpy.datetime64('2015-06-23T08:47:24.000000000'),\n",
       " numpy.datetime64('2015-06-23T09:09:31.000000000'),\n",
       " numpy.datetime64('2015-06-23T09:23:23.000000000'),\n",
       " numpy.datetime64('2015-06-23T09:31:57.000000000'),\n",
       " numpy.datetime64('2015-06-23T09:38:01.000000000'),\n",
       " numpy.datetime64('2015-06-23T09:38:24.000000000'),\n",
       " numpy.datetime64('2015-06-23T09:41:20.000000000'),\n",
       " numpy.datetime64('2015-06-23T09:43:22.000000000'),\n",
       " numpy.datetime64('2015-06-23T10:03:21.000000000'),\n",
       " numpy.datetime64('2015-06-23T10:03:40.000000000'),\n",
       " numpy.datetime64('2015-06-23T10:30:43.000000000'),\n",
       " numpy.datetime64('2015-06-23T10:31:37.000000000'),\n",
       " numpy.datetime64('2015-06-23T10:41:07.000000000'),\n",
       " numpy.datetime64('2015-06-23T10:43:18.000000000'),\n",
       " numpy.datetime64('2015-06-23T11:00:18.000000000'),\n",
       " numpy.datetime64('2015-06-23T11:43:36.000000000'),\n",
       " numpy.datetime64('2015-06-23T12:17:22.000000000'),\n",
       " numpy.datetime64('2015-06-23T12:30:46.000000000'),\n",
       " numpy.datetime64('2015-06-23T12:44:28.000000000'),\n",
       " numpy.datetime64('2015-06-23T12:56:16.000000000'),\n",
       " numpy.datetime64('2015-06-23T13:00:38.000000000'),\n",
       " numpy.datetime64('2015-06-23T13:28:12.000000000'),\n",
       " numpy.datetime64('2015-06-23T13:36:27.000000000'),\n",
       " numpy.datetime64('2015-06-23T13:46:24.000000000'),\n",
       " numpy.datetime64('2015-06-23T13:46:35.000000000'),\n",
       " numpy.datetime64('2015-06-23T13:57:01.000000000'),\n",
       " numpy.datetime64('2015-06-23T14:04:25.000000000'),\n",
       " numpy.datetime64('2015-06-23T14:05:25.000000000'),\n",
       " numpy.datetime64('2015-06-23T14:09:42.000000000'),\n",
       " numpy.datetime64('2015-06-23T14:39:29.000000000'),\n",
       " numpy.datetime64('2015-06-23T14:47:46.000000000'),\n",
       " numpy.datetime64('2015-06-23T14:58:08.000000000'),\n",
       " numpy.datetime64('2015-06-23T15:05:23.000000000'),\n",
       " numpy.datetime64('2015-06-23T15:06:20.000000000'),\n",
       " numpy.datetime64('2015-06-23T15:10:43.000000000'),\n",
       " numpy.datetime64('2015-06-23T15:14:38.000000000'),\n",
       " numpy.datetime64('2015-06-23T15:24:25.000000000'),\n",
       " numpy.datetime64('2015-06-23T15:39:03.000000000'),\n",
       " numpy.datetime64('2015-06-23T15:40:13.000000000'),\n",
       " numpy.datetime64('2015-06-23T15:49:16.000000000'),\n",
       " numpy.datetime64('2015-06-23T15:53:08.000000000'),\n",
       " numpy.datetime64('2015-06-23T15:59:44.000000000'),\n",
       " numpy.datetime64('2015-06-23T16:02:43.000000000'),\n",
       " numpy.datetime64('2015-06-23T16:24:02.000000000'),\n",
       " numpy.datetime64('2015-06-23T16:26:31.000000000'),\n",
       " numpy.datetime64('2015-06-23T16:35:00.000000000'),\n",
       " numpy.datetime64('2015-06-23T16:38:41.000000000'),\n",
       " numpy.datetime64('2015-06-23T16:43:05.000000000'),\n",
       " numpy.datetime64('2015-06-23T16:46:49.000000000'),\n",
       " numpy.datetime64('2015-06-23T16:53:18.000000000'),\n",
       " numpy.datetime64('2015-06-23T17:00:51.000000000'),\n",
       " numpy.datetime64('2015-06-23T17:01:30.000000000'),\n",
       " numpy.datetime64('2015-06-23T17:15:17.000000000'),\n",
       " numpy.datetime64('2015-06-23T17:19:14.000000000'),\n",
       " numpy.datetime64('2015-06-23T17:22:09.000000000'),\n",
       " numpy.datetime64('2015-06-23T17:26:47.000000000'),\n",
       " numpy.datetime64('2015-06-23T17:36:54.000000000'),\n",
       " numpy.datetime64('2015-06-23T17:54:43.000000000'),\n",
       " numpy.datetime64('2015-06-23T17:58:54.000000000'),\n",
       " numpy.datetime64('2015-06-23T18:24:02.000000000'),\n",
       " numpy.datetime64('2015-06-23T18:32:53.000000000'),\n",
       " numpy.datetime64('2015-06-23T18:46:49.000000000'),\n",
       " numpy.datetime64('2015-06-23T18:46:52.000000000'),\n",
       " numpy.datetime64('2015-06-23T18:48:15.000000000'),\n",
       " numpy.datetime64('2015-06-23T18:49:49.000000000'),\n",
       " numpy.datetime64('2015-06-23T18:51:45.000000000'),\n",
       " numpy.datetime64('2015-06-23T18:52:58.000000000'),\n",
       " numpy.datetime64('2015-06-23T18:54:45.000000000'),\n",
       " numpy.datetime64('2015-06-23T18:57:48.000000000'),\n",
       " numpy.datetime64('2015-06-23T19:01:22.000000000'),\n",
       " numpy.datetime64('2015-06-23T19:03:37.000000000'),\n",
       " numpy.datetime64('2015-06-23T19:05:14.000000000'),\n",
       " numpy.datetime64('2015-06-23T19:06:54.000000000'),\n",
       " numpy.datetime64('2015-06-23T19:07:54.000000000'),\n",
       " numpy.datetime64('2015-06-23T19:08:04.000000000'),\n",
       " numpy.datetime64('2015-06-23T19:09:26.000000000'),\n",
       " numpy.datetime64('2015-06-23T19:10:55.000000000'),\n",
       " numpy.datetime64('2015-06-23T19:12:00.000000000'),\n",
       " numpy.datetime64('2015-06-23T19:13:15.000000000'),\n",
       " numpy.datetime64('2015-06-23T19:17:08.000000000'),\n",
       " numpy.datetime64('2015-06-23T19:19:26.000000000'),\n",
       " numpy.datetime64('2015-06-23T19:23:19.000000000'),\n",
       " numpy.datetime64('2015-06-23T19:23:28.000000000'),\n",
       " numpy.datetime64('2015-06-23T19:33:47.000000000'),\n",
       " numpy.datetime64('2015-06-23T19:51:47.000000000'),\n",
       " numpy.datetime64('2015-06-23T20:03:34.000000000'),\n",
       " numpy.datetime64('2015-06-23T20:07:16.000000000'),\n",
       " numpy.datetime64('2015-06-23T21:06:22.000000000'),\n",
       " numpy.datetime64('2015-06-23T21:18:15.000000000'),\n",
       " numpy.datetime64('2015-06-23T21:33:38.000000000'),\n",
       " numpy.datetime64('2015-06-23T21:43:55.000000000'),\n",
       " numpy.datetime64('2015-06-23T22:03:13.000000000'),\n",
       " numpy.datetime64('2015-06-23T22:38:51.000000000'),\n",
       " numpy.datetime64('2015-06-23T23:26:49.000000000'),\n",
       " numpy.datetime64('2015-06-23T23:28:15.000000000'),\n",
       " numpy.datetime64('2015-06-23T23:46:49.000000000'),\n",
       " numpy.datetime64('2015-06-23T23:47:11.000000000'),\n",
       " numpy.datetime64('2015-06-23T23:49:11.000000000'),\n",
       " numpy.datetime64('2015-06-24T00:01:25.000000000'),\n",
       " numpy.datetime64('2015-06-24T00:09:07.000000000'),\n",
       " numpy.datetime64('2015-06-24T00:33:19.000000000'),\n",
       " numpy.datetime64('2015-06-24T00:33:58.000000000'),\n",
       " numpy.datetime64('2015-06-24T00:35:59.000000000'),\n",
       " numpy.datetime64('2015-06-24T00:38:33.000000000'),\n",
       " numpy.datetime64('2015-06-24T00:48:57.000000000'),\n",
       " numpy.datetime64('2015-06-24T00:51:45.000000000'),\n",
       " numpy.datetime64('2015-06-24T00:52:27.000000000'),\n",
       " numpy.datetime64('2015-06-24T00:54:11.000000000'),\n",
       " numpy.datetime64('2015-06-24T00:56:46.000000000'),\n",
       " numpy.datetime64('2015-06-24T00:59:15.000000000'),\n",
       " numpy.datetime64('2015-06-24T01:00:32.000000000'),\n",
       " numpy.datetime64('2015-06-24T01:02:59.000000000'),\n",
       " numpy.datetime64('2015-06-24T01:06:49.000000000'),\n",
       " numpy.datetime64('2015-06-24T01:09:53.000000000'),\n",
       " numpy.datetime64('2015-06-24T01:17:25.000000000'),\n",
       " numpy.datetime64('2015-06-24T01:18:08.000000000'),\n",
       " numpy.datetime64('2015-06-24T01:22:52.000000000'),\n",
       " numpy.datetime64('2015-06-24T01:28:02.000000000'),\n",
       " numpy.datetime64('2015-06-24T01:31:05.000000000'),\n",
       " numpy.datetime64('2015-06-24T01:33:47.000000000'),\n",
       " numpy.datetime64('2015-06-24T01:38:15.000000000'),\n",
       " numpy.datetime64('2015-06-24T01:39:44.000000000'),\n",
       " numpy.datetime64('2015-06-24T01:41:27.000000000'),\n",
       " numpy.datetime64('2015-06-24T01:42:03.000000000'),\n",
       " numpy.datetime64('2015-06-24T01:44:07.000000000'),\n",
       " numpy.datetime64('2015-06-24T01:48:04.000000000'),\n",
       " numpy.datetime64('2015-06-24T01:48:30.000000000'),\n",
       " numpy.datetime64('2015-06-24T02:41:11.000000000'),\n",
       " numpy.datetime64('2015-06-24T02:44:08.000000000'),\n",
       " numpy.datetime64('2015-06-24T03:00:29.000000000'),\n",
       " numpy.datetime64('2015-06-24T03:03:29.000000000'),\n",
       " numpy.datetime64('2015-06-24T03:07:01.000000000'),\n",
       " numpy.datetime64('2015-06-24T03:10:48.000000000'),\n",
       " numpy.datetime64('2015-06-24T03:38:07.000000000'),\n",
       " numpy.datetime64('2015-06-24T06:50:44.000000000'),\n",
       " numpy.datetime64('2015-06-24T07:42:54.000000000'),\n",
       " numpy.datetime64('2015-06-24T07:49:46.000000000'),\n",
       " numpy.datetime64('2015-06-24T07:51:23.000000000'),\n",
       " numpy.datetime64('2015-06-24T07:52:04.000000000'),\n",
       " numpy.datetime64('2015-06-24T07:53:22.000000000'),\n",
       " numpy.datetime64('2015-06-24T07:55:08.000000000'),\n",
       " numpy.datetime64('2015-06-24T07:56:28.000000000'),\n",
       " numpy.datetime64('2015-06-24T08:05:54.000000000'),\n",
       " numpy.datetime64('2015-06-24T08:35:54.000000000'),\n",
       " numpy.datetime64('2015-06-24T08:54:13.000000000'),\n",
       " numpy.datetime64('2015-06-24T08:54:37.000000000'),\n",
       " ...]"
      ]
     },
     "execution_count": 62,
     "metadata": {},
     "output_type": "execute_result"
    }
   ],
   "source": [
    "sorted(atc['reg_datetime'].unique())"
   ]
  },
  {
   "cell_type": "code",
   "execution_count": 63,
   "metadata": {},
   "outputs": [],
   "source": [
    "atc.loc[atc['reg_datetime'] == atc['reg_datetime'].min(), 'reg_datetime'] = datetime(2090, 12, 31)"
   ]
  },
  {
   "cell_type": "code",
   "execution_count": 64,
   "metadata": {},
   "outputs": [],
   "source": [
    "atc['reg_dt'] = atc['reg_datetime'].dt.date"
   ]
  },
  {
   "cell_type": "code",
   "execution_count": 65,
   "metadata": {},
   "outputs": [],
   "source": [
    "atc['type'] = atc['magazine_id'].apply(lambda x: '개인' if x == 0.0 else '매거진')"
   ]
  },
  {
   "cell_type": "code",
   "execution_count": 66,
   "metadata": {
    "scrolled": true
   },
   "outputs": [
    {
     "data": {
      "text/html": [
       "<div>\n",
       "<style scoped>\n",
       "    .dataframe tbody tr th:only-of-type {\n",
       "        vertical-align: middle;\n",
       "    }\n",
       "\n",
       "    .dataframe tbody tr th {\n",
       "        vertical-align: top;\n",
       "    }\n",
       "\n",
       "    .dataframe thead th {\n",
       "        text-align: right;\n",
       "    }\n",
       "</style>\n",
       "<table border=\"1\" class=\"dataframe\">\n",
       "  <thead>\n",
       "    <tr style=\"text-align: right;\">\n",
       "      <th></th>\n",
       "      <th>magazine_id</th>\n",
       "      <th>user_id</th>\n",
       "      <th>title</th>\n",
       "      <th>keyword_list</th>\n",
       "      <th>display_url</th>\n",
       "      <th>sub_title</th>\n",
       "      <th>reg_ts</th>\n",
       "      <th>article_id</th>\n",
       "      <th>id</th>\n",
       "      <th>reg_datetime</th>\n",
       "      <th>reg_dt</th>\n",
       "      <th>type</th>\n",
       "    </tr>\n",
       "  </thead>\n",
       "  <tbody>\n",
       "    <tr>\n",
       "      <th>0</th>\n",
       "      <td>8982</td>\n",
       "      <td>@bookdb</td>\n",
       "      <td>사진으로 옮기기에도 아까운, 리치필드 국립공원</td>\n",
       "      <td>[여행, 호주, 국립공원]</td>\n",
       "      <td>https://brunch.co.kr/@bookdb/782</td>\n",
       "      <td>세상 어디에도 없는 호주 Top 10</td>\n",
       "      <td>1474944427000</td>\n",
       "      <td>782</td>\n",
       "      <td>@bookdb_782</td>\n",
       "      <td>2016-09-27 11:47:07</td>\n",
       "      <td>2016-09-27</td>\n",
       "      <td>매거진</td>\n",
       "    </tr>\n",
       "    <tr>\n",
       "      <th>1</th>\n",
       "      <td>12081</td>\n",
       "      <td>@kohwang56</td>\n",
       "      <td>[시] 서러운 봄</td>\n",
       "      <td>[목련꽃, 아지랑이, 동행]</td>\n",
       "      <td>https://brunch.co.kr/@kohwang56/81</td>\n",
       "      <td></td>\n",
       "      <td>1463092749000</td>\n",
       "      <td>81</td>\n",
       "      <td>@kohwang56_81</td>\n",
       "      <td>2016-05-13 07:39:09</td>\n",
       "      <td>2016-05-13</td>\n",
       "      <td>매거진</td>\n",
       "    </tr>\n",
       "  </tbody>\n",
       "</table>\n",
       "</div>"
      ],
      "text/plain": [
       "   magazine_id     user_id                      title     keyword_list  \\\n",
       "0         8982     @bookdb  사진으로 옮기기에도 아까운, 리치필드 국립공원   [여행, 호주, 국립공원]   \n",
       "1        12081  @kohwang56                  [시] 서러운 봄  [목련꽃, 아지랑이, 동행]   \n",
       "\n",
       "                          display_url             sub_title         reg_ts  \\\n",
       "0    https://brunch.co.kr/@bookdb/782  세상 어디에도 없는 호주 Top 10  1474944427000   \n",
       "1  https://brunch.co.kr/@kohwang56/81                        1463092749000   \n",
       "\n",
       "   article_id             id        reg_datetime      reg_dt type  \n",
       "0         782    @bookdb_782 2016-09-27 11:47:07  2016-09-27  매거진  \n",
       "1          81  @kohwang56_81 2016-05-13 07:39:09  2016-05-13  매거진  "
      ]
     },
     "execution_count": 66,
     "metadata": {},
     "output_type": "execute_result"
    }
   ],
   "source": [
    "atc.head(2)"
   ]
  },
  {
   "cell_type": "code",
   "execution_count": 67,
   "metadata": {},
   "outputs": [
    {
     "data": {
      "text/plain": [
       "Index(['magazine_id', 'user_id', 'title', 'keyword_list', 'display_url',\n",
       "       'sub_title', 'reg_ts', 'article_id', 'id', 'reg_datetime', 'reg_dt',\n",
       "       'type'],\n",
       "      dtype='object')"
      ]
     },
     "execution_count": 67,
     "metadata": {},
     "output_type": "execute_result"
    }
   ],
   "source": [
    "atc.columns"
   ]
  },
  {
   "cell_type": "code",
   "execution_count": 85,
   "metadata": {},
   "outputs": [],
   "source": [
    "atc.columns = ['magazine_id', 'author_id', 'title', 'keyword_list', 'display_url', 'sub_title', 'reg_ts', 'id', 'article_id', 'reg_datetime', 'reg_dt', 'type']"
   ]
  },
  {
   "cell_type": "code",
   "execution_count": 86,
   "metadata": {},
   "outputs": [
    {
     "data": {
      "text/html": [
       "<div>\n",
       "<style scoped>\n",
       "    .dataframe tbody tr th:only-of-type {\n",
       "        vertical-align: middle;\n",
       "    }\n",
       "\n",
       "    .dataframe tbody tr th {\n",
       "        vertical-align: top;\n",
       "    }\n",
       "\n",
       "    .dataframe thead th {\n",
       "        text-align: right;\n",
       "    }\n",
       "</style>\n",
       "<table border=\"1\" class=\"dataframe\">\n",
       "  <thead>\n",
       "    <tr style=\"text-align: right;\">\n",
       "      <th></th>\n",
       "      <th>magazine_id</th>\n",
       "      <th>author_id</th>\n",
       "      <th>title</th>\n",
       "      <th>keyword_list</th>\n",
       "      <th>display_url</th>\n",
       "      <th>sub_title</th>\n",
       "      <th>reg_ts</th>\n",
       "      <th>id</th>\n",
       "      <th>article_id</th>\n",
       "      <th>reg_datetime</th>\n",
       "      <th>reg_dt</th>\n",
       "      <th>type</th>\n",
       "    </tr>\n",
       "  </thead>\n",
       "  <tbody>\n",
       "    <tr>\n",
       "      <th>0</th>\n",
       "      <td>8982</td>\n",
       "      <td>@bookdb</td>\n",
       "      <td>사진으로 옮기기에도 아까운, 리치필드 국립공원</td>\n",
       "      <td>[여행, 호주, 국립공원]</td>\n",
       "      <td>https://brunch.co.kr/@bookdb/782</td>\n",
       "      <td>세상 어디에도 없는 호주 Top 10</td>\n",
       "      <td>1474944427000</td>\n",
       "      <td>782</td>\n",
       "      <td>@bookdb_782</td>\n",
       "      <td>2016-09-27 11:47:07</td>\n",
       "      <td>2016-09-27</td>\n",
       "      <td>매거진</td>\n",
       "    </tr>\n",
       "    <tr>\n",
       "      <th>1</th>\n",
       "      <td>12081</td>\n",
       "      <td>@kohwang56</td>\n",
       "      <td>[시] 서러운 봄</td>\n",
       "      <td>[목련꽃, 아지랑이, 동행]</td>\n",
       "      <td>https://brunch.co.kr/@kohwang56/81</td>\n",
       "      <td></td>\n",
       "      <td>1463092749000</td>\n",
       "      <td>81</td>\n",
       "      <td>@kohwang56_81</td>\n",
       "      <td>2016-05-13 07:39:09</td>\n",
       "      <td>2016-05-13</td>\n",
       "      <td>매거진</td>\n",
       "    </tr>\n",
       "    <tr>\n",
       "      <th>2</th>\n",
       "      <td>0</td>\n",
       "      <td>@hannahajink</td>\n",
       "      <td>무엇을 위해</td>\n",
       "      <td>[]</td>\n",
       "      <td>https://brunch.co.kr/@hannahajink/4</td>\n",
       "      <td>무엇 때문에</td>\n",
       "      <td>1447997287000</td>\n",
       "      <td>4</td>\n",
       "      <td>@hannahajink_4</td>\n",
       "      <td>2015-11-20 14:28:07</td>\n",
       "      <td>2015-11-20</td>\n",
       "      <td>개인</td>\n",
       "    </tr>\n",
       "    <tr>\n",
       "      <th>3</th>\n",
       "      <td>16315</td>\n",
       "      <td>@bryceandjuli</td>\n",
       "      <td>싫다</td>\n",
       "      <td>[감정, 마음, 위로]</td>\n",
       "      <td>https://brunch.co.kr/@bryceandjuli/88</td>\n",
       "      <td></td>\n",
       "      <td>1491055161000</td>\n",
       "      <td>88</td>\n",
       "      <td>@bryceandjuli_88</td>\n",
       "      <td>2017-04-01 22:59:21</td>\n",
       "      <td>2017-04-01</td>\n",
       "      <td>매거진</td>\n",
       "    </tr>\n",
       "    <tr>\n",
       "      <th>4</th>\n",
       "      <td>29363</td>\n",
       "      <td>@mijeongpark</td>\n",
       "      <td>Dubliner#7</td>\n",
       "      <td>[유럽여행, 더블린, 아일랜드]</td>\n",
       "      <td>https://brunch.co.kr/@mijeongpark/34</td>\n",
       "      <td>#7. 내 친구의 집은 어디인가</td>\n",
       "      <td>1523292942000</td>\n",
       "      <td>34</td>\n",
       "      <td>@mijeongpark_34</td>\n",
       "      <td>2018-04-10 01:55:42</td>\n",
       "      <td>2018-04-10</td>\n",
       "      <td>매거진</td>\n",
       "    </tr>\n",
       "  </tbody>\n",
       "</table>\n",
       "</div>"
      ],
      "text/plain": [
       "   magazine_id      author_id                      title       keyword_list  \\\n",
       "0         8982        @bookdb  사진으로 옮기기에도 아까운, 리치필드 국립공원     [여행, 호주, 국립공원]   \n",
       "1        12081     @kohwang56                  [시] 서러운 봄    [목련꽃, 아지랑이, 동행]   \n",
       "2            0   @hannahajink                     무엇을 위해                 []   \n",
       "3        16315  @bryceandjuli                         싫다       [감정, 마음, 위로]   \n",
       "4        29363   @mijeongpark                 Dubliner#7  [유럽여행, 더블린, 아일랜드]   \n",
       "\n",
       "                             display_url             sub_title         reg_ts  \\\n",
       "0       https://brunch.co.kr/@bookdb/782  세상 어디에도 없는 호주 Top 10  1474944427000   \n",
       "1     https://brunch.co.kr/@kohwang56/81                        1463092749000   \n",
       "2    https://brunch.co.kr/@hannahajink/4                무엇 때문에  1447997287000   \n",
       "3  https://brunch.co.kr/@bryceandjuli/88                        1491055161000   \n",
       "4   https://brunch.co.kr/@mijeongpark/34     #7. 내 친구의 집은 어디인가  1523292942000   \n",
       "\n",
       "    id        article_id        reg_datetime      reg_dt type  \n",
       "0  782       @bookdb_782 2016-09-27 11:47:07  2016-09-27  매거진  \n",
       "1   81     @kohwang56_81 2016-05-13 07:39:09  2016-05-13  매거진  \n",
       "2    4    @hannahajink_4 2015-11-20 14:28:07  2015-11-20   개인  \n",
       "3   88  @bryceandjuli_88 2017-04-01 22:59:21  2017-04-01  매거진  \n",
       "4   34   @mijeongpark_34 2018-04-10 01:55:42  2018-04-10  매거진  "
      ]
     },
     "execution_count": 86,
     "metadata": {},
     "output_type": "execute_result"
    }
   ],
   "source": [
    "atc.head()"
   ]
  },
  {
   "cell_type": "code",
   "execution_count": null,
   "metadata": {},
   "outputs": [],
   "source": []
  },
  {
   "cell_type": "markdown",
   "metadata": {},
   "source": [
    "## 등록일자별 글 수"
   ]
  },
  {
   "cell_type": "code",
   "execution_count": 70,
   "metadata": {},
   "outputs": [],
   "source": [
    "atc_cnt_by_reg_dt = atc.groupby('reg_dt', as_index=False)['article_id'].count()"
   ]
  },
  {
   "cell_type": "code",
   "execution_count": 75,
   "metadata": {},
   "outputs": [
    {
     "data": {
      "text/plain": [
       "Text(0, 0.5, 'Article count')"
      ]
     },
     "execution_count": 75,
     "metadata": {},
     "output_type": "execute_result"
    },
    {
     "data": {
      "image/png": "[encoded data removed]",
      "text/plain": [
       "<Figure size 1080x720 with 1 Axes>"
      ]
     },
     "metadata": {},
     "output_type": "display_data"
    }
   ],
   "source": [
    "sns.set(rc={'figure.figsize':(15, 10)})\n",
    "\n",
    "sns.lineplot(data=atc_cnt_by_reg_dt[:-1], x='reg_dt', y='article_id', color='#49beb7')\n",
    "\n",
    "plt.title('Article count by reg_date')\n",
    "plt.xlabel('Article reg_date')\n",
    "plt.ylabel('Article count')"
   ]
  },
  {
   "cell_type": "code",
   "execution_count": null,
   "metadata": {},
   "outputs": [],
   "source": []
  },
  {
   "cell_type": "code",
   "execution_count": null,
   "metadata": {},
   "outputs": [],
   "source": []
  },
  {
   "cell_type": "markdown",
   "metadata": {},
   "source": [
    "## 2. 글 소비"
   ]
  },
  {
   "cell_type": "markdown",
   "metadata": {},
   "source": [
    "### a. 글별 소비수 통계"
   ]
  },
  {
   "cell_type": "code",
   "execution_count": 76,
   "metadata": {},
   "outputs": [],
   "source": [
    "atc_read_cnt = read_raw[read_raw.article_id != ''].groupby('article_id')['user_id'].count()"
   ]
  },
  {
   "cell_type": "code",
   "execution_count": 77,
   "metadata": {},
   "outputs": [
    {
     "data": {
      "text/plain": [
       "count    505840.000000\n",
       "mean         43.700988\n",
       "std         302.292764\n",
       "min           1.000000\n",
       "25%           3.000000\n",
       "50%           8.000000\n",
       "75%          25.000000\n",
       "max       97206.000000\n",
       "Name: user_id, dtype: float64"
      ]
     },
     "execution_count": 77,
     "metadata": {},
     "output_type": "execute_result"
    }
   ],
   "source": [
    "atc_read_cnt.describe()"
   ]
  },
  {
   "cell_type": "code",
   "execution_count": 78,
   "metadata": {},
   "outputs": [
    {
     "data": {
      "text/plain": [
       "0.85     47.0\n",
       "0.95    141.0\n",
       "Name: user_id, dtype: float64"
      ]
     },
     "execution_count": 78,
     "metadata": {},
     "output_type": "execute_result"
    }
   ],
   "source": [
    "atc_read_cnt.quantile([0.85, 0.95])"
   ]
  },
  {
   "cell_type": "code",
   "execution_count": 79,
   "metadata": {},
   "outputs": [],
   "source": [
    "atc_read_cnt = atc_read_cnt.reset_index()\n",
    "atc_read_cnt.columns = ['article_id', 'read_cnt']"
   ]
  },
  {
   "cell_type": "code",
   "execution_count": 81,
   "metadata": {},
   "outputs": [
    {
     "data": {
      "text/html": [
       "<div>\n",
       "<style scoped>\n",
       "    .dataframe tbody tr th:only-of-type {\n",
       "        vertical-align: middle;\n",
       "    }\n",
       "\n",
       "    .dataframe tbody tr th {\n",
       "        vertical-align: top;\n",
       "    }\n",
       "\n",
       "    .dataframe thead th {\n",
       "        text-align: right;\n",
       "    }\n",
       "</style>\n",
       "<table border=\"1\" class=\"dataframe\">\n",
       "  <thead>\n",
       "    <tr style=\"text-align: right;\">\n",
       "      <th></th>\n",
       "      <th>article_id</th>\n",
       "      <th>read_cnt</th>\n",
       "    </tr>\n",
       "  </thead>\n",
       "  <tbody>\n",
       "    <tr>\n",
       "      <th>0</th>\n",
       "      <td>#00700c454af49d5c9a36a13fcba01d0a_1</td>\n",
       "      <td>112</td>\n",
       "    </tr>\n",
       "    <tr>\n",
       "      <th>1</th>\n",
       "      <td>#00700c454af49d5c9a36a13fcba01d0a_10</td>\n",
       "      <td>24</td>\n",
       "    </tr>\n",
       "    <tr>\n",
       "      <th>2</th>\n",
       "      <td>#00700c454af49d5c9a36a13fcba01d0a_100</td>\n",
       "      <td>37</td>\n",
       "    </tr>\n",
       "    <tr>\n",
       "      <th>3</th>\n",
       "      <td>#00700c454af49d5c9a36a13fcba01d0a_101</td>\n",
       "      <td>32</td>\n",
       "    </tr>\n",
       "    <tr>\n",
       "      <th>4</th>\n",
       "      <td>#00700c454af49d5c9a36a13fcba01d0a_102</td>\n",
       "      <td>40</td>\n",
       "    </tr>\n",
       "  </tbody>\n",
       "</table>\n",
       "</div>"
      ],
      "text/plain": [
       "                              article_id  read_cnt\n",
       "0    #00700c454af49d5c9a36a13fcba01d0a_1       112\n",
       "1   #00700c454af49d5c9a36a13fcba01d0a_10        24\n",
       "2  #00700c454af49d5c9a36a13fcba01d0a_100        37\n",
       "3  #00700c454af49d5c9a36a13fcba01d0a_101        32\n",
       "4  #00700c454af49d5c9a36a13fcba01d0a_102        40"
      ]
     },
     "execution_count": 81,
     "metadata": {},
     "output_type": "execute_result"
    }
   ],
   "source": [
    "atc_read_cnt.head()"
   ]
  },
  {
   "cell_type": "code",
   "execution_count": 83,
   "metadata": {},
   "outputs": [
    {
     "data": {
      "text/html": [
       "<div>\n",
       "<style scoped>\n",
       "    .dataframe tbody tr th:only-of-type {\n",
       "        vertical-align: middle;\n",
       "    }\n",
       "\n",
       "    .dataframe tbody tr th {\n",
       "        vertical-align: top;\n",
       "    }\n",
       "\n",
       "    .dataframe thead th {\n",
       "        text-align: right;\n",
       "    }\n",
       "</style>\n",
       "<table border=\"1\" class=\"dataframe\">\n",
       "  <thead>\n",
       "    <tr style=\"text-align: right;\">\n",
       "      <th></th>\n",
       "      <th>magazine_id</th>\n",
       "      <th>author_id</th>\n",
       "      <th>title</th>\n",
       "      <th>keyword_list</th>\n",
       "      <th>display_url</th>\n",
       "      <th>sub_title</th>\n",
       "      <th>reg_ts</th>\n",
       "      <th>article_id</th>\n",
       "      <th>id</th>\n",
       "      <th>reg_datetime</th>\n",
       "      <th>reg_dt</th>\n",
       "      <th>type</th>\n",
       "    </tr>\n",
       "  </thead>\n",
       "  <tbody>\n",
       "    <tr>\n",
       "      <th>0</th>\n",
       "      <td>8982</td>\n",
       "      <td>@bookdb</td>\n",
       "      <td>사진으로 옮기기에도 아까운, 리치필드 국립공원</td>\n",
       "      <td>[여행, 호주, 국립공원]</td>\n",
       "      <td>https://brunch.co.kr/@bookdb/782</td>\n",
       "      <td>세상 어디에도 없는 호주 Top 10</td>\n",
       "      <td>1474944427000</td>\n",
       "      <td>782</td>\n",
       "      <td>@bookdb_782</td>\n",
       "      <td>2016-09-27 11:47:07</td>\n",
       "      <td>2016-09-27</td>\n",
       "      <td>매거진</td>\n",
       "    </tr>\n",
       "    <tr>\n",
       "      <th>1</th>\n",
       "      <td>12081</td>\n",
       "      <td>@kohwang56</td>\n",
       "      <td>[시] 서러운 봄</td>\n",
       "      <td>[목련꽃, 아지랑이, 동행]</td>\n",
       "      <td>https://brunch.co.kr/@kohwang56/81</td>\n",
       "      <td></td>\n",
       "      <td>1463092749000</td>\n",
       "      <td>81</td>\n",
       "      <td>@kohwang56_81</td>\n",
       "      <td>2016-05-13 07:39:09</td>\n",
       "      <td>2016-05-13</td>\n",
       "      <td>매거진</td>\n",
       "    </tr>\n",
       "  </tbody>\n",
       "</table>\n",
       "</div>"
      ],
      "text/plain": [
       "   magazine_id   author_id                      title     keyword_list  \\\n",
       "0         8982     @bookdb  사진으로 옮기기에도 아까운, 리치필드 국립공원   [여행, 호주, 국립공원]   \n",
       "1        12081  @kohwang56                  [시] 서러운 봄  [목련꽃, 아지랑이, 동행]   \n",
       "\n",
       "                          display_url             sub_title         reg_ts  \\\n",
       "0    https://brunch.co.kr/@bookdb/782  세상 어디에도 없는 호주 Top 10  1474944427000   \n",
       "1  https://brunch.co.kr/@kohwang56/81                        1463092749000   \n",
       "\n",
       "   article_id             id        reg_datetime      reg_dt type  \n",
       "0         782    @bookdb_782 2016-09-27 11:47:07  2016-09-27  매거진  \n",
       "1          81  @kohwang56_81 2016-05-13 07:39:09  2016-05-13  매거진  "
      ]
     },
     "execution_count": 83,
     "metadata": {},
     "output_type": "execute_result"
    }
   ],
   "source": [
    "atc.head(2)"
   ]
  },
  {
   "cell_type": "code",
   "execution_count": 84,
   "metadata": {},
   "outputs": [
    {
     "data": {
      "text/html": [
       "<div>\n",
       "<style scoped>\n",
       "    .dataframe tbody tr th:only-of-type {\n",
       "        vertical-align: middle;\n",
       "    }\n",
       "\n",
       "    .dataframe tbody tr th {\n",
       "        vertical-align: top;\n",
       "    }\n",
       "\n",
       "    .dataframe thead th {\n",
       "        text-align: right;\n",
       "    }\n",
       "</style>\n",
       "<table border=\"1\" class=\"dataframe\">\n",
       "  <thead>\n",
       "    <tr style=\"text-align: right;\">\n",
       "      <th></th>\n",
       "      <th>article_id</th>\n",
       "      <th>read_cnt</th>\n",
       "    </tr>\n",
       "  </thead>\n",
       "  <tbody>\n",
       "    <tr>\n",
       "      <th>0</th>\n",
       "      <td>#00700c454af49d5c9a36a13fcba01d0a_1</td>\n",
       "      <td>112</td>\n",
       "    </tr>\n",
       "    <tr>\n",
       "      <th>1</th>\n",
       "      <td>#00700c454af49d5c9a36a13fcba01d0a_10</td>\n",
       "      <td>24</td>\n",
       "    </tr>\n",
       "  </tbody>\n",
       "</table>\n",
       "</div>"
      ],
      "text/plain": [
       "                             article_id  read_cnt\n",
       "0   #00700c454af49d5c9a36a13fcba01d0a_1       112\n",
       "1  #00700c454af49d5c9a36a13fcba01d0a_10        24"
      ]
     },
     "execution_count": 84,
     "metadata": {},
     "output_type": "execute_result"
    }
   ],
   "source": [
    "atc_read_cnt.head(2)"
   ]
  },
  {
   "cell_type": "code",
   "execution_count": 87,
   "metadata": {},
   "outputs": [],
   "source": [
    "atc_read_cnt = pd.merge(atc_read_cnt, atc, how='left', left_on='article_id', right_on='article_id')"
   ]
  },
  {
   "cell_type": "code",
   "execution_count": 88,
   "metadata": {},
   "outputs": [
    {
     "data": {
      "text/plain": [
       "(505840, 13)"
      ]
     },
     "execution_count": 88,
     "metadata": {},
     "output_type": "execute_result"
    }
   ],
   "source": [
    "atc_read_cnt.shape"
   ]
  },
  {
   "cell_type": "code",
   "execution_count": 90,
   "metadata": {},
   "outputs": [
    {
     "data": {
      "text/html": [
       "<div>\n",
       "<style scoped>\n",
       "    .dataframe tbody tr th:only-of-type {\n",
       "        vertical-align: middle;\n",
       "    }\n",
       "\n",
       "    .dataframe tbody tr th {\n",
       "        vertical-align: top;\n",
       "    }\n",
       "\n",
       "    .dataframe thead th {\n",
       "        text-align: right;\n",
       "    }\n",
       "</style>\n",
       "<table border=\"1\" class=\"dataframe\">\n",
       "  <thead>\n",
       "    <tr style=\"text-align: right;\">\n",
       "      <th></th>\n",
       "      <th>article_id</th>\n",
       "      <th>read_cnt</th>\n",
       "      <th>magazine_id</th>\n",
       "      <th>author_id</th>\n",
       "      <th>title</th>\n",
       "      <th>keyword_list</th>\n",
       "      <th>display_url</th>\n",
       "      <th>sub_title</th>\n",
       "      <th>reg_ts</th>\n",
       "      <th>id</th>\n",
       "      <th>reg_datetime</th>\n",
       "      <th>reg_dt</th>\n",
       "      <th>type</th>\n",
       "    </tr>\n",
       "  </thead>\n",
       "  <tbody>\n",
       "    <tr>\n",
       "      <th>505838</th>\n",
       "      <td>@zzzaam_9</td>\n",
       "      <td>43</td>\n",
       "      <td>0.0</td>\n",
       "      <td>@zzzaam</td>\n",
       "      <td>디자인팀에 작가가 필요한 이유</td>\n",
       "      <td>[UX, 작가, 글쓰기]</td>\n",
       "      <td>https://brunch.co.kr/@zzzaam/9</td>\n",
       "      <td>Writers + Designers = A match made in he</td>\n",
       "      <td>1.496501e+12</td>\n",
       "      <td>9.0</td>\n",
       "      <td>2017-06-03 23:39:22</td>\n",
       "      <td>2017-06-03</td>\n",
       "      <td>개인</td>\n",
       "    </tr>\n",
       "    <tr>\n",
       "      <th>505839</th>\n",
       "      <td>@zzzwhite_4</td>\n",
       "      <td>2</td>\n",
       "      <td>0.0</td>\n",
       "      <td>@zzzwhite</td>\n",
       "      <td>너는 희망이다.</td>\n",
       "      <td>[감성그림, 희망, 엄마]</td>\n",
       "      <td>https://brunch.co.kr/@zzzwhite/4</td>\n",
       "      <td>감성드로잉</td>\n",
       "      <td>1.467290e+12</td>\n",
       "      <td>4.0</td>\n",
       "      <td>2016-06-30 21:30:54</td>\n",
       "      <td>2016-06-30</td>\n",
       "      <td>개인</td>\n",
       "    </tr>\n",
       "  </tbody>\n",
       "</table>\n",
       "</div>"
      ],
      "text/plain": [
       "         article_id  read_cnt  magazine_id  author_id             title  \\\n",
       "505838    @zzzaam_9        43          0.0    @zzzaam  디자인팀에 작가가 필요한 이유   \n",
       "505839  @zzzwhite_4         2          0.0  @zzzwhite          너는 희망이다.   \n",
       "\n",
       "          keyword_list                       display_url  \\\n",
       "505838   [UX, 작가, 글쓰기]    https://brunch.co.kr/@zzzaam/9   \n",
       "505839  [감성그림, 희망, 엄마]  https://brunch.co.kr/@zzzwhite/4   \n",
       "\n",
       "                                       sub_title        reg_ts   id  \\\n",
       "505838  Writers + Designers = A match made in he  1.496501e+12  9.0   \n",
       "505839                                     감성드로잉  1.467290e+12  4.0   \n",
       "\n",
       "              reg_datetime      reg_dt type  \n",
       "505838 2017-06-03 23:39:22  2017-06-03   개인  \n",
       "505839 2016-06-30 21:30:54  2016-06-30   개인  "
      ]
     },
     "execution_count": 90,
     "metadata": {},
     "output_type": "execute_result"
    }
   ],
   "source": [
    "atc_read_cnt.tail(2)"
   ]
  },
  {
   "cell_type": "code",
   "execution_count": 91,
   "metadata": {},
   "outputs": [],
   "source": [
    "atc_read_cnt_nn = atc_read_cnt[atc_read_cnt['id'].notnull()]"
   ]
  },
  {
   "cell_type": "code",
   "execution_count": 92,
   "metadata": {},
   "outputs": [
    {
     "data": {
      "text/plain": [
       "count    476147.000000\n",
       "mean         43.904592\n",
       "std         304.873256\n",
       "min           1.000000\n",
       "25%           3.000000\n",
       "50%           8.000000\n",
       "75%          25.000000\n",
       "max       97206.000000\n",
       "Name: read_cnt, dtype: float64"
      ]
     },
     "execution_count": 92,
     "metadata": {},
     "output_type": "execute_result"
    }
   ],
   "source": [
    "atc_read_cnt_nn['read_cnt'].describe()"
   ]
  },
  {
   "cell_type": "code",
   "execution_count": 93,
   "metadata": {},
   "outputs": [
    {
     "data": {
      "text/plain": [
       "0.90     72.0\n",
       "0.95    142.0\n",
       "Name: read_cnt, dtype: float64"
      ]
     },
     "execution_count": 93,
     "metadata": {},
     "output_type": "execute_result"
    }
   ],
   "source": [
    "atc_read_cnt_nn['read_cnt'].quantile([0.90, 0.95])"
   ]
  },
  {
   "cell_type": "code",
   "execution_count": 94,
   "metadata": {},
   "outputs": [],
   "source": [
    "def get_class(x):\n",
    "    if x >= 142:\n",
    "        result = '5%'\n",
    "    elif x >= 72:\n",
    "        result = '10%'\n",
    "    elif x >= 25:\n",
    "        result = '25%'\n",
    "    elif x >= 8:\n",
    "        result = '50%'\n",
    "    elif x >= 3:\n",
    "        result = '75%'\n",
    "    else:\n",
    "        result = '100%'\n",
    "    return result"
   ]
  },
  {
   "cell_type": "code",
   "execution_count": 95,
   "metadata": {},
   "outputs": [
    {
     "name": "stderr",
     "output_type": "stream",
     "text": [
      "<ipython-input-95-113429417f8f>:1: SettingWithCopyWarning: \n",
      "A value is trying to be set on a copy of a slice from a DataFrame.\n",
      "Try using .loc[row_indexer,col_indexer] = value instead\n",
      "\n",
      "See the caveats in the documentation: https://pandas.pydata.org/pandas-docs/stable/user_guide/indexing.html#returning-a-view-versus-a-copy\n",
      "  atc_read_cnt_nn['class'] = atc_read_cnt_nn['read_cnt'].map(get_class)\n"
     ]
    }
   ],
   "source": [
    "atc_read_cnt_nn['class'] = atc_read_cnt_nn['read_cnt'].map(get_class)"
   ]
  },
  {
   "cell_type": "code",
   "execution_count": 96,
   "metadata": {},
   "outputs": [
    {
     "data": {
      "text/html": [
       "<div>\n",
       "<style scoped>\n",
       "    .dataframe tbody tr th:only-of-type {\n",
       "        vertical-align: middle;\n",
       "    }\n",
       "\n",
       "    .dataframe tbody tr th {\n",
       "        vertical-align: top;\n",
       "    }\n",
       "\n",
       "    .dataframe thead th {\n",
       "        text-align: right;\n",
       "    }\n",
       "</style>\n",
       "<table border=\"1\" class=\"dataframe\">\n",
       "  <thead>\n",
       "    <tr style=\"text-align: right;\">\n",
       "      <th></th>\n",
       "      <th>article_id</th>\n",
       "      <th>read_cnt</th>\n",
       "      <th>magazine_id</th>\n",
       "      <th>author_id</th>\n",
       "      <th>title</th>\n",
       "      <th>keyword_list</th>\n",
       "      <th>display_url</th>\n",
       "      <th>sub_title</th>\n",
       "      <th>reg_ts</th>\n",
       "      <th>id</th>\n",
       "      <th>reg_datetime</th>\n",
       "      <th>reg_dt</th>\n",
       "      <th>type</th>\n",
       "      <th>class</th>\n",
       "    </tr>\n",
       "  </thead>\n",
       "  <tbody>\n",
       "    <tr>\n",
       "      <th>5417</th>\n",
       "      <td>@002_10</td>\n",
       "      <td>2</td>\n",
       "      <td>0.0</td>\n",
       "      <td>@002</td>\n",
       "      <td>'80% 안심계란' 포기하게 한 20% 살충제 계란</td>\n",
       "      <td>[계란, 살충제, 피해]</td>\n",
       "      <td>https://brunch.co.kr/@002/10</td>\n",
       "      <td>정직한 농가에 대한 피해보상은 소비자 신뢰를 돌려주는 것</td>\n",
       "      <td>1.504448e+12</td>\n",
       "      <td>10.0</td>\n",
       "      <td>2017-09-03 23:12:35</td>\n",
       "      <td>2017-09-03</td>\n",
       "      <td>개인</td>\n",
       "      <td>100%</td>\n",
       "    </tr>\n",
       "    <tr>\n",
       "      <th>5418</th>\n",
       "      <td>@002_2</td>\n",
       "      <td>6</td>\n",
       "      <td>0.0</td>\n",
       "      <td>@002</td>\n",
       "      <td>청년들은 '왜' 농촌으로 갔을까?</td>\n",
       "      <td>[귀촌, 농촌, 청년농업인]</td>\n",
       "      <td>https://brunch.co.kr/@002/2</td>\n",
       "      <td>삶의 가치를 찾아 유랑하는 청년들의 'YOLO 라이프'</td>\n",
       "      <td>1.501030e+12</td>\n",
       "      <td>2.0</td>\n",
       "      <td>2017-07-26 09:46:45</td>\n",
       "      <td>2017-07-26</td>\n",
       "      <td>개인</td>\n",
       "      <td>75%</td>\n",
       "    </tr>\n",
       "    <tr>\n",
       "      <th>5419</th>\n",
       "      <td>@002jesus_1</td>\n",
       "      <td>10</td>\n",
       "      <td>0.0</td>\n",
       "      <td>@002jesus</td>\n",
       "      <td>우리는 왜 가난해야 하나요?</td>\n",
       "      <td>[후원, 기부, 비영리]</td>\n",
       "      <td>https://brunch.co.kr/@002jesus/1</td>\n",
       "      <td>비영리를 바라보는 편견들 (1)</td>\n",
       "      <td>1.549456e+12</td>\n",
       "      <td>1.0</td>\n",
       "      <td>2019-02-06 21:18:49</td>\n",
       "      <td>2019-02-06</td>\n",
       "      <td>개인</td>\n",
       "      <td>50%</td>\n",
       "    </tr>\n",
       "    <tr>\n",
       "      <th>5420</th>\n",
       "      <td>@002paper_2</td>\n",
       "      <td>3</td>\n",
       "      <td>0.0</td>\n",
       "      <td>@002paper</td>\n",
       "      <td>할수 있는 것과 하고 싶은 것</td>\n",
       "      <td>[제주, 서울생활, 서울]</td>\n",
       "      <td>https://brunch.co.kr/@002paper/2</td>\n",
       "      <td>현실과 꿈의 거리..</td>\n",
       "      <td>1.470905e+12</td>\n",
       "      <td>2.0</td>\n",
       "      <td>2016-08-11 17:49:42</td>\n",
       "      <td>2016-08-11</td>\n",
       "      <td>개인</td>\n",
       "      <td>75%</td>\n",
       "    </tr>\n",
       "    <tr>\n",
       "      <th>5421</th>\n",
       "      <td>@002paper_3</td>\n",
       "      <td>2</td>\n",
       "      <td>0.0</td>\n",
       "      <td>@002paper</td>\n",
       "      <td>긍정적으로 생각하며 주문을 걸기..</td>\n",
       "      <td>[바램, 일상에세이, 긍정]</td>\n",
       "      <td>https://brunch.co.kr/@002paper/3</td>\n",
       "      <td>된다. 된다. 될거다....</td>\n",
       "      <td>1.470913e+12</td>\n",
       "      <td>3.0</td>\n",
       "      <td>2016-08-11 19:58:52</td>\n",
       "      <td>2016-08-11</td>\n",
       "      <td>개인</td>\n",
       "      <td>100%</td>\n",
       "    </tr>\n",
       "  </tbody>\n",
       "</table>\n",
       "</div>"
      ],
      "text/plain": [
       "       article_id  read_cnt  magazine_id  author_id  \\\n",
       "5417      @002_10         2          0.0       @002   \n",
       "5418       @002_2         6          0.0       @002   \n",
       "5419  @002jesus_1        10          0.0  @002jesus   \n",
       "5420  @002paper_2         3          0.0  @002paper   \n",
       "5421  @002paper_3         2          0.0  @002paper   \n",
       "\n",
       "                             title     keyword_list  \\\n",
       "5417  '80% 안심계란' 포기하게 한 20% 살충제 계란    [계란, 살충제, 피해]   \n",
       "5418            청년들은 '왜' 농촌으로 갔을까?  [귀촌, 농촌, 청년농업인]   \n",
       "5419              우리는 왜 가난해야 하나요?     [후원, 기부, 비영리]   \n",
       "5420              할수 있는 것과 하고 싶은 것   [제주, 서울생활, 서울]   \n",
       "5421           긍정적으로 생각하며 주문을 걸기..  [바램, 일상에세이, 긍정]   \n",
       "\n",
       "                           display_url                        sub_title  \\\n",
       "5417      https://brunch.co.kr/@002/10  정직한 농가에 대한 피해보상은 소비자 신뢰를 돌려주는 것   \n",
       "5418       https://brunch.co.kr/@002/2  삶의 가치를 찾아 유랑하는 청년들의 'YOLO 라이프'    \n",
       "5419  https://brunch.co.kr/@002jesus/1                비영리를 바라보는 편견들 (1)   \n",
       "5420  https://brunch.co.kr/@002paper/2                      현실과 꿈의 거리..   \n",
       "5421  https://brunch.co.kr/@002paper/3                  된다. 된다. 될거다....   \n",
       "\n",
       "            reg_ts    id        reg_datetime      reg_dt type class  \n",
       "5417  1.504448e+12  10.0 2017-09-03 23:12:35  2017-09-03   개인  100%  \n",
       "5418  1.501030e+12   2.0 2017-07-26 09:46:45  2017-07-26   개인   75%  \n",
       "5419  1.549456e+12   1.0 2019-02-06 21:18:49  2019-02-06   개인   50%  \n",
       "5420  1.470905e+12   2.0 2016-08-11 17:49:42  2016-08-11   개인   75%  \n",
       "5421  1.470913e+12   3.0 2016-08-11 19:58:52  2016-08-11   개인  100%  "
      ]
     },
     "execution_count": 96,
     "metadata": {},
     "output_type": "execute_result"
    }
   ],
   "source": [
    "atc_read_cnt_nn.head()"
   ]
  },
  {
   "cell_type": "code",
   "execution_count": null,
   "metadata": {},
   "outputs": [],
   "source": []
  },
  {
   "cell_type": "markdown",
   "metadata": {},
   "source": [
    "### b.등록일자별 글 소비수"
   ]
  },
  {
   "cell_type": "code",
   "execution_count": 97,
   "metadata": {},
   "outputs": [
    {
     "data": {
      "text/plain": [
       "Text(0, 0.5, '글 소비수')"
      ]
     },
     "execution_count": 97,
     "metadata": {},
     "output_type": "execute_result"
    },
    {
     "name": "stderr",
     "output_type": "stream",
     "text": [
      "/Users/taerim/opt/anaconda3/lib/python3.8/site-packages/matplotlib/backends/backend_agg.py:238: RuntimeWarning: Glyph 44544 missing from current font.\n",
      "  font.set_text(s, 0.0, flags=flags)\n",
      "/Users/taerim/opt/anaconda3/lib/python3.8/site-packages/matplotlib/backends/backend_agg.py:238: RuntimeWarning: Glyph 46321 missing from current font.\n",
      "  font.set_text(s, 0.0, flags=flags)\n",
      "/Users/taerim/opt/anaconda3/lib/python3.8/site-packages/matplotlib/backends/backend_agg.py:238: RuntimeWarning: Glyph 47197 missing from current font.\n",
      "  font.set_text(s, 0.0, flags=flags)\n",
      "/Users/taerim/opt/anaconda3/lib/python3.8/site-packages/matplotlib/backends/backend_agg.py:238: RuntimeWarning: Glyph 51068 missing from current font.\n",
      "  font.set_text(s, 0.0, flags=flags)\n",
      "/Users/taerim/opt/anaconda3/lib/python3.8/site-packages/matplotlib/backends/backend_agg.py:238: RuntimeWarning: Glyph 51088 missing from current font.\n",
      "  font.set_text(s, 0.0, flags=flags)\n",
      "/Users/taerim/opt/anaconda3/lib/python3.8/site-packages/matplotlib/backends/backend_agg.py:238: RuntimeWarning: Glyph 48324 missing from current font.\n",
      "  font.set_text(s, 0.0, flags=flags)\n",
      "/Users/taerim/opt/anaconda3/lib/python3.8/site-packages/matplotlib/backends/backend_agg.py:238: RuntimeWarning: Glyph 49548 missing from current font.\n",
      "  font.set_text(s, 0.0, flags=flags)\n",
      "/Users/taerim/opt/anaconda3/lib/python3.8/site-packages/matplotlib/backends/backend_agg.py:238: RuntimeWarning: Glyph 48708 missing from current font.\n",
      "  font.set_text(s, 0.0, flags=flags)\n",
      "/Users/taerim/opt/anaconda3/lib/python3.8/site-packages/matplotlib/backends/backend_agg.py:238: RuntimeWarning: Glyph 49688 missing from current font.\n",
      "  font.set_text(s, 0.0, flags=flags)\n",
      "/Users/taerim/opt/anaconda3/lib/python3.8/site-packages/matplotlib/backends/backend_agg.py:201: RuntimeWarning: Glyph 44544 missing from current font.\n",
      "  font.set_text(s, 0, flags=flags)\n",
      "/Users/taerim/opt/anaconda3/lib/python3.8/site-packages/matplotlib/backends/backend_agg.py:201: RuntimeWarning: Glyph 46321 missing from current font.\n",
      "  font.set_text(s, 0, flags=flags)\n",
      "/Users/taerim/opt/anaconda3/lib/python3.8/site-packages/matplotlib/backends/backend_agg.py:201: RuntimeWarning: Glyph 47197 missing from current font.\n",
      "  font.set_text(s, 0, flags=flags)\n",
      "/Users/taerim/opt/anaconda3/lib/python3.8/site-packages/matplotlib/backends/backend_agg.py:201: RuntimeWarning: Glyph 51068 missing from current font.\n",
      "  font.set_text(s, 0, flags=flags)\n",
      "/Users/taerim/opt/anaconda3/lib/python3.8/site-packages/matplotlib/backends/backend_agg.py:201: RuntimeWarning: Glyph 49548 missing from current font.\n",
      "  font.set_text(s, 0, flags=flags)\n",
      "/Users/taerim/opt/anaconda3/lib/python3.8/site-packages/matplotlib/backends/backend_agg.py:201: RuntimeWarning: Glyph 48708 missing from current font.\n",
      "  font.set_text(s, 0, flags=flags)\n",
      "/Users/taerim/opt/anaconda3/lib/python3.8/site-packages/matplotlib/backends/backend_agg.py:201: RuntimeWarning: Glyph 49688 missing from current font.\n",
      "  font.set_text(s, 0, flags=flags)\n",
      "/Users/taerim/opt/anaconda3/lib/python3.8/site-packages/matplotlib/backends/backend_agg.py:201: RuntimeWarning: Glyph 51088 missing from current font.\n",
      "  font.set_text(s, 0, flags=flags)\n",
      "/Users/taerim/opt/anaconda3/lib/python3.8/site-packages/matplotlib/backends/backend_agg.py:201: RuntimeWarning: Glyph 48324 missing from current font.\n",
      "  font.set_text(s, 0, flags=flags)\n"
     ]
    },
    {
     "data": {
      "image/png": "[encoded data removed]",
      "text/plain": [
       "<Figure size 1080x720 with 1 Axes>"
      ]
     },
     "metadata": {},
     "output_type": "display_data"
    }
   ],
   "source": [
    "lm = sns.scatterplot(data=atc_read_cnt_nn, x='reg_dt', y='read_cnt', color='#49beb7')\n",
    "lm.set(xlim=(datetime.date(datetime(2015, 4, 1)), datetime.date(datetime(2019, 3, 30))))\n",
    "\n",
    "plt.title('등록일자별 글 소비수')\n",
    "plt.xlabel('글 등록일')\n",
    "plt.ylabel('글 소비수')"
   ]
  },
  {
   "cell_type": "code",
   "execution_count": 98,
   "metadata": {},
   "outputs": [
    {
     "data": {
      "text/html": [
       "<div>\n",
       "<style scoped>\n",
       "    .dataframe tbody tr th:only-of-type {\n",
       "        vertical-align: middle;\n",
       "    }\n",
       "\n",
       "    .dataframe tbody tr th {\n",
       "        vertical-align: top;\n",
       "    }\n",
       "\n",
       "    .dataframe thead th {\n",
       "        text-align: right;\n",
       "    }\n",
       "</style>\n",
       "<table border=\"1\" class=\"dataframe\">\n",
       "  <thead>\n",
       "    <tr style=\"text-align: right;\">\n",
       "      <th></th>\n",
       "      <th>article_id</th>\n",
       "      <th>read_cnt</th>\n",
       "      <th>magazine_id</th>\n",
       "      <th>author_id</th>\n",
       "      <th>title</th>\n",
       "      <th>keyword_list</th>\n",
       "      <th>display_url</th>\n",
       "      <th>sub_title</th>\n",
       "      <th>reg_ts</th>\n",
       "      <th>id</th>\n",
       "      <th>reg_datetime</th>\n",
       "      <th>reg_dt</th>\n",
       "      <th>type</th>\n",
       "      <th>class</th>\n",
       "    </tr>\n",
       "  </thead>\n",
       "  <tbody>\n",
       "    <tr>\n",
       "      <th>63061</th>\n",
       "      <td>@brunch_141</td>\n",
       "      <td>97206</td>\n",
       "      <td>0.0</td>\n",
       "      <td>@brunch</td>\n",
       "      <td>브런치 작가가 함께 빨강머리 앤을 그리고 쓰다.</td>\n",
       "      <td>[브런치X빨강머리앤, 빨강머리앤, 출판, 작가]</td>\n",
       "      <td>https://brunch.co.kr/@brunch/141</td>\n",
       "      <td>글·그림 작가 파트너 프로젝트</td>\n",
       "      <td>1.539742e+12</td>\n",
       "      <td>141.0</td>\n",
       "      <td>2018-10-17 11:11:22</td>\n",
       "      <td>2018-10-17</td>\n",
       "      <td>개인</td>\n",
       "      <td>5%</td>\n",
       "    </tr>\n",
       "    <tr>\n",
       "      <th>63070</th>\n",
       "      <td>@brunch_151</td>\n",
       "      <td>66903</td>\n",
       "      <td>0.0</td>\n",
       "      <td>@brunch</td>\n",
       "      <td>브런치 무비 패스, 영화의 진한 여운을 나누세요</td>\n",
       "      <td>[브런치, 시사회, 브런치무비패스]</td>\n",
       "      <td>https://brunch.co.kr/@brunch/151</td>\n",
       "      <td>브런치 무비 패스 5기 작가 모집</td>\n",
       "      <td>1.550466e+12</td>\n",
       "      <td>151.0</td>\n",
       "      <td>2019-02-18 14:00:34</td>\n",
       "      <td>2019-02-18</td>\n",
       "      <td>개인</td>\n",
       "      <td>5%</td>\n",
       "    </tr>\n",
       "  </tbody>\n",
       "</table>\n",
       "</div>"
      ],
      "text/plain": [
       "        article_id  read_cnt  magazine_id author_id  \\\n",
       "63061  @brunch_141     97206          0.0   @brunch   \n",
       "63070  @brunch_151     66903          0.0   @brunch   \n",
       "\n",
       "                            title                keyword_list  \\\n",
       "63061  브런치 작가가 함께 빨강머리 앤을 그리고 쓰다.  [브런치X빨강머리앤, 빨강머리앤, 출판, 작가]   \n",
       "63070  브런치 무비 패스, 영화의 진한 여운을 나누세요         [브런치, 시사회, 브런치무비패스]   \n",
       "\n",
       "                            display_url           sub_title        reg_ts  \\\n",
       "63061  https://brunch.co.kr/@brunch/141    글·그림 작가 파트너 프로젝트  1.539742e+12   \n",
       "63070  https://brunch.co.kr/@brunch/151  브런치 무비 패스 5기 작가 모집  1.550466e+12   \n",
       "\n",
       "          id        reg_datetime      reg_dt type class  \n",
       "63061  141.0 2018-10-17 11:11:22  2018-10-17   개인    5%  \n",
       "63070  151.0 2019-02-18 14:00:34  2019-02-18   개인    5%  "
      ]
     },
     "execution_count": 98,
     "metadata": {},
     "output_type": "execute_result"
    }
   ],
   "source": [
    "atc_read_cnt_nn.sort_values(by='read_cnt', ascending=False).head(2)"
   ]
  },
  {
   "cell_type": "code",
   "execution_count": 99,
   "metadata": {},
   "outputs": [
    {
     "data": {
      "text/plain": [
       "Text(0, 0.5, '글 소비수')"
      ]
     },
     "execution_count": 99,
     "metadata": {},
     "output_type": "execute_result"
    },
    {
     "name": "stderr",
     "output_type": "stream",
     "text": [
      "/Users/taerim/opt/anaconda3/lib/python3.8/site-packages/matplotlib/backends/backend_agg.py:238: RuntimeWarning: Glyph 44544 missing from current font.\n",
      "  font.set_text(s, 0.0, flags=flags)\n",
      "/Users/taerim/opt/anaconda3/lib/python3.8/site-packages/matplotlib/backends/backend_agg.py:238: RuntimeWarning: Glyph 46321 missing from current font.\n",
      "  font.set_text(s, 0.0, flags=flags)\n",
      "/Users/taerim/opt/anaconda3/lib/python3.8/site-packages/matplotlib/backends/backend_agg.py:238: RuntimeWarning: Glyph 47197 missing from current font.\n",
      "  font.set_text(s, 0.0, flags=flags)\n",
      "/Users/taerim/opt/anaconda3/lib/python3.8/site-packages/matplotlib/backends/backend_agg.py:238: RuntimeWarning: Glyph 51068 missing from current font.\n",
      "  font.set_text(s, 0.0, flags=flags)\n",
      "/Users/taerim/opt/anaconda3/lib/python3.8/site-packages/matplotlib/backends/backend_agg.py:238: RuntimeWarning: Glyph 51088 missing from current font.\n",
      "  font.set_text(s, 0.0, flags=flags)\n",
      "/Users/taerim/opt/anaconda3/lib/python3.8/site-packages/matplotlib/backends/backend_agg.py:238: RuntimeWarning: Glyph 48324 missing from current font.\n",
      "  font.set_text(s, 0.0, flags=flags)\n",
      "/Users/taerim/opt/anaconda3/lib/python3.8/site-packages/matplotlib/backends/backend_agg.py:238: RuntimeWarning: Glyph 49548 missing from current font.\n",
      "  font.set_text(s, 0.0, flags=flags)\n",
      "/Users/taerim/opt/anaconda3/lib/python3.8/site-packages/matplotlib/backends/backend_agg.py:238: RuntimeWarning: Glyph 48708 missing from current font.\n",
      "  font.set_text(s, 0.0, flags=flags)\n",
      "/Users/taerim/opt/anaconda3/lib/python3.8/site-packages/matplotlib/backends/backend_agg.py:238: RuntimeWarning: Glyph 49688 missing from current font.\n",
      "  font.set_text(s, 0.0, flags=flags)\n",
      "/Users/taerim/opt/anaconda3/lib/python3.8/site-packages/matplotlib/backends/backend_agg.py:238: RuntimeWarning: Glyph 44060 missing from current font.\n",
      "  font.set_text(s, 0.0, flags=flags)\n",
      "/Users/taerim/opt/anaconda3/lib/python3.8/site-packages/matplotlib/backends/backend_agg.py:238: RuntimeWarning: Glyph 51064 missing from current font.\n",
      "  font.set_text(s, 0.0, flags=flags)\n",
      "/Users/taerim/opt/anaconda3/lib/python3.8/site-packages/matplotlib/backends/backend_agg.py:238: RuntimeWarning: Glyph 47588 missing from current font.\n",
      "  font.set_text(s, 0.0, flags=flags)\n",
      "/Users/taerim/opt/anaconda3/lib/python3.8/site-packages/matplotlib/backends/backend_agg.py:238: RuntimeWarning: Glyph 44144 missing from current font.\n",
      "  font.set_text(s, 0.0, flags=flags)\n",
      "/Users/taerim/opt/anaconda3/lib/python3.8/site-packages/matplotlib/backends/backend_agg.py:238: RuntimeWarning: Glyph 51652 missing from current font.\n",
      "  font.set_text(s, 0.0, flags=flags)\n",
      "/Users/taerim/opt/anaconda3/lib/python3.8/site-packages/matplotlib/backends/backend_agg.py:201: RuntimeWarning: Glyph 44544 missing from current font.\n",
      "  font.set_text(s, 0, flags=flags)\n",
      "/Users/taerim/opt/anaconda3/lib/python3.8/site-packages/matplotlib/backends/backend_agg.py:201: RuntimeWarning: Glyph 46321 missing from current font.\n",
      "  font.set_text(s, 0, flags=flags)\n",
      "/Users/taerim/opt/anaconda3/lib/python3.8/site-packages/matplotlib/backends/backend_agg.py:201: RuntimeWarning: Glyph 47197 missing from current font.\n",
      "  font.set_text(s, 0, flags=flags)\n",
      "/Users/taerim/opt/anaconda3/lib/python3.8/site-packages/matplotlib/backends/backend_agg.py:201: RuntimeWarning: Glyph 51068 missing from current font.\n",
      "  font.set_text(s, 0, flags=flags)\n",
      "/Users/taerim/opt/anaconda3/lib/python3.8/site-packages/matplotlib/backends/backend_agg.py:201: RuntimeWarning: Glyph 49548 missing from current font.\n",
      "  font.set_text(s, 0, flags=flags)\n",
      "/Users/taerim/opt/anaconda3/lib/python3.8/site-packages/matplotlib/backends/backend_agg.py:201: RuntimeWarning: Glyph 48708 missing from current font.\n",
      "  font.set_text(s, 0, flags=flags)\n",
      "/Users/taerim/opt/anaconda3/lib/python3.8/site-packages/matplotlib/backends/backend_agg.py:201: RuntimeWarning: Glyph 49688 missing from current font.\n",
      "  font.set_text(s, 0, flags=flags)\n",
      "/Users/taerim/opt/anaconda3/lib/python3.8/site-packages/matplotlib/backends/backend_agg.py:201: RuntimeWarning: Glyph 51088 missing from current font.\n",
      "  font.set_text(s, 0, flags=flags)\n",
      "/Users/taerim/opt/anaconda3/lib/python3.8/site-packages/matplotlib/backends/backend_agg.py:201: RuntimeWarning: Glyph 48324 missing from current font.\n",
      "  font.set_text(s, 0, flags=flags)\n",
      "/Users/taerim/opt/anaconda3/lib/python3.8/site-packages/matplotlib/backends/backend_agg.py:201: RuntimeWarning: Glyph 44060 missing from current font.\n",
      "  font.set_text(s, 0, flags=flags)\n",
      "/Users/taerim/opt/anaconda3/lib/python3.8/site-packages/matplotlib/backends/backend_agg.py:201: RuntimeWarning: Glyph 51064 missing from current font.\n",
      "  font.set_text(s, 0, flags=flags)\n",
      "/Users/taerim/opt/anaconda3/lib/python3.8/site-packages/matplotlib/backends/backend_agg.py:201: RuntimeWarning: Glyph 47588 missing from current font.\n",
      "  font.set_text(s, 0, flags=flags)\n",
      "/Users/taerim/opt/anaconda3/lib/python3.8/site-packages/matplotlib/backends/backend_agg.py:201: RuntimeWarning: Glyph 44144 missing from current font.\n",
      "  font.set_text(s, 0, flags=flags)\n",
      "/Users/taerim/opt/anaconda3/lib/python3.8/site-packages/matplotlib/backends/backend_agg.py:201: RuntimeWarning: Glyph 51652 missing from current font.\n",
      "  font.set_text(s, 0, flags=flags)\n"
     ]
    },
    {
     "data": {
      "image/png": "[encoded data removed]",
      "text/plain": [
       "<Figure size 1080x720 with 1 Axes>"
      ]
     },
     "metadata": {},
     "output_type": "display_data"
    }
   ],
   "source": [
    "# 특이값 2개 데이터를 제외\n",
    "lm = sns.scatterplot(data=atc_read_cnt_nn[~atc_read_cnt_nn.article_id.isin(['@brunch_141', '@brunch_151'])], x='reg_dt', y='read_cnt', hue='type', alpha=0.5, palette=['#49beb7', '#ff5959'])\n",
    "lm.set(xlim=(datetime.date(datetime(2015, 4, 1)), datetime.date(datetime(2019, 3, 30))))\n",
    "plt.title('등록일자별 글 소비수')\n",
    "plt.xlabel('글 등록일')\n",
    "plt.ylabel('글 소비수')"
   ]
  },
  {
   "cell_type": "code",
   "execution_count": null,
   "metadata": {},
   "outputs": [],
   "source": []
  },
  {
   "cell_type": "code",
   "execution_count": null,
   "metadata": {},
   "outputs": [],
   "source": []
  },
  {
   "cell_type": "markdown",
   "metadata": {},
   "source": [
    "# 3. 경과일에 따른 글 소비 변화"
   ]
  },
  {
   "cell_type": "markdown",
   "metadata": {},
   "source": [
    "## a. 데이터 전처리"
   ]
  },
  {
   "cell_type": "code",
   "execution_count": 100,
   "metadata": {},
   "outputs": [],
   "source": [
    "off_data = pd.merge(read_raw, atc, how='inner', left_on='article_id', right_on='article_id')"
   ]
  },
  {
   "cell_type": "code",
   "execution_count": 101,
   "metadata": {},
   "outputs": [
    {
     "data": {
      "text/plain": [
       "(20905040, 15)"
      ]
     },
     "execution_count": 101,
     "metadata": {},
     "output_type": "execute_result"
    }
   ],
   "source": [
    "off_data.shape"
   ]
  },
  {
   "cell_type": "code",
   "execution_count": 102,
   "metadata": {},
   "outputs": [
    {
     "data": {
      "text/html": [
       "<div>\n",
       "<style scoped>\n",
       "    .dataframe tbody tr th:only-of-type {\n",
       "        vertical-align: middle;\n",
       "    }\n",
       "\n",
       "    .dataframe tbody tr th {\n",
       "        vertical-align: top;\n",
       "    }\n",
       "\n",
       "    .dataframe thead th {\n",
       "        text-align: right;\n",
       "    }\n",
       "</style>\n",
       "<table border=\"1\" class=\"dataframe\">\n",
       "  <thead>\n",
       "    <tr style=\"text-align: right;\">\n",
       "      <th></th>\n",
       "      <th>dt</th>\n",
       "      <th>hr</th>\n",
       "      <th>user_id</th>\n",
       "      <th>article_id</th>\n",
       "      <th>magazine_id</th>\n",
       "      <th>author_id</th>\n",
       "      <th>title</th>\n",
       "      <th>keyword_list</th>\n",
       "      <th>display_url</th>\n",
       "      <th>sub_title</th>\n",
       "      <th>reg_ts</th>\n",
       "      <th>id</th>\n",
       "      <th>reg_datetime</th>\n",
       "      <th>reg_dt</th>\n",
       "      <th>type</th>\n",
       "    </tr>\n",
       "  </thead>\n",
       "  <tbody>\n",
       "    <tr>\n",
       "      <th>0</th>\n",
       "      <td>20181121</td>\n",
       "      <td>14</td>\n",
       "      <td>#a055d0c3520e1c002531001928217887</td>\n",
       "      <td>@charlessay_30</td>\n",
       "      <td>37242</td>\n",
       "      <td>@charlessay</td>\n",
       "      <td>프랑스 인큐베이팅 프로그램 킥오프(2)</td>\n",
       "      <td>[IT, 스타트업]</td>\n",
       "      <td>https://brunch.co.kr/@charlessay/30</td>\n",
       "      <td>자신의 비전을 이루기 위해 여행을 떠나는 길동무들</td>\n",
       "      <td>1542529515000</td>\n",
       "      <td>30</td>\n",
       "      <td>2018-11-18 17:25:15</td>\n",
       "      <td>2018-11-18</td>\n",
       "      <td>매거진</td>\n",
       "    </tr>\n",
       "    <tr>\n",
       "      <th>1</th>\n",
       "      <td>20181118</td>\n",
       "      <td>18</td>\n",
       "      <td>#585b5346c56d6d0ed6341afe382e03b7</td>\n",
       "      <td>@charlessay_30</td>\n",
       "      <td>37242</td>\n",
       "      <td>@charlessay</td>\n",
       "      <td>프랑스 인큐베이팅 프로그램 킥오프(2)</td>\n",
       "      <td>[IT, 스타트업]</td>\n",
       "      <td>https://brunch.co.kr/@charlessay/30</td>\n",
       "      <td>자신의 비전을 이루기 위해 여행을 떠나는 길동무들</td>\n",
       "      <td>1542529515000</td>\n",
       "      <td>30</td>\n",
       "      <td>2018-11-18 17:25:15</td>\n",
       "      <td>2018-11-18</td>\n",
       "      <td>매거진</td>\n",
       "    </tr>\n",
       "  </tbody>\n",
       "</table>\n",
       "</div>"
      ],
      "text/plain": [
       "         dt  hr                            user_id      article_id  \\\n",
       "0  20181121  14  #a055d0c3520e1c002531001928217887  @charlessay_30   \n",
       "1  20181118  18  #585b5346c56d6d0ed6341afe382e03b7  @charlessay_30   \n",
       "\n",
       "   magazine_id    author_id                  title keyword_list  \\\n",
       "0        37242  @charlessay  프랑스 인큐베이팅 프로그램 킥오프(2)   [IT, 스타트업]   \n",
       "1        37242  @charlessay  프랑스 인큐베이팅 프로그램 킥오프(2)   [IT, 스타트업]   \n",
       "\n",
       "                           display_url                    sub_title  \\\n",
       "0  https://brunch.co.kr/@charlessay/30  자신의 비전을 이루기 위해 여행을 떠나는 길동무들   \n",
       "1  https://brunch.co.kr/@charlessay/30  자신의 비전을 이루기 위해 여행을 떠나는 길동무들   \n",
       "\n",
       "          reg_ts  id        reg_datetime      reg_dt type  \n",
       "0  1542529515000  30 2018-11-18 17:25:15  2018-11-18  매거진  \n",
       "1  1542529515000  30 2018-11-18 17:25:15  2018-11-18  매거진  "
      ]
     },
     "execution_count": 102,
     "metadata": {},
     "output_type": "execute_result"
    }
   ],
   "source": [
    "off_data.head(2)"
   ]
  },
  {
   "cell_type": "code",
   "execution_count": 104,
   "metadata": {},
   "outputs": [
    {
     "data": {
      "text/plain": [
       "Index(['dt', 'hr', 'user_id', 'article_id', 'magazine_id', 'author_id',\n",
       "       'title', 'keyword_list', 'display_url', 'sub_title', 'reg_ts', 'id',\n",
       "       'reg_datetime', 'reg_dt', 'type'],\n",
       "      dtype='object')"
      ]
     },
     "execution_count": 104,
     "metadata": {},
     "output_type": "execute_result"
    }
   ],
   "source": [
    "off_data.columns"
   ]
  },
  {
   "cell_type": "code",
   "execution_count": 105,
   "metadata": {},
   "outputs": [],
   "source": [
    "off_data.columns = ['read_dt', 'hr', 'user_id', 'article_id', 'magazine_id', 'author_id',\n",
    "       'title', 'keyword_list', 'display_url', 'sub_title', 'reg_ts', 'id',\n",
    "       'reg_datetime', 'reg_dt', 'type']"
   ]
  },
  {
   "cell_type": "code",
   "execution_count": 106,
   "metadata": {},
   "outputs": [],
   "source": [
    "off_data = off_data[['read_dt', 'user_id', 'article_id', 'title', 'sub_title', 'author_id', 'reg_dt', 'type', 'display_url', 'keyword_list', 'magazine_id']]"
   ]
  },
  {
   "cell_type": "code",
   "execution_count": 108,
   "metadata": {},
   "outputs": [
    {
     "name": "stderr",
     "output_type": "stream",
     "text": [
      "<ipython-input-108-85bdc6cd829f>:1: SettingWithCopyWarning: \n",
      "A value is trying to be set on a copy of a slice from a DataFrame.\n",
      "Try using .loc[row_indexer,col_indexer] = value instead\n",
      "\n",
      "See the caveats in the documentation: https://pandas.pydata.org/pandas-docs/stable/user_guide/indexing.html#returning-a-view-versus-a-copy\n",
      "  off_data['read_dt'] = pd.to_datetime(off_data['read_dt'], format='%Y%m%d')\n",
      "<ipython-input-108-85bdc6cd829f>:2: SettingWithCopyWarning: \n",
      "A value is trying to be set on a copy of a slice from a DataFrame.\n",
      "Try using .loc[row_indexer,col_indexer] = value instead\n",
      "\n",
      "See the caveats in the documentation: https://pandas.pydata.org/pandas-docs/stable/user_guide/indexing.html#returning-a-view-versus-a-copy\n",
      "  off_data['reg_dt'] = pd.to_datetime(off_data['reg_dt'], format='%Y-%m-%d')\n",
      "<ipython-input-108-85bdc6cd829f>:3: SettingWithCopyWarning: \n",
      "A value is trying to be set on a copy of a slice from a DataFrame.\n",
      "Try using .loc[row_indexer,col_indexer] = value instead\n",
      "\n",
      "See the caveats in the documentation: https://pandas.pydata.org/pandas-docs/stable/user_guide/indexing.html#returning-a-view-versus-a-copy\n",
      "  off_data['off_day'] = (off_data['read_dt'] - off_data['reg_dt']).dt.days\n"
     ]
    }
   ],
   "source": [
    "off_data['read_dt'] = pd.to_datetime(off_data['read_dt'], format='%Y%m%d')\n",
    "off_data['reg_dt'] = pd.to_datetime(off_data['reg_dt'], format='%Y-%m-%d')\n",
    "off_data['off_day'] = (off_data['read_dt'] - off_data['reg_dt']).dt.days"
   ]
  },
  {
   "cell_type": "code",
   "execution_count": 109,
   "metadata": {},
   "outputs": [],
   "source": [
    "# meatadata와 join\n",
    "off_data = pd.merge(off_data, atc_read_cnt_nn[['article_id', 'read_cnt', 'class']], how='left', left_on='article_id', right_on='article_id')"
   ]
  },
  {
   "cell_type": "code",
   "execution_count": 110,
   "metadata": {},
   "outputs": [],
   "source": [
    "off_data_agg = off_data.groupby(['article_id', 'off_day', 'read_dt', 'reg_dt', 'title', 'author_id', 'type', 'display_url', 'magazine_id', 'class'], as_index=False)['user_id'].count()"
   ]
  },
  {
   "cell_type": "code",
   "execution_count": 111,
   "metadata": {},
   "outputs": [
    {
     "data": {
      "text/html": [
       "<div>\n",
       "<style scoped>\n",
       "    .dataframe tbody tr th:only-of-type {\n",
       "        vertical-align: middle;\n",
       "    }\n",
       "\n",
       "    .dataframe tbody tr th {\n",
       "        vertical-align: top;\n",
       "    }\n",
       "\n",
       "    .dataframe thead th {\n",
       "        text-align: right;\n",
       "    }\n",
       "</style>\n",
       "<table border=\"1\" class=\"dataframe\">\n",
       "  <thead>\n",
       "    <tr style=\"text-align: right;\">\n",
       "      <th></th>\n",
       "      <th>article_id</th>\n",
       "      <th>off_day</th>\n",
       "      <th>read_dt</th>\n",
       "      <th>reg_dt</th>\n",
       "      <th>title</th>\n",
       "      <th>author_id</th>\n",
       "      <th>type</th>\n",
       "      <th>display_url</th>\n",
       "      <th>magazine_id</th>\n",
       "      <th>class</th>\n",
       "      <th>user_id</th>\n",
       "    </tr>\n",
       "  </thead>\n",
       "  <tbody>\n",
       "    <tr>\n",
       "      <th>166</th>\n",
       "      <td>@01023920600_18</td>\n",
       "      <td>-26324</td>\n",
       "      <td>2018-12-05</td>\n",
       "      <td>2090-12-31</td>\n",
       "      <td>김영화가</td>\n",
       "      <td>@01023920600</td>\n",
       "      <td>매거진</td>\n",
       "      <td>https://brunch.co.kr/@01023920600/18</td>\n",
       "      <td>8123</td>\n",
       "      <td>75%</td>\n",
       "      <td>2</td>\n",
       "    </tr>\n",
       "    <tr>\n",
       "      <th>167</th>\n",
       "      <td>@01023920600_18</td>\n",
       "      <td>-26303</td>\n",
       "      <td>2018-12-26</td>\n",
       "      <td>2090-12-31</td>\n",
       "      <td>김영화가</td>\n",
       "      <td>@01023920600</td>\n",
       "      <td>매거진</td>\n",
       "      <td>https://brunch.co.kr/@01023920600/18</td>\n",
       "      <td>8123</td>\n",
       "      <td>75%</td>\n",
       "      <td>2</td>\n",
       "    </tr>\n",
       "    <tr>\n",
       "      <th>168</th>\n",
       "      <td>@01023920600_18</td>\n",
       "      <td>-26280</td>\n",
       "      <td>2019-01-18</td>\n",
       "      <td>2090-12-31</td>\n",
       "      <td>김영화가</td>\n",
       "      <td>@01023920600</td>\n",
       "      <td>매거진</td>\n",
       "      <td>https://brunch.co.kr/@01023920600/18</td>\n",
       "      <td>8123</td>\n",
       "      <td>75%</td>\n",
       "      <td>1</td>\n",
       "    </tr>\n",
       "    <tr>\n",
       "      <th>172</th>\n",
       "      <td>@01023920600_2</td>\n",
       "      <td>-26324</td>\n",
       "      <td>2018-12-05</td>\n",
       "      <td>2090-12-31</td>\n",
       "      <td>효자되는 소액투자  돈불리는 소액투자</td>\n",
       "      <td>@01023920600</td>\n",
       "      <td>개인</td>\n",
       "      <td>https://brunch.co.kr/@01023920600/2</td>\n",
       "      <td>0</td>\n",
       "      <td>75%</td>\n",
       "      <td>2</td>\n",
       "    </tr>\n",
       "    <tr>\n",
       "      <th>173</th>\n",
       "      <td>@01023920600_2</td>\n",
       "      <td>-26303</td>\n",
       "      <td>2018-12-26</td>\n",
       "      <td>2090-12-31</td>\n",
       "      <td>효자되는 소액투자  돈불리는 소액투자</td>\n",
       "      <td>@01023920600</td>\n",
       "      <td>개인</td>\n",
       "      <td>https://brunch.co.kr/@01023920600/2</td>\n",
       "      <td>0</td>\n",
       "      <td>75%</td>\n",
       "      <td>2</td>\n",
       "    </tr>\n",
       "  </tbody>\n",
       "</table>\n",
       "</div>"
      ],
      "text/plain": [
       "          article_id  off_day    read_dt     reg_dt                 title  \\\n",
       "166  @01023920600_18   -26324 2018-12-05 2090-12-31                  김영화가   \n",
       "167  @01023920600_18   -26303 2018-12-26 2090-12-31                  김영화가   \n",
       "168  @01023920600_18   -26280 2019-01-18 2090-12-31                  김영화가   \n",
       "172   @01023920600_2   -26324 2018-12-05 2090-12-31  효자되는 소액투자  돈불리는 소액투자   \n",
       "173   @01023920600_2   -26303 2018-12-26 2090-12-31  효자되는 소액투자  돈불리는 소액투자   \n",
       "\n",
       "        author_id type                           display_url  magazine_id  \\\n",
       "166  @01023920600  매거진  https://brunch.co.kr/@01023920600/18         8123   \n",
       "167  @01023920600  매거진  https://brunch.co.kr/@01023920600/18         8123   \n",
       "168  @01023920600  매거진  https://brunch.co.kr/@01023920600/18         8123   \n",
       "172  @01023920600   개인   https://brunch.co.kr/@01023920600/2            0   \n",
       "173  @01023920600   개인   https://brunch.co.kr/@01023920600/2            0   \n",
       "\n",
       "    class  user_id  \n",
       "166   75%        2  \n",
       "167   75%        2  \n",
       "168   75%        1  \n",
       "172   75%        2  \n",
       "173   75%        2  "
      ]
     },
     "execution_count": 111,
     "metadata": {},
     "output_type": "execute_result"
    }
   ],
   "source": [
    "# 등록일자가 missing된 로그들\n",
    "off_data_agg[off_data_agg.off_day < 0].head()"
   ]
  },
  {
   "cell_type": "code",
   "execution_count": null,
   "metadata": {},
   "outputs": [],
   "source": []
  },
  {
   "cell_type": "markdown",
   "metadata": {},
   "source": [
    "## b. 경과일에 따른 글 소비 변화"
   ]
  },
  {
   "cell_type": "code",
   "execution_count": 112,
   "metadata": {},
   "outputs": [],
   "source": [
    "# 경과일자별 소비수 총합\n",
    "off_day_sum = off_data_agg[(off_data_agg['reg_dt'] >= datetime(2018, 10, 1)) & (off_data_agg.off_day >= 0)].groupby('off_day')['user_id'].sum()"
   ]
  },
  {
   "cell_type": "code",
   "execution_count": 113,
   "metadata": {},
   "outputs": [],
   "source": [
    "# 경과일자에 등록되어있는 아티클 수\n",
    "reg_dt_cnt = off_data_agg[(off_data_agg['reg_dt'] >= datetime(2018, 10, 1)) & (off_data_agg.off_day >= 0)].groupby('reg_dt')['article_id'].nunique()"
   ]
  },
  {
   "cell_type": "code",
   "execution_count": 114,
   "metadata": {},
   "outputs": [],
   "source": [
    "off_day_avg = pd.concat([off_day_sum, reg_dt_cnt.cumsum().sort_index(ascending=False).reset_index()], axis=1)"
   ]
  },
  {
   "cell_type": "code",
   "execution_count": 115,
   "metadata": {},
   "outputs": [],
   "source": [
    "off_day_avg['off_avg'] = off_day_avg['user_id'] / off_day_avg['article_id']"
   ]
  },
  {
   "cell_type": "code",
   "execution_count": 116,
   "metadata": {},
   "outputs": [],
   "source": [
    "off_day_avg['percentile'] = off_day_avg['off_avg'] / off_day_avg['off_avg'].sum()"
   ]
  },
  {
   "cell_type": "code",
   "execution_count": 117,
   "metadata": {},
   "outputs": [],
   "source": [
    "off_day_avg['cum_per'] = off_day_avg['percentile'].cumsum()"
   ]
  },
  {
   "cell_type": "code",
   "execution_count": 118,
   "metadata": {},
   "outputs": [
    {
     "data": {
      "text/html": [
       "<div>\n",
       "<style scoped>\n",
       "    .dataframe tbody tr th:only-of-type {\n",
       "        vertical-align: middle;\n",
       "    }\n",
       "\n",
       "    .dataframe tbody tr th {\n",
       "        vertical-align: top;\n",
       "    }\n",
       "\n",
       "    .dataframe thead th {\n",
       "        text-align: right;\n",
       "    }\n",
       "</style>\n",
       "<table border=\"1\" class=\"dataframe\">\n",
       "  <thead>\n",
       "    <tr style=\"text-align: right;\">\n",
       "      <th></th>\n",
       "      <th>user_id</th>\n",
       "      <th>reg_dt</th>\n",
       "      <th>article_id</th>\n",
       "      <th>off_avg</th>\n",
       "      <th>percentile</th>\n",
       "      <th>cum_per</th>\n",
       "    </tr>\n",
       "  </thead>\n",
       "  <tbody>\n",
       "    <tr>\n",
       "      <th>0</th>\n",
       "      <td>3142049</td>\n",
       "      <td>2019-02-28</td>\n",
       "      <td>107356</td>\n",
       "      <td>29.267568</td>\n",
       "      <td>0.207084</td>\n",
       "      <td>0.207084</td>\n",
       "    </tr>\n",
       "    <tr>\n",
       "      <th>1</th>\n",
       "      <td>1726882</td>\n",
       "      <td>2019-02-27</td>\n",
       "      <td>106649</td>\n",
       "      <td>16.192201</td>\n",
       "      <td>0.114569</td>\n",
       "      <td>0.321653</td>\n",
       "    </tr>\n",
       "    <tr>\n",
       "      <th>2</th>\n",
       "      <td>1017862</td>\n",
       "      <td>2019-02-26</td>\n",
       "      <td>105891</td>\n",
       "      <td>9.612356</td>\n",
       "      <td>0.068013</td>\n",
       "      <td>0.389665</td>\n",
       "    </tr>\n",
       "    <tr>\n",
       "      <th>3</th>\n",
       "      <td>776093</td>\n",
       "      <td>2019-02-25</td>\n",
       "      <td>105156</td>\n",
       "      <td>7.380397</td>\n",
       "      <td>0.052220</td>\n",
       "      <td>0.441886</td>\n",
       "    </tr>\n",
       "    <tr>\n",
       "      <th>4</th>\n",
       "      <td>632960</td>\n",
       "      <td>2019-02-24</td>\n",
       "      <td>104308</td>\n",
       "      <td>6.068183</td>\n",
       "      <td>0.042936</td>\n",
       "      <td>0.484821</td>\n",
       "    </tr>\n",
       "    <tr>\n",
       "      <th>5</th>\n",
       "      <td>529081</td>\n",
       "      <td>2019-02-23</td>\n",
       "      <td>103611</td>\n",
       "      <td>5.106417</td>\n",
       "      <td>0.036131</td>\n",
       "      <td>0.520952</td>\n",
       "    </tr>\n",
       "    <tr>\n",
       "      <th>6</th>\n",
       "      <td>436611</td>\n",
       "      <td>2019-02-22</td>\n",
       "      <td>103019</td>\n",
       "      <td>4.238160</td>\n",
       "      <td>0.029987</td>\n",
       "      <td>0.550939</td>\n",
       "    </tr>\n",
       "    <tr>\n",
       "      <th>7</th>\n",
       "      <td>412530</td>\n",
       "      <td>2019-02-21</td>\n",
       "      <td>102167</td>\n",
       "      <td>4.037801</td>\n",
       "      <td>0.028570</td>\n",
       "      <td>0.579509</td>\n",
       "    </tr>\n",
       "    <tr>\n",
       "      <th>8</th>\n",
       "      <td>236772</td>\n",
       "      <td>2019-02-20</td>\n",
       "      <td>101343</td>\n",
       "      <td>2.336343</td>\n",
       "      <td>0.016531</td>\n",
       "      <td>0.596040</td>\n",
       "    </tr>\n",
       "    <tr>\n",
       "      <th>9</th>\n",
       "      <td>193039</td>\n",
       "      <td>2019-02-19</td>\n",
       "      <td>100511</td>\n",
       "      <td>1.920576</td>\n",
       "      <td>0.013589</td>\n",
       "      <td>0.609629</td>\n",
       "    </tr>\n",
       "  </tbody>\n",
       "</table>\n",
       "</div>"
      ],
      "text/plain": [
       "   user_id     reg_dt  article_id    off_avg  percentile   cum_per\n",
       "0  3142049 2019-02-28      107356  29.267568    0.207084  0.207084\n",
       "1  1726882 2019-02-27      106649  16.192201    0.114569  0.321653\n",
       "2  1017862 2019-02-26      105891   9.612356    0.068013  0.389665\n",
       "3   776093 2019-02-25      105156   7.380397    0.052220  0.441886\n",
       "4   632960 2019-02-24      104308   6.068183    0.042936  0.484821\n",
       "5   529081 2019-02-23      103611   5.106417    0.036131  0.520952\n",
       "6   436611 2019-02-22      103019   4.238160    0.029987  0.550939\n",
       "7   412530 2019-02-21      102167   4.037801    0.028570  0.579509\n",
       "8   236772 2019-02-20      101343   2.336343    0.016531  0.596040\n",
       "9   193039 2019-02-19      100511   1.920576    0.013589  0.609629"
      ]
     },
     "execution_count": 118,
     "metadata": {},
     "output_type": "execute_result"
    }
   ],
   "source": [
    "off_day_avg.head(10)"
   ]
  },
  {
   "cell_type": "code",
   "execution_count": null,
   "metadata": {},
   "outputs": [],
   "source": []
  },
  {
   "cell_type": "code",
   "execution_count": 119,
   "metadata": {},
   "outputs": [
    {
     "data": {
      "text/plain": [
       "Text(0, 0.5, '평균 글 소비수')"
      ]
     },
     "execution_count": 119,
     "metadata": {},
     "output_type": "execute_result"
    },
    {
     "name": "stderr",
     "output_type": "stream",
     "text": [
      "/Users/taerim/opt/anaconda3/lib/python3.8/site-packages/matplotlib/backends/backend_agg.py:238: RuntimeWarning: Glyph 44221 missing from current font.\n",
      "  font.set_text(s, 0.0, flags=flags)\n",
      "/Users/taerim/opt/anaconda3/lib/python3.8/site-packages/matplotlib/backends/backend_agg.py:238: RuntimeWarning: Glyph 44284 missing from current font.\n",
      "  font.set_text(s, 0.0, flags=flags)\n",
      "/Users/taerim/opt/anaconda3/lib/python3.8/site-packages/matplotlib/backends/backend_agg.py:238: RuntimeWarning: Glyph 51068 missing from current font.\n",
      "  font.set_text(s, 0.0, flags=flags)\n",
      "/Users/taerim/opt/anaconda3/lib/python3.8/site-packages/matplotlib/backends/backend_agg.py:238: RuntimeWarning: Glyph 50640 missing from current font.\n",
      "  font.set_text(s, 0.0, flags=flags)\n",
      "/Users/taerim/opt/anaconda3/lib/python3.8/site-packages/matplotlib/backends/backend_agg.py:238: RuntimeWarning: Glyph 46384 missing from current font.\n",
      "  font.set_text(s, 0.0, flags=flags)\n",
      "/Users/taerim/opt/anaconda3/lib/python3.8/site-packages/matplotlib/backends/backend_agg.py:238: RuntimeWarning: Glyph 47480 missing from current font.\n",
      "  font.set_text(s, 0.0, flags=flags)\n",
      "/Users/taerim/opt/anaconda3/lib/python3.8/site-packages/matplotlib/backends/backend_agg.py:238: RuntimeWarning: Glyph 44544 missing from current font.\n",
      "  font.set_text(s, 0.0, flags=flags)\n",
      "/Users/taerim/opt/anaconda3/lib/python3.8/site-packages/matplotlib/backends/backend_agg.py:238: RuntimeWarning: Glyph 49548 missing from current font.\n",
      "  font.set_text(s, 0.0, flags=flags)\n",
      "/Users/taerim/opt/anaconda3/lib/python3.8/site-packages/matplotlib/backends/backend_agg.py:238: RuntimeWarning: Glyph 48708 missing from current font.\n",
      "  font.set_text(s, 0.0, flags=flags)\n",
      "/Users/taerim/opt/anaconda3/lib/python3.8/site-packages/matplotlib/backends/backend_agg.py:238: RuntimeWarning: Glyph 49688 missing from current font.\n",
      "  font.set_text(s, 0.0, flags=flags)\n",
      "/Users/taerim/opt/anaconda3/lib/python3.8/site-packages/matplotlib/backends/backend_agg.py:238: RuntimeWarning: Glyph 48320 missing from current font.\n",
      "  font.set_text(s, 0.0, flags=flags)\n",
      "/Users/taerim/opt/anaconda3/lib/python3.8/site-packages/matplotlib/backends/backend_agg.py:238: RuntimeWarning: Glyph 54868 missing from current font.\n",
      "  font.set_text(s, 0.0, flags=flags)\n",
      "/Users/taerim/opt/anaconda3/lib/python3.8/site-packages/matplotlib/backends/backend_agg.py:238: RuntimeWarning: Glyph 54217 missing from current font.\n",
      "  font.set_text(s, 0.0, flags=flags)\n",
      "/Users/taerim/opt/anaconda3/lib/python3.8/site-packages/matplotlib/backends/backend_agg.py:238: RuntimeWarning: Glyph 44512 missing from current font.\n",
      "  font.set_text(s, 0.0, flags=flags)\n",
      "/Users/taerim/opt/anaconda3/lib/python3.8/site-packages/matplotlib/backends/backend_agg.py:201: RuntimeWarning: Glyph 44221 missing from current font.\n",
      "  font.set_text(s, 0, flags=flags)\n",
      "/Users/taerim/opt/anaconda3/lib/python3.8/site-packages/matplotlib/backends/backend_agg.py:201: RuntimeWarning: Glyph 44284 missing from current font.\n",
      "  font.set_text(s, 0, flags=flags)\n",
      "/Users/taerim/opt/anaconda3/lib/python3.8/site-packages/matplotlib/backends/backend_agg.py:201: RuntimeWarning: Glyph 51068 missing from current font.\n",
      "  font.set_text(s, 0, flags=flags)\n",
      "/Users/taerim/opt/anaconda3/lib/python3.8/site-packages/matplotlib/backends/backend_agg.py:201: RuntimeWarning: Glyph 54217 missing from current font.\n",
      "  font.set_text(s, 0, flags=flags)\n",
      "/Users/taerim/opt/anaconda3/lib/python3.8/site-packages/matplotlib/backends/backend_agg.py:201: RuntimeWarning: Glyph 44512 missing from current font.\n",
      "  font.set_text(s, 0, flags=flags)\n",
      "/Users/taerim/opt/anaconda3/lib/python3.8/site-packages/matplotlib/backends/backend_agg.py:201: RuntimeWarning: Glyph 44544 missing from current font.\n",
      "  font.set_text(s, 0, flags=flags)\n",
      "/Users/taerim/opt/anaconda3/lib/python3.8/site-packages/matplotlib/backends/backend_agg.py:201: RuntimeWarning: Glyph 49548 missing from current font.\n",
      "  font.set_text(s, 0, flags=flags)\n",
      "/Users/taerim/opt/anaconda3/lib/python3.8/site-packages/matplotlib/backends/backend_agg.py:201: RuntimeWarning: Glyph 48708 missing from current font.\n",
      "  font.set_text(s, 0, flags=flags)\n",
      "/Users/taerim/opt/anaconda3/lib/python3.8/site-packages/matplotlib/backends/backend_agg.py:201: RuntimeWarning: Glyph 49688 missing from current font.\n",
      "  font.set_text(s, 0, flags=flags)\n",
      "/Users/taerim/opt/anaconda3/lib/python3.8/site-packages/matplotlib/backends/backend_agg.py:201: RuntimeWarning: Glyph 50640 missing from current font.\n",
      "  font.set_text(s, 0, flags=flags)\n",
      "/Users/taerim/opt/anaconda3/lib/python3.8/site-packages/matplotlib/backends/backend_agg.py:201: RuntimeWarning: Glyph 46384 missing from current font.\n",
      "  font.set_text(s, 0, flags=flags)\n",
      "/Users/taerim/opt/anaconda3/lib/python3.8/site-packages/matplotlib/backends/backend_agg.py:201: RuntimeWarning: Glyph 47480 missing from current font.\n",
      "  font.set_text(s, 0, flags=flags)\n",
      "/Users/taerim/opt/anaconda3/lib/python3.8/site-packages/matplotlib/backends/backend_agg.py:201: RuntimeWarning: Glyph 48320 missing from current font.\n",
      "  font.set_text(s, 0, flags=flags)\n",
      "/Users/taerim/opt/anaconda3/lib/python3.8/site-packages/matplotlib/backends/backend_agg.py:201: RuntimeWarning: Glyph 54868 missing from current font.\n",
      "  font.set_text(s, 0, flags=flags)\n"
     ]
    },
    {
     "data": {
      "image/png": "[encoded data removed]",
      "text/plain": [
       "<Figure size 1080x720 with 1 Axes>"
      ]
     },
     "metadata": {},
     "output_type": "display_data"
    }
   ],
   "source": [
    "sns.lineplot(data=off_day_avg, x=off_day_avg.index, y='off_avg', color='#49beb7')\n",
    "plt.title('경과일에 따른 글 소비수 변화')\n",
    "plt.xlabel('경과일')\n",
    "plt.ylabel('평균 글 소비수')"
   ]
  },
  {
   "cell_type": "code",
   "execution_count": null,
   "metadata": {},
   "outputs": [],
   "source": []
  },
  {
   "cell_type": "markdown",
   "metadata": {},
   "source": [
    "## 4. 유저"
   ]
  },
  {
   "cell_type": "code",
   "execution_count": 120,
   "metadata": {},
   "outputs": [],
   "source": [
    "# 유져별 방문일수, 글 소비수\n",
    "grp_by_user = off_data.groupby('user_id').agg({'read_dt':['nunique', 'count']})"
   ]
  },
  {
   "cell_type": "code",
   "execution_count": 121,
   "metadata": {},
   "outputs": [],
   "source": [
    "grp_by_user = grp_by_user.reset_index()\n",
    "grp_by_user.columns = ['user_id', 'visit_day_cnt', 'read_cnt']"
   ]
  },
  {
   "cell_type": "code",
   "execution_count": 122,
   "metadata": {},
   "outputs": [
    {
     "data": {
      "text/html": [
       "<div>\n",
       "<style scoped>\n",
       "    .dataframe tbody tr th:only-of-type {\n",
       "        vertical-align: middle;\n",
       "    }\n",
       "\n",
       "    .dataframe tbody tr th {\n",
       "        vertical-align: top;\n",
       "    }\n",
       "\n",
       "    .dataframe thead th {\n",
       "        text-align: right;\n",
       "    }\n",
       "</style>\n",
       "<table border=\"1\" class=\"dataframe\">\n",
       "  <thead>\n",
       "    <tr style=\"text-align: right;\">\n",
       "      <th></th>\n",
       "      <th>user_id</th>\n",
       "      <th>visit_day_cnt</th>\n",
       "      <th>read_cnt</th>\n",
       "    </tr>\n",
       "  </thead>\n",
       "  <tbody>\n",
       "    <tr>\n",
       "      <th>0</th>\n",
       "      <td>#00001ba6ca8d87d2fc34d626ba9cfe6f</td>\n",
       "      <td>1</td>\n",
       "      <td>3</td>\n",
       "    </tr>\n",
       "    <tr>\n",
       "      <th>1</th>\n",
       "      <td>#0000e87158c1426d6ffb72cebac6cb64</td>\n",
       "      <td>1</td>\n",
       "      <td>2</td>\n",
       "    </tr>\n",
       "    <tr>\n",
       "      <th>2</th>\n",
       "      <td>#0000eea6d339abfd02ed590bc451fc63</td>\n",
       "      <td>1</td>\n",
       "      <td>1</td>\n",
       "    </tr>\n",
       "    <tr>\n",
       "      <th>3</th>\n",
       "      <td>#0000fdba8f35c76eacab74c5c6bc7f1a</td>\n",
       "      <td>3</td>\n",
       "      <td>11</td>\n",
       "    </tr>\n",
       "    <tr>\n",
       "      <th>4</th>\n",
       "      <td>#000127ad0f1981cae1292efdb228f0e9</td>\n",
       "      <td>1</td>\n",
       "      <td>27</td>\n",
       "    </tr>\n",
       "  </tbody>\n",
       "</table>\n",
       "</div>"
      ],
      "text/plain": [
       "                             user_id  visit_day_cnt  read_cnt\n",
       "0  #00001ba6ca8d87d2fc34d626ba9cfe6f              1         3\n",
       "1  #0000e87158c1426d6ffb72cebac6cb64              1         2\n",
       "2  #0000eea6d339abfd02ed590bc451fc63              1         1\n",
       "3  #0000fdba8f35c76eacab74c5c6bc7f1a              3        11\n",
       "4  #000127ad0f1981cae1292efdb228f0e9              1        27"
      ]
     },
     "execution_count": 122,
     "metadata": {},
     "output_type": "execute_result"
    }
   ],
   "source": [
    "grp_by_user.head()"
   ]
  },
  {
   "cell_type": "code",
   "execution_count": null,
   "metadata": {},
   "outputs": [],
   "source": []
  },
  {
   "cell_type": "markdown",
   "metadata": {},
   "source": [
    "### a. 방문일 수 기준 유저 통계"
   ]
  },
  {
   "cell_type": "code",
   "execution_count": 123,
   "metadata": {},
   "outputs": [
    {
     "data": {
      "text/plain": [
       "1    0.352137\n",
       "2    0.142516\n",
       "3    0.088841\n",
       "4    0.063050\n",
       "5    0.047217\n",
       "Name: visit_day_cnt, dtype: float64"
      ]
     },
     "execution_count": 123,
     "metadata": {},
     "output_type": "execute_result"
    }
   ],
   "source": [
    "grp_by_user['visit_day_cnt'].value_counts(normalize=True).head()"
   ]
  },
  {
   "cell_type": "code",
   "execution_count": 124,
   "metadata": {},
   "outputs": [
    {
     "data": {
      "text/plain": [
       "0.009034902176890052"
      ]
     },
     "execution_count": 124,
     "metadata": {},
     "output_type": "execute_result"
    }
   ],
   "source": [
    "grp_by_user['visit_day_cnt'].value_counts(normalize=True).sort_index()[74:].sum()"
   ]
  },
  {
   "cell_type": "code",
   "execution_count": 125,
   "metadata": {},
   "outputs": [],
   "source": [
    "low_visit_user = grp_by_user.loc[grp_by_user['visit_day_cnt'] <=2, 'user_id']"
   ]
  },
  {
   "cell_type": "code",
   "execution_count": 126,
   "metadata": {},
   "outputs": [],
   "source": [
    "upp_visit_user = grp_by_user.loc[grp_by_user['visit_day_cnt'] >=75, 'user_id']"
   ]
  },
  {
   "cell_type": "code",
   "execution_count": 127,
   "metadata": {},
   "outputs": [
    {
     "data": {
      "text/plain": [
       "((149903,), (2738,))"
      ]
     },
     "execution_count": 127,
     "metadata": {},
     "output_type": "execute_result"
    }
   ],
   "source": [
    "low_visit_user.shape, upp_visit_user.shape"
   ]
  },
  {
   "cell_type": "code",
   "execution_count": 128,
   "metadata": {},
   "outputs": [],
   "source": [
    "off_data_l = off_data[off_data.user_id.isin(low_visit_user)]\n",
    "off_data_u = off_data[off_data.user_id.isin(upp_visit_user)]"
   ]
  },
  {
   "cell_type": "code",
   "execution_count": 129,
   "metadata": {},
   "outputs": [
    {
     "data": {
      "text/plain": [
       "((20905040, 14), (1083925, 14), (5002114, 14))"
      ]
     },
     "execution_count": 129,
     "metadata": {},
     "output_type": "execute_result"
    }
   ],
   "source": [
    "off_data.shape, off_data_l.shape, off_data_u.shape"
   ]
  },
  {
   "cell_type": "code",
   "execution_count": 130,
   "metadata": {},
   "outputs": [
    {
     "data": {
      "text/plain": [
       "(0.051849936665990595, 0.23927789662205862)"
      ]
     },
     "execution_count": 130,
     "metadata": {},
     "output_type": "execute_result"
    }
   ],
   "source": [
    "1083925/20905040, 5002114/20905040"
   ]
  },
  {
   "cell_type": "code",
   "execution_count": 131,
   "metadata": {},
   "outputs": [
    {
     "data": {
      "text/plain": [
       "(7.230842611555473, 13.573547204837958)"
      ]
     },
     "execution_count": 131,
     "metadata": {},
     "output_type": "execute_result"
    }
   ],
   "source": [
    "off_data_l.groupby('user_id')['article_id'].count().mean(), off_data_l.groupby('user_id')['article_id'].count().std(),"
   ]
  },
  {
   "cell_type": "code",
   "execution_count": 132,
   "metadata": {},
   "outputs": [
    {
     "data": {
      "text/plain": [
       "(1826.9225712198686, 2758.1071094196964)"
      ]
     },
     "execution_count": 132,
     "metadata": {},
     "output_type": "execute_result"
    }
   ],
   "source": [
    "off_data_u.groupby('user_id')['article_id'].count().mean(), off_data_u.groupby('user_id')['article_id'].count().std()"
   ]
  },
  {
   "cell_type": "code",
   "execution_count": null,
   "metadata": {},
   "outputs": [],
   "source": []
  },
  {
   "cell_type": "markdown",
   "metadata": {},
   "source": [
    "### 3. 신규/단골 그룹 내 인기 글"
   ]
  },
  {
   "cell_type": "code",
   "execution_count": 133,
   "metadata": {},
   "outputs": [],
   "source": [
    "off_data_l_rk = off_data_l.groupby(['article_id', 'title', 'reg_dt'])['user_id'].count().sort_values(ascending=False)\n",
    "off_data_l_rk = off_data_l_rk.reset_index()\n",
    "off_data_l_rk['rk'] = off_data_l_rk.index + 1"
   ]
  },
  {
   "cell_type": "code",
   "execution_count": 134,
   "metadata": {},
   "outputs": [],
   "source": [
    "off_data_u_rk = off_data_u.groupby(['article_id', 'title', 'reg_dt'])['user_id'].count().sort_values(ascending=False)\n",
    "off_data_u_rk = off_data_u_rk.reset_index()\n",
    "off_data_u_rk['rk'] = off_data_u_rk.index + 1"
   ]
  },
  {
   "cell_type": "code",
   "execution_count": 135,
   "metadata": {},
   "outputs": [],
   "source": [
    "off_data_u_rk = off_data_u.groupby(['article_id', 'title', 'reg_dt'])['user_id'].count().sort_values(ascending=False)\n",
    "off_data_u_rk = off_data_u_rk.reset_index()\n",
    "off_data_u_rk['rk'] = off_data_u_rk.index + 1"
   ]
  },
  {
   "cell_type": "code",
   "execution_count": 136,
   "metadata": {},
   "outputs": [
    {
     "data": {
      "text/html": [
       "<div>\n",
       "<style scoped>\n",
       "    .dataframe tbody tr th:only-of-type {\n",
       "        vertical-align: middle;\n",
       "    }\n",
       "\n",
       "    .dataframe tbody tr th {\n",
       "        vertical-align: top;\n",
       "    }\n",
       "\n",
       "    .dataframe thead th {\n",
       "        text-align: right;\n",
       "    }\n",
       "</style>\n",
       "<table border=\"1\" class=\"dataframe\">\n",
       "  <thead>\n",
       "    <tr style=\"text-align: right;\">\n",
       "      <th></th>\n",
       "      <th>article_id</th>\n",
       "      <th>title</th>\n",
       "      <th>reg_dt</th>\n",
       "      <th>user_id</th>\n",
       "      <th>rk</th>\n",
       "    </tr>\n",
       "  </thead>\n",
       "  <tbody>\n",
       "    <tr>\n",
       "      <th>0</th>\n",
       "      <td>@brunch_141</td>\n",
       "      <td>브런치 작가가 함께 빨강머리 앤을 그리고 쓰다.</td>\n",
       "      <td>2018-10-17</td>\n",
       "      <td>11636</td>\n",
       "      <td>1</td>\n",
       "    </tr>\n",
       "    <tr>\n",
       "      <th>1</th>\n",
       "      <td>@brunch_151</td>\n",
       "      <td>브런치 무비 패스, 영화의 진한 여운을 나누세요</td>\n",
       "      <td>2019-02-18</td>\n",
       "      <td>6010</td>\n",
       "      <td>2</td>\n",
       "    </tr>\n",
       "    <tr>\n",
       "      <th>2</th>\n",
       "      <td>@brunch_145</td>\n",
       "      <td>10인의 에디터와 함께 하는, 브런치북 프로젝트 #6</td>\n",
       "      <td>2018-12-12</td>\n",
       "      <td>4379</td>\n",
       "      <td>3</td>\n",
       "    </tr>\n",
       "    <tr>\n",
       "      <th>3</th>\n",
       "      <td>@tenbody_1305</td>\n",
       "      <td>러닝머신보다 효과 좋은 체지방 빼는 맨몸 운동 5가지</td>\n",
       "      <td>2018-08-10</td>\n",
       "      <td>3674</td>\n",
       "      <td>4</td>\n",
       "    </tr>\n",
       "    <tr>\n",
       "      <th>4</th>\n",
       "      <td>@hyehyodam_19</td>\n",
       "      <td>나쁜년이 잘 사는 이유...</td>\n",
       "      <td>2018-01-26</td>\n",
       "      <td>2920</td>\n",
       "      <td>5</td>\n",
       "    </tr>\n",
       "    <tr>\n",
       "      <th>5</th>\n",
       "      <td>@sangheeshyn_66</td>\n",
       "      <td>살찌지 않는 여자들</td>\n",
       "      <td>2018-11-13</td>\n",
       "      <td>2866</td>\n",
       "      <td>6</td>\n",
       "    </tr>\n",
       "    <tr>\n",
       "      <th>6</th>\n",
       "      <td>@brunch_142</td>\n",
       "      <td>[예고] 브런치북 프로젝트 #6</td>\n",
       "      <td>2018-11-01</td>\n",
       "      <td>2753</td>\n",
       "      <td>7</td>\n",
       "    </tr>\n",
       "    <tr>\n",
       "      <th>7</th>\n",
       "      <td>@intlovesong_28</td>\n",
       "      <td>아끼면 똥 되는 것 4가지</td>\n",
       "      <td>2016-11-04</td>\n",
       "      <td>2606</td>\n",
       "      <td>8</td>\n",
       "    </tr>\n",
       "    <tr>\n",
       "      <th>8</th>\n",
       "      <td>@x-xv_19</td>\n",
       "      <td>승무원, 들어오려는 자, 나가려는 자</td>\n",
       "      <td>2018-08-05</td>\n",
       "      <td>2603</td>\n",
       "      <td>9</td>\n",
       "    </tr>\n",
       "    <tr>\n",
       "      <th>9</th>\n",
       "      <td>@steven_179</td>\n",
       "      <td>친구 없는 사람의 3가지 특징</td>\n",
       "      <td>2017-09-15</td>\n",
       "      <td>2597</td>\n",
       "      <td>10</td>\n",
       "    </tr>\n",
       "  </tbody>\n",
       "</table>\n",
       "</div>"
      ],
      "text/plain": [
       "        article_id                          title     reg_dt  user_id  rk\n",
       "0      @brunch_141     브런치 작가가 함께 빨강머리 앤을 그리고 쓰다. 2018-10-17    11636   1\n",
       "1      @brunch_151     브런치 무비 패스, 영화의 진한 여운을 나누세요 2019-02-18     6010   2\n",
       "2      @brunch_145  10인의 에디터와 함께 하는, 브런치북 프로젝트 #6 2018-12-12     4379   3\n",
       "3    @tenbody_1305  러닝머신보다 효과 좋은 체지방 빼는 맨몸 운동 5가지 2018-08-10     3674   4\n",
       "4    @hyehyodam_19                나쁜년이 잘 사는 이유... 2018-01-26     2920   5\n",
       "5  @sangheeshyn_66                     살찌지 않는 여자들 2018-11-13     2866   6\n",
       "6      @brunch_142              [예고] 브런치북 프로젝트 #6 2018-11-01     2753   7\n",
       "7  @intlovesong_28                 아끼면 똥 되는 것 4가지 2016-11-04     2606   8\n",
       "8         @x-xv_19           승무원, 들어오려는 자, 나가려는 자 2018-08-05     2603   9\n",
       "9      @steven_179               친구 없는 사람의 3가지 특징 2017-09-15     2597  10"
      ]
     },
     "execution_count": 136,
     "metadata": {},
     "output_type": "execute_result"
    }
   ],
   "source": [
    "# 단골 독자 소비수 상위 상위 10개 글\n",
    "off_data_u_rk.head(10)"
   ]
  },
  {
   "cell_type": "code",
   "execution_count": 137,
   "metadata": {},
   "outputs": [],
   "source": [
    "off_data_lu_rk = pd.merge(off_data_l_rk, off_data_u_rk, how='outer', left_on = 'article_id', right_on='article_id')"
   ]
  },
  {
   "cell_type": "code",
   "execution_count": 138,
   "metadata": {},
   "outputs": [],
   "source": [
    "off_data_lu_rk['diff_rk'] = off_data_lu_rk['rk_x'] - off_data_lu_rk['rk_y']"
   ]
  },
  {
   "cell_type": "code",
   "execution_count": 139,
   "metadata": {},
   "outputs": [
    {
     "data": {
      "text/html": [
       "<div>\n",
       "<style scoped>\n",
       "    .dataframe tbody tr th:only-of-type {\n",
       "        vertical-align: middle;\n",
       "    }\n",
       "\n",
       "    .dataframe tbody tr th {\n",
       "        vertical-align: top;\n",
       "    }\n",
       "\n",
       "    .dataframe thead th {\n",
       "        text-align: right;\n",
       "    }\n",
       "</style>\n",
       "<table border=\"1\" class=\"dataframe\">\n",
       "  <thead>\n",
       "    <tr style=\"text-align: right;\">\n",
       "      <th></th>\n",
       "      <th>article_id</th>\n",
       "      <th>title_x</th>\n",
       "      <th>reg_dt_x</th>\n",
       "      <th>user_id_x</th>\n",
       "      <th>rk_x</th>\n",
       "      <th>title_y</th>\n",
       "      <th>reg_dt_y</th>\n",
       "      <th>user_id_y</th>\n",
       "      <th>rk_y</th>\n",
       "      <th>diff_rk</th>\n",
       "    </tr>\n",
       "  </thead>\n",
       "  <tbody>\n",
       "    <tr>\n",
       "      <th>7</th>\n",
       "      <td>@kakaomobility_20</td>\n",
       "      <td>음성으로 편리하게</td>\n",
       "      <td>2018-10-17</td>\n",
       "      <td>2458.0</td>\n",
       "      <td>8.0</td>\n",
       "      <td>음성으로 편리하게</td>\n",
       "      <td>2018-10-17</td>\n",
       "      <td>14.0</td>\n",
       "      <td>64179.0</td>\n",
       "      <td>-64171.0</td>\n",
       "    </tr>\n",
       "    <tr>\n",
       "      <th>4</th>\n",
       "      <td>@brunch_2</td>\n",
       "      <td>브런치 작가 신청 안내</td>\n",
       "      <td>2015-06-18</td>\n",
       "      <td>4068.0</td>\n",
       "      <td>5.0</td>\n",
       "      <td>브런치 작가 신청 안내</td>\n",
       "      <td>2015-06-18</td>\n",
       "      <td>232.0</td>\n",
       "      <td>3216.0</td>\n",
       "      <td>-3211.0</td>\n",
       "    </tr>\n",
       "    <tr>\n",
       "      <th>33</th>\n",
       "      <td>@brunch_139</td>\n",
       "      <td>작가님에게 새로운 제안이 도착했습니다</td>\n",
       "      <td>2018-08-08</td>\n",
       "      <td>1047.0</td>\n",
       "      <td>34.0</td>\n",
       "      <td>작가님에게 새로운 제안이 도착했습니다</td>\n",
       "      <td>2018-08-08</td>\n",
       "      <td>474.0</td>\n",
       "      <td>750.0</td>\n",
       "      <td>-716.0</td>\n",
       "    </tr>\n",
       "    <tr>\n",
       "      <th>18</th>\n",
       "      <td>@brunch_152</td>\n",
       "      <td>작가 인터뷰 - 임희정 아나운서의 고백</td>\n",
       "      <td>2019-02-27</td>\n",
       "      <td>1611.0</td>\n",
       "      <td>19.0</td>\n",
       "      <td>작가 인터뷰 - 임희정 아나운서의 고백</td>\n",
       "      <td>2019-02-27</td>\n",
       "      <td>480.0</td>\n",
       "      <td>730.0</td>\n",
       "      <td>-711.0</td>\n",
       "    </tr>\n",
       "    <tr>\n",
       "      <th>2</th>\n",
       "      <td>@brunch_1</td>\n",
       "      <td>글이 작품이 되는 공간, 브런치</td>\n",
       "      <td>2015-06-12</td>\n",
       "      <td>5282.0</td>\n",
       "      <td>3.0</td>\n",
       "      <td>글이 작품이 되는 공간, 브런치</td>\n",
       "      <td>2015-06-12</td>\n",
       "      <td>528.0</td>\n",
       "      <td>569.0</td>\n",
       "      <td>-566.0</td>\n",
       "    </tr>\n",
       "    <tr>\n",
       "      <th>26</th>\n",
       "      <td>@brunch_111</td>\n",
       "      <td>브런치 책방에  작가님의 책을 입고해주세요</td>\n",
       "      <td>2017-09-28</td>\n",
       "      <td>1326.0</td>\n",
       "      <td>27.0</td>\n",
       "      <td>브런치 책방에  작가님의 책을 입고해주세요</td>\n",
       "      <td>2017-09-28</td>\n",
       "      <td>702.0</td>\n",
       "      <td>315.0</td>\n",
       "      <td>-288.0</td>\n",
       "    </tr>\n",
       "    <tr>\n",
       "      <th>35</th>\n",
       "      <td>@jmg5308_163</td>\n",
       "      <td>이효리를 통해 바라본 자존감 높은 사람의 특징</td>\n",
       "      <td>2017-08-04</td>\n",
       "      <td>995.0</td>\n",
       "      <td>36.0</td>\n",
       "      <td>이효리를 통해 바라본 자존감 높은 사람의 특징</td>\n",
       "      <td>2017-08-04</td>\n",
       "      <td>795.0</td>\n",
       "      <td>233.0</td>\n",
       "      <td>-197.0</td>\n",
       "    </tr>\n",
       "    <tr>\n",
       "      <th>38</th>\n",
       "      <td>@dong02_1372</td>\n",
       "      <td>자존감을 높이는 언어습관 3가지 방법</td>\n",
       "      <td>2017-10-11</td>\n",
       "      <td>876.0</td>\n",
       "      <td>39.0</td>\n",
       "      <td>자존감을 높이는 언어습관 3가지 방법</td>\n",
       "      <td>2017-10-11</td>\n",
       "      <td>880.0</td>\n",
       "      <td>185.0</td>\n",
       "      <td>-146.0</td>\n",
       "    </tr>\n",
       "    <tr>\n",
       "      <th>31</th>\n",
       "      <td>@nplusu_49</td>\n",
       "      <td>벨기에의 3가지 보물</td>\n",
       "      <td>2016-11-10</td>\n",
       "      <td>1170.0</td>\n",
       "      <td>32.0</td>\n",
       "      <td>벨기에의 3가지 보물</td>\n",
       "      <td>2016-11-10</td>\n",
       "      <td>900.0</td>\n",
       "      <td>175.0</td>\n",
       "      <td>-143.0</td>\n",
       "    </tr>\n",
       "    <tr>\n",
       "      <th>45</th>\n",
       "      <td>@needleworm_1</td>\n",
       "      <td>크롤러를 이용해 우체국 등기우편을 자동으로 정리해 보자</td>\n",
       "      <td>2018-11-01</td>\n",
       "      <td>796.0</td>\n",
       "      <td>46.0</td>\n",
       "      <td>크롤러를 이용해 우체국 등기우편을 자동으로 정리해 보자</td>\n",
       "      <td>2018-11-01</td>\n",
       "      <td>905.0</td>\n",
       "      <td>173.0</td>\n",
       "      <td>-127.0</td>\n",
       "    </tr>\n",
       "  </tbody>\n",
       "</table>\n",
       "</div>"
      ],
      "text/plain": [
       "           article_id                         title_x   reg_dt_x  user_id_x  \\\n",
       "7   @kakaomobility_20                       음성으로 편리하게 2018-10-17     2458.0   \n",
       "4           @brunch_2                    브런치 작가 신청 안내 2015-06-18     4068.0   \n",
       "33        @brunch_139            작가님에게 새로운 제안이 도착했습니다 2018-08-08     1047.0   \n",
       "18        @brunch_152           작가 인터뷰 - 임희정 아나운서의 고백 2019-02-27     1611.0   \n",
       "2           @brunch_1               글이 작품이 되는 공간, 브런치 2015-06-12     5282.0   \n",
       "26        @brunch_111         브런치 책방에  작가님의 책을 입고해주세요 2017-09-28     1326.0   \n",
       "35       @jmg5308_163       이효리를 통해 바라본 자존감 높은 사람의 특징 2017-08-04      995.0   \n",
       "38       @dong02_1372            자존감을 높이는 언어습관 3가지 방법 2017-10-11      876.0   \n",
       "31         @nplusu_49                     벨기에의 3가지 보물 2016-11-10     1170.0   \n",
       "45      @needleworm_1  크롤러를 이용해 우체국 등기우편을 자동으로 정리해 보자 2018-11-01      796.0   \n",
       "\n",
       "    rk_x                         title_y   reg_dt_y  user_id_y     rk_y  \\\n",
       "7    8.0                       음성으로 편리하게 2018-10-17       14.0  64179.0   \n",
       "4    5.0                    브런치 작가 신청 안내 2015-06-18      232.0   3216.0   \n",
       "33  34.0            작가님에게 새로운 제안이 도착했습니다 2018-08-08      474.0    750.0   \n",
       "18  19.0           작가 인터뷰 - 임희정 아나운서의 고백 2019-02-27      480.0    730.0   \n",
       "2    3.0               글이 작품이 되는 공간, 브런치 2015-06-12      528.0    569.0   \n",
       "26  27.0         브런치 책방에  작가님의 책을 입고해주세요 2017-09-28      702.0    315.0   \n",
       "35  36.0       이효리를 통해 바라본 자존감 높은 사람의 특징 2017-08-04      795.0    233.0   \n",
       "38  39.0            자존감을 높이는 언어습관 3가지 방법 2017-10-11      880.0    185.0   \n",
       "31  32.0                     벨기에의 3가지 보물 2016-11-10      900.0    175.0   \n",
       "45  46.0  크롤러를 이용해 우체국 등기우편을 자동으로 정리해 보자 2018-11-01      905.0    173.0   \n",
       "\n",
       "    diff_rk  \n",
       "7  -64171.0  \n",
       "4   -3211.0  \n",
       "33   -716.0  \n",
       "18   -711.0  \n",
       "2    -566.0  \n",
       "26   -288.0  \n",
       "35   -197.0  \n",
       "38   -146.0  \n",
       "31   -143.0  \n",
       "45   -127.0  "
      ]
     },
     "execution_count": 139,
     "metadata": {},
     "output_type": "execute_result"
    }
   ],
   "source": [
    "# 신규 독자 소비수 상위 50개 글 중 단골 독자의 순위 차가 많이 나는 글\n",
    "off_data_lu_rk[off_data_lu_rk.rk_x <= 50].sort_values(by='diff_rk', ascending=True).head(10)"
   ]
  },
  {
   "cell_type": "code",
   "execution_count": 140,
   "metadata": {},
   "outputs": [
    {
     "data": {
      "text/html": [
       "<div>\n",
       "<style scoped>\n",
       "    .dataframe tbody tr th:only-of-type {\n",
       "        vertical-align: middle;\n",
       "    }\n",
       "\n",
       "    .dataframe tbody tr th {\n",
       "        vertical-align: top;\n",
       "    }\n",
       "\n",
       "    .dataframe thead th {\n",
       "        text-align: right;\n",
       "    }\n",
       "</style>\n",
       "<table border=\"1\" class=\"dataframe\">\n",
       "  <thead>\n",
       "    <tr style=\"text-align: right;\">\n",
       "      <th></th>\n",
       "      <th>article_id</th>\n",
       "      <th>title_x</th>\n",
       "      <th>reg_dt_x</th>\n",
       "      <th>user_id_x</th>\n",
       "      <th>rk_x</th>\n",
       "      <th>title_y</th>\n",
       "      <th>reg_dt_y</th>\n",
       "      <th>user_id_y</th>\n",
       "      <th>rk_y</th>\n",
       "      <th>diff_rk</th>\n",
       "    </tr>\n",
       "  </thead>\n",
       "  <tbody>\n",
       "    <tr>\n",
       "      <th>753</th>\n",
       "      <td>@doyeonsunim_240</td>\n",
       "      <td>자기 관리의 시작</td>\n",
       "      <td>2018-08-06</td>\n",
       "      <td>117.0</td>\n",
       "      <td>754.0</td>\n",
       "      <td>자기 관리의 시작</td>\n",
       "      <td>2018-08-06</td>\n",
       "      <td>1608.0</td>\n",
       "      <td>37.0</td>\n",
       "      <td>717.0</td>\n",
       "    </tr>\n",
       "    <tr>\n",
       "      <th>504</th>\n",
       "      <td>@boboc_72</td>\n",
       "      <td>여름, 수박을 먹는 계절</td>\n",
       "      <td>2018-08-12</td>\n",
       "      <td>151.0</td>\n",
       "      <td>505.0</td>\n",
       "      <td>여름, 수박을 먹는 계절</td>\n",
       "      <td>2018-08-12</td>\n",
       "      <td>1473.0</td>\n",
       "      <td>49.0</td>\n",
       "      <td>456.0</td>\n",
       "    </tr>\n",
       "    <tr>\n",
       "      <th>434</th>\n",
       "      <td>@kam_33</td>\n",
       "      <td>많이 먹은 다음날 반드시 지켜야 할 3가지 습관</td>\n",
       "      <td>2018-08-09</td>\n",
       "      <td>167.0</td>\n",
       "      <td>435.0</td>\n",
       "      <td>많이 먹은 다음날 반드시 지켜야 할 3가지 습관</td>\n",
       "      <td>2018-08-09</td>\n",
       "      <td>1751.0</td>\n",
       "      <td>29.0</td>\n",
       "      <td>406.0</td>\n",
       "    </tr>\n",
       "    <tr>\n",
       "      <th>261</th>\n",
       "      <td>@jooyoon_51</td>\n",
       "      <td>구질구질한 연애</td>\n",
       "      <td>2018-08-01</td>\n",
       "      <td>227.0</td>\n",
       "      <td>262.0</td>\n",
       "      <td>구질구질한 연애</td>\n",
       "      <td>2018-08-01</td>\n",
       "      <td>1750.0</td>\n",
       "      <td>30.0</td>\n",
       "      <td>232.0</td>\n",
       "    </tr>\n",
       "    <tr>\n",
       "      <th>211</th>\n",
       "      <td>@greenut90_85</td>\n",
       "      <td>크림라떼와 브라우니</td>\n",
       "      <td>2018-08-05</td>\n",
       "      <td>257.0</td>\n",
       "      <td>212.0</td>\n",
       "      <td>크림라떼와 브라우니</td>\n",
       "      <td>2018-08-05</td>\n",
       "      <td>1573.0</td>\n",
       "      <td>41.0</td>\n",
       "      <td>171.0</td>\n",
       "    </tr>\n",
       "    <tr>\n",
       "      <th>199</th>\n",
       "      <td>@roysday_279</td>\n",
       "      <td>혼자서 어찌어찌 하다보니 1억을 넘겼다.</td>\n",
       "      <td>2018-11-03</td>\n",
       "      <td>266.0</td>\n",
       "      <td>200.0</td>\n",
       "      <td>혼자서 어찌어찌 하다보니 1억을 넘겼다.</td>\n",
       "      <td>2018-11-03</td>\n",
       "      <td>1659.0</td>\n",
       "      <td>36.0</td>\n",
       "      <td>164.0</td>\n",
       "    </tr>\n",
       "    <tr>\n",
       "      <th>162</th>\n",
       "      <td>@honeytip_940</td>\n",
       "      <td>뱃살 쏙 들어가게 하는 건강한 먹거리 6가지</td>\n",
       "      <td>2018-08-09</td>\n",
       "      <td>305.0</td>\n",
       "      <td>163.0</td>\n",
       "      <td>뱃살 쏙 들어가게 하는 건강한 먹거리 6가지</td>\n",
       "      <td>2018-08-09</td>\n",
       "      <td>2408.0</td>\n",
       "      <td>12.0</td>\n",
       "      <td>151.0</td>\n",
       "    </tr>\n",
       "    <tr>\n",
       "      <th>136</th>\n",
       "      <td>@tenbody_1297</td>\n",
       "      <td>매일 5분씩 참으면서 살 빼고 근육 늘리는 방법</td>\n",
       "      <td>2018-08-09</td>\n",
       "      <td>346.0</td>\n",
       "      <td>137.0</td>\n",
       "      <td>매일 5분씩 참으면서 살 빼고 근육 늘리는 방법</td>\n",
       "      <td>2018-08-09</td>\n",
       "      <td>2244.0</td>\n",
       "      <td>15.0</td>\n",
       "      <td>122.0</td>\n",
       "    </tr>\n",
       "    <tr>\n",
       "      <th>149</th>\n",
       "      <td>@merryseo_73</td>\n",
       "      <td>행복한가요? 얼마나 벌어요? 불안하진 않나요?</td>\n",
       "      <td>2018-11-22</td>\n",
       "      <td>318.0</td>\n",
       "      <td>150.0</td>\n",
       "      <td>행복한가요? 얼마나 벌어요? 불안하진 않나요?</td>\n",
       "      <td>2018-11-22</td>\n",
       "      <td>1742.0</td>\n",
       "      <td>31.0</td>\n",
       "      <td>119.0</td>\n",
       "    </tr>\n",
       "    <tr>\n",
       "      <th>115</th>\n",
       "      <td>@honeytip_945</td>\n",
       "      <td>물에 오이를 넣어 마시면 생기는 몸의 변화 5가지</td>\n",
       "      <td>2018-08-10</td>\n",
       "      <td>392.0</td>\n",
       "      <td>116.0</td>\n",
       "      <td>물에 오이를 넣어 마시면 생기는 몸의 변화 5가지</td>\n",
       "      <td>2018-08-10</td>\n",
       "      <td>2227.0</td>\n",
       "      <td>16.0</td>\n",
       "      <td>100.0</td>\n",
       "    </tr>\n",
       "  </tbody>\n",
       "</table>\n",
       "</div>"
      ],
      "text/plain": [
       "           article_id                      title_x   reg_dt_x  user_id_x  \\\n",
       "753  @doyeonsunim_240                    자기 관리의 시작 2018-08-06      117.0   \n",
       "504         @boboc_72                여름, 수박을 먹는 계절 2018-08-12      151.0   \n",
       "434           @kam_33   많이 먹은 다음날 반드시 지켜야 할 3가지 습관 2018-08-09      167.0   \n",
       "261       @jooyoon_51                     구질구질한 연애 2018-08-01      227.0   \n",
       "211     @greenut90_85                   크림라떼와 브라우니 2018-08-05      257.0   \n",
       "199      @roysday_279       혼자서 어찌어찌 하다보니 1억을 넘겼다. 2018-11-03      266.0   \n",
       "162     @honeytip_940     뱃살 쏙 들어가게 하는 건강한 먹거리 6가지 2018-08-09      305.0   \n",
       "136     @tenbody_1297   매일 5분씩 참으면서 살 빼고 근육 늘리는 방법 2018-08-09      346.0   \n",
       "149      @merryseo_73    행복한가요? 얼마나 벌어요? 불안하진 않나요? 2018-11-22      318.0   \n",
       "115     @honeytip_945  물에 오이를 넣어 마시면 생기는 몸의 변화 5가지 2018-08-10      392.0   \n",
       "\n",
       "      rk_x                      title_y   reg_dt_y  user_id_y  rk_y  diff_rk  \n",
       "753  754.0                    자기 관리의 시작 2018-08-06     1608.0  37.0    717.0  \n",
       "504  505.0                여름, 수박을 먹는 계절 2018-08-12     1473.0  49.0    456.0  \n",
       "434  435.0   많이 먹은 다음날 반드시 지켜야 할 3가지 습관 2018-08-09     1751.0  29.0    406.0  \n",
       "261  262.0                     구질구질한 연애 2018-08-01     1750.0  30.0    232.0  \n",
       "211  212.0                   크림라떼와 브라우니 2018-08-05     1573.0  41.0    171.0  \n",
       "199  200.0       혼자서 어찌어찌 하다보니 1억을 넘겼다. 2018-11-03     1659.0  36.0    164.0  \n",
       "162  163.0     뱃살 쏙 들어가게 하는 건강한 먹거리 6가지 2018-08-09     2408.0  12.0    151.0  \n",
       "136  137.0   매일 5분씩 참으면서 살 빼고 근육 늘리는 방법 2018-08-09     2244.0  15.0    122.0  \n",
       "149  150.0    행복한가요? 얼마나 벌어요? 불안하진 않나요? 2018-11-22     1742.0  31.0    119.0  \n",
       "115  116.0  물에 오이를 넣어 마시면 생기는 몸의 변화 5가지 2018-08-10     2227.0  16.0    100.0  "
      ]
     },
     "execution_count": 140,
     "metadata": {},
     "output_type": "execute_result"
    }
   ],
   "source": [
    "# 단골 독자 소비수 상위 50개 글 중 신규 독자의 순위 차가 많이 나는 긂\n",
    "off_data_lu_rk[off_data_lu_rk.rk_y <= 50].sort_valueㅠㅠㅠs(by='diff_rk', ascending=False).head(10)"
   ]
  },
  {
   "cell_type": "code",
   "execution_count": null,
   "metadata": {},
   "outputs": [],
   "source": []
  },
  {
   "cell_type": "code",
   "execution_count": null,
   "metadata": {},
   "outputs": [],
   "source": []
  },
  {
   "cell_type": "markdown",
   "metadata": {},
   "source": [
    "## 5. Following list"
   ]
  },
  {
   "cell_type": "markdown",
   "metadata": {},
   "source": [
    "### Following list 통계"
   ]
  },
  {
   "cell_type": "code",
   "execution_count": 142,
   "metadata": {},
   "outputs": [],
   "source": [
    "# following_list가 있는 유저\n",
    "following = user[user['following_list'].str.len() !=0 ]"
   ]
  },
  {
   "cell_type": "code",
   "execution_count": 145,
   "metadata": {},
   "outputs": [
    {
     "data": {
      "text/plain": [
       "0.9766120260781701"
      ]
     },
     "execution_count": 145,
     "metadata": {},
     "output_type": "execute_result"
    }
   ],
   "source": [
    "# 98%의 유저가 follow하는 작가가 있음\n",
    "\n",
    "following.shape[0] / user.shape[0]"
   ]
  },
  {
   "cell_type": "code",
   "execution_count": 147,
   "metadata": {},
   "outputs": [
    {
     "name": "stderr",
     "output_type": "stream",
     "text": [
      "<ipython-input-147-61612d5d8f94>:1: SettingWithCopyWarning: \n",
      "A value is trying to be set on a copy of a slice from a DataFrame.\n",
      "Try using .loc[row_indexer,col_indexer] = value instead\n",
      "\n",
      "See the caveats in the documentation: https://pandas.pydata.org/pandas-docs/stable/user_guide/indexing.html#returning-a-view-versus-a-copy\n",
      "  following['author_cnt'] = user['following_list'].str.len()\n"
     ]
    }
   ],
   "source": [
    "following['author_cnt'] = user['following_list'].str.len()"
   ]
  },
  {
   "cell_type": "code",
   "execution_count": 148,
   "metadata": {},
   "outputs": [
    {
     "data": {
      "text/plain": [
       "8.622620185179084"
      ]
     },
     "execution_count": 148,
     "metadata": {},
     "output_type": "execute_result"
    }
   ],
   "source": [
    "#평균 구독자수 \n",
    "following['author_cnt'].mean()"
   ]
  },
  {
   "cell_type": "code",
   "execution_count": 150,
   "metadata": {},
   "outputs": [
    {
     "name": "stderr",
     "output_type": "stream",
     "text": [
      "<ipython-input-150-13f4f9656b8f>:1: SettingWithCopyWarning: \n",
      "A value is trying to be set on a copy of a slice from a DataFrame.\n",
      "Try using .loc[row_indexer,col_indexer] = value instead\n",
      "\n",
      "See the caveats in the documentation: https://pandas.pydata.org/pandas-docs/stable/user_guide/indexing.html#returning-a-view-versus-a-copy\n",
      "  following['following_list'] = following['following_list'].apply(lambda x: ' '.join(x))\n"
     ]
    }
   ],
   "source": [
    "following['following_list'] = following['following_list'].apply(lambda x: ' '.join(x))"
   ]
  },
  {
   "cell_type": "code",
   "execution_count": 151,
   "metadata": {},
   "outputs": [],
   "source": [
    "def chainer(s):\n",
    "    return list(chain.from_iterable(s.str.split(' ')))"
   ]
  },
  {
   "cell_type": "code",
   "execution_count": 152,
   "metadata": {},
   "outputs": [],
   "source": [
    "following_lens = following['following_list'].str.split(' ').map(len)"
   ]
  },
  {
   "cell_type": "code",
   "execution_count": 153,
   "metadata": {},
   "outputs": [],
   "source": [
    "following_raw = pd.DataFrame({'id': np.repeat(following['id'], following_lens),\n",
    "                         'following_list': chainer(following['following_list'])})"
   ]
  },
  {
   "cell_type": "code",
   "execution_count": 154,
   "metadata": {},
   "outputs": [
    {
     "data": {
      "text/plain": [
       "@brunch         292413\n",
       "@dryjshin         9011\n",
       "@tenbody          8615\n",
       "@roysday          8500\n",
       "@yumileewyky      6116\n",
       "@varo             5688\n",
       "@yoonash          5653\n",
       "@imagineer        5483\n",
       "@lunarshore       5414\n",
       "@ebprux           5374\n",
       "@haneulalice      5341\n",
       "@suhanjang        4911\n",
       "@daljasee         4756\n",
       "@mobiinside       4743\n",
       "@sustainlife      4655\n",
       "@bang1999         4577\n",
       "@seochogirl       4441\n",
       "@annejeong        4426\n",
       "@eastgo           4387\n",
       "@hyejinchoi       4305\n",
       "Name: following_list, dtype: int64"
      ]
     },
     "execution_count": 154,
     "metadata": {},
     "output_type": "execute_result"
    }
   ],
   "source": [
    "# 가장 구독하는 유저가 많은 작가 리스트\n",
    "following_raw['following_list'].value_counts(ascending=False)[:20]"
   ]
  },
  {
   "cell_type": "code",
   "execution_count": 155,
   "metadata": {},
   "outputs": [],
   "source": [
    "following_read = pd.merge(off_data, following_raw, how='inner', left_on=['user_id', 'author_id'], right_on=['id', 'following_list'])"
   ]
  },
  {
   "cell_type": "code",
   "execution_count": 156,
   "metadata": {},
   "outputs": [
    {
     "data": {
      "text/plain": [
       "0.3485478621423351"
      ]
     },
     "execution_count": 156,
     "metadata": {},
     "output_type": "execute_result"
    }
   ],
   "source": [
    "following_read.shape[0] / off_data.shape[0]"
   ]
  }
 ],
 "metadata": {
  "kernelspec": {
   "display_name": "Python 3",
   "language": "python",
   "name": "python3"
  },
  "language_info": {
   "codemirror_mode": {
    "name": "ipython",
    "version": 3
   },
   "file_extension": ".py",
   "mimetype": "text/x-python",
   "name": "python",
   "nbconvert_exporter": "python",
   "pygments_lexer": "ipython3",
   "version": "3.8.5"
  }
 },
 "nbformat": 4,
 "nbformat_minor": 4
}
